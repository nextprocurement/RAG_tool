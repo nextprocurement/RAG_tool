{
 "cells": [
  {
   "cell_type": "code",
   "execution_count": 2,
   "id": "0ceea778-604e-4f6b-aac9-4abdf67cca11",
   "metadata": {},
   "outputs": [],
   "source": [
    "import pandas as pd\n",
    "import pathlib"
   ]
  },
  {
   "cell_type": "code",
   "execution_count": 3,
   "id": "b093d53f-844e-4444-ba8d-aba943533395",
   "metadata": {},
   "outputs": [],
   "source": [
    "path_models = pathlib.Path(\"/export/usuarios_ml4ds/jarenas/github/IntelComp/ITMT/topicmodeler/WP6models_old/TMmodels/Cordis_Kwds3_AI_10tpc/TMmodel\")"
   ]
  },
  {
   "cell_type": "code",
   "execution_count": 4,
   "id": "f61002da-343b-461a-9179-b1a2f0a8f998",
   "metadata": {},
   "outputs": [],
   "source": [
    "path_models = [\n",
    "    pathlib.Path(\"/export/usuarios_ml4ds/jarenas/github/IntelComp/ITMT/topicmodeler/WP6models_old/TMmodels/OA_cancer_25tpc/TMmodel\"),\n",
    "    pathlib.Path(\"/export/usuarios_ml4ds/jarenas/github/IntelComp/ITMT/topicmodeler/WP6models_old/TMmodels/S2_Kwds3_AI_25tpc/TMmodel\"),\n",
    "    pathlib.Path(\"/export/usuarios_ml4ds/jarenas/github/IntelComp/ITMT/topicmodeler/WP6models_old/TMmodels/Cordis_Kwds3_AI_10tpc/TMmodel\"),\n",
    "    pathlib.Path(\"/export/usuarios_ml4ds/jarenas/github/IntelComp/ITMT/topicmodeler/WP6models_old/TMmodels/PATSTAT_Kwds3_AI_25tpc/TMmodel\"),\n",
    "    pathlib.Path(\"/export/usuarios_ml4ds/jarenas/github/IntelComp/ITMT/topicmodeler/WP6models_old/TMmodels/OA_Kwds3_AI_30tpc/TMmodel\"),\n",
    "    pathlib.Path(\"/export/usuarios_ml4ds/jarenas/github/IntelComp/ITMT/topicmodeler/WP6models_old/TMmodels/OA_Kwds3_AI_25tpc/TMmodel\"),\n",
    "    pathlib.Path(\"/export/usuarios_ml4ds/jarenas/github/IntelComp/ITMT/topicmodeler/WP6models_old/TMmodels/Cordis_Kwds3_AI_26tpc/TMmodel\"),\n",
    "]"
   ]
  },
  {
   "cell_type": "code",
   "execution_count": 5,
   "id": "44c39b78-45e9-4c36-b1f3-f3991e36eb73",
   "metadata": {},
   "outputs": [],
   "source": [
    "all_tpcs = []\n",
    "all_labels = []\n",
    "\n",
    "for el in path_models:\n",
    "    with open(el.joinpath(\"tpc_descriptions.txt\"), 'r') as file:\n",
    "        tpc_descriptions = [line.strip() for line in file.readlines()]\n",
    "\n",
    "    with open(el.joinpath(\"tpc_labels.txt\"), 'r') as file:\n",
    "        tpc_labels = [line.strip() for line in file.readlines()]\n",
    "\n",
    "    all_tpcs += tpc_descriptions\n",
    "    all_labels += tpc_labels"
   ]
  },
  {
   "cell_type": "code",
   "execution_count": 6,
   "id": "a41c1410-dc58-46ee-b804-faf000722d5a",
   "metadata": {},
   "outputs": [],
   "source": [
    "df_labels = pd.DataFrame(\n",
    "    {\n",
    "        \"tpc_description\": all_tpcs,\n",
    "        \"tpc_labels\": all_labels\n",
    "    }\n",
    ")\n",
    "df_labels.to_excel(\"/export/usuarios_ml4ds/lbartolome/Repos/repos_con_carlos/RAG_tool/data/topic_labeller_tr_data.xlsx\")"
   ]
  },
  {
   "cell_type": "code",
   "execution_count": 7,
   "id": "bdff3585-8c77-4251-8c99-60a1d9cdc78d",
   "metadata": {},
   "outputs": [
    {
     "data": {
      "text/html": [
       "<div>\n",
       "<style scoped>\n",
       "    .dataframe tbody tr th:only-of-type {\n",
       "        vertical-align: middle;\n",
       "    }\n",
       "\n",
       "    .dataframe tbody tr th {\n",
       "        vertical-align: top;\n",
       "    }\n",
       "\n",
       "    .dataframe thead th {\n",
       "        text-align: right;\n",
       "    }\n",
       "</style>\n",
       "<table border=\"1\" class=\"dataframe\">\n",
       "  <thead>\n",
       "    <tr style=\"text-align: right;\">\n",
       "      <th></th>\n",
       "      <th>tpc_description</th>\n",
       "      <th>tpc_labels</th>\n",
       "    </tr>\n",
       "  </thead>\n",
       "  <tbody>\n",
       "    <tr>\n",
       "      <th>0</th>\n",
       "      <td>protein, binding, transcription, DNA, kinase, ...</td>\n",
       "      <td>Transcription and Molecular Mutations</td>\n",
       "    </tr>\n",
       "    <tr>\n",
       "      <th>1</th>\n",
       "      <td>molecule, biomarker, biological, therapeutic, ...</td>\n",
       "      <td>Biomarkers and Genomic Profiling</td>\n",
       "    </tr>\n",
       "    <tr>\n",
       "      <th>2</th>\n",
       "      <td>immunity, mouse, dendritic_cell, cytokine, lym...</td>\n",
       "      <td>Immunotherapy and Immune Response</td>\n",
       "    </tr>\n",
       "    <tr>\n",
       "      <th>3</th>\n",
       "      <td>cystic, benign, metastasis, dog, imaging, neop...</td>\n",
       "      <td>Medical Imaging and Diagnosis</td>\n",
       "    </tr>\n",
       "    <tr>\n",
       "      <th>4</th>\n",
       "      <td>nanoparticle, cytotoxicity, binding, peptide, ...</td>\n",
       "      <td>Nanotechnology and Drug Delivery</td>\n",
       "    </tr>\n",
       "    <tr>\n",
       "      <th>...</th>\n",
       "      <td>...</td>\n",
       "      <td>...</td>\n",
       "    </tr>\n",
       "    <tr>\n",
       "      <th>161</th>\n",
       "      <td>deep_learning, computing, architecture, memory...</td>\n",
       "      <td>Cognitive Computing and Neuromorphic Hardware</td>\n",
       "    </tr>\n",
       "    <tr>\n",
       "      <th>162</th>\n",
       "      <td>machine_translation, translation, language, tr...</td>\n",
       "      <td>Machine Translation and Language Processing</td>\n",
       "    </tr>\n",
       "    <tr>\n",
       "      <th>163</th>\n",
       "      <td>agent, reasoning, multi_agent, verification, c...</td>\n",
       "      <td>Multi-Agent Systems and Logic Reasoning</td>\n",
       "    </tr>\n",
       "    <tr>\n",
       "      <th>164</th>\n",
       "      <td>vehicle, traffic, safety, real_time, autonomou...</td>\n",
       "      <td>Autonomous Vehicles and Traffic Safety</td>\n",
       "    </tr>\n",
       "    <tr>\n",
       "      <th>165</th>\n",
       "      <td>aircraft, flight, drone, trajectory, workload,...</td>\n",
       "      <td>Aircraft and Flight Trajectory</td>\n",
       "    </tr>\n",
       "  </tbody>\n",
       "</table>\n",
       "<p>166 rows × 2 columns</p>\n",
       "</div>"
      ],
      "text/plain": [
       "                                       tpc_description  \\\n",
       "0    protein, binding, transcription, DNA, kinase, ...   \n",
       "1    molecule, biomarker, biological, therapeutic, ...   \n",
       "2    immunity, mouse, dendritic_cell, cytokine, lym...   \n",
       "3    cystic, benign, metastasis, dog, imaging, neop...   \n",
       "4    nanoparticle, cytotoxicity, binding, peptide, ...   \n",
       "..                                                 ...   \n",
       "161  deep_learning, computing, architecture, memory...   \n",
       "162  machine_translation, translation, language, tr...   \n",
       "163  agent, reasoning, multi_agent, verification, c...   \n",
       "164  vehicle, traffic, safety, real_time, autonomou...   \n",
       "165  aircraft, flight, drone, trajectory, workload,...   \n",
       "\n",
       "                                        tpc_labels  \n",
       "0            Transcription and Molecular Mutations  \n",
       "1                 Biomarkers and Genomic Profiling  \n",
       "2                Immunotherapy and Immune Response  \n",
       "3                    Medical Imaging and Diagnosis  \n",
       "4                 Nanotechnology and Drug Delivery  \n",
       "..                                             ...  \n",
       "161  Cognitive Computing and Neuromorphic Hardware  \n",
       "162    Machine Translation and Language Processing  \n",
       "163        Multi-Agent Systems and Logic Reasoning  \n",
       "164         Autonomous Vehicles and Traffic Safety  \n",
       "165                 Aircraft and Flight Trajectory  \n",
       "\n",
       "[166 rows x 2 columns]"
      ]
     },
     "execution_count": 7,
     "metadata": {},
     "output_type": "execute_result"
    }
   ],
   "source": [
    "df_labels"
   ]
  }
 ],
 "metadata": {
  "kernelspec": {
   "display_name": "Python 3 (ipykernel)",
   "language": "python",
   "name": "python3"
  },
  "language_info": {
   "codemirror_mode": {
    "name": "ipython",
    "version": 3
   },
   "file_extension": ".py",
   "mimetype": "text/x-python",
   "name": "python",
   "nbconvert_exporter": "python",
   "pygments_lexer": "ipython3",
   "version": "3.10.11"
  }
 },
 "nbformat": 4,
 "nbformat_minor": 5
}
