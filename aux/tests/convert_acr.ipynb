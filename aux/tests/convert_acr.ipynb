{
 "cells": [
  {
   "cell_type": "code",
   "execution_count": 32,
   "id": "0a5a4522-de54-47b0-bbee-fa615906b09d",
   "metadata": {},
   "outputs": [],
   "source": [
    "import pandas as pd"
   ]
  },
  {
   "cell_type": "code",
   "execution_count": 33,
   "id": "4e49bb36-24fa-46e9-906b-c42a4143819c",
   "metadata": {},
   "outputs": [],
   "source": [
    "df = pd.read_excel(\"/export/usuarios_ml4ds/cggamella/RAG_tool/files/anotacion_manual/fam/datos_modelo_es_Mallet_df_merged_14_topics_45_ENTREGABLE_both.xlsx\")"
   ]
  },
  {
   "cell_type": "code",
   "execution_count": 34,
   "id": "79f53f2b-38ff-4625-af92-84818fa9b2fc",
   "metadata": {},
   "outputs": [
    {
     "data": {
      "text/plain": [
       "Index(['texto_sin_preprocesar', 'Acronyms Detected(LLM)', 'Expansions'], dtype='object')"
      ]
     },
     "execution_count": 34,
     "metadata": {},
     "output_type": "execute_result"
    }
   ],
   "source": [
    "df.columns"
   ]
  },
  {
   "cell_type": "code",
   "execution_count": 35,
   "id": "d1723698-78ac-450b-b26f-9825672e25b1",
   "metadata": {},
   "outputs": [
    {
     "data": {
      "text/html": [
       "<div>\n",
       "<style scoped>\n",
       "    .dataframe tbody tr th:only-of-type {\n",
       "        vertical-align: middle;\n",
       "    }\n",
       "\n",
       "    .dataframe tbody tr th {\n",
       "        vertical-align: top;\n",
       "    }\n",
       "\n",
       "    .dataframe thead th {\n",
       "        text-align: right;\n",
       "    }\n",
       "</style>\n",
       "<table border=\"1\" class=\"dataframe\">\n",
       "  <thead>\n",
       "    <tr style=\"text-align: right;\">\n",
       "      <th></th>\n",
       "      <th>texto_sin_preprocesar</th>\n",
       "      <th>Acronyms Detected(LLM)</th>\n",
       "      <th>Expansions</th>\n",
       "      <th>text_substituted</th>\n",
       "    </tr>\n",
       "  </thead>\n",
       "  <tbody>\n",
       "    <tr>\n",
       "      <th>9</th>\n",
       "      <td>Obra de reparación de vigas de hormigón visto ...</td>\n",
       "      <td>minhafp</td>\n",
       "      <td>Ministerio de Hacienda y Función Pública</td>\n",
       "      <td>obra de reparación de vigas de hormigón visto ...</td>\n",
       "    </tr>\n",
       "    <tr>\n",
       "      <th>10</th>\n",
       "      <td>Obras saneado, restauración y limpieza de fals...</td>\n",
       "      <td>dg</td>\n",
       "      <td>Dirección General</td>\n",
       "      <td>obras saneado, restauración y limpieza de fals...</td>\n",
       "    </tr>\n",
       "    <tr>\n",
       "      <th>12</th>\n",
       "      <td>Ejecución de taladros para replanteo del cable...</td>\n",
       "      <td>pº</td>\n",
       "      <td>Paseo</td>\n",
       "      <td>ejecución de taladros para replanteo del cable...</td>\n",
       "    </tr>\n",
       "    <tr>\n",
       "      <th>13</th>\n",
       "      <td>Obra de reestructuración de climatización en p...</td>\n",
       "      <td>cpd</td>\n",
       "      <td>Centro de Procesamiento de Datos</td>\n",
       "      <td>obra de reestructuración de climatización en p...</td>\n",
       "    </tr>\n",
       "    <tr>\n",
       "      <th>14</th>\n",
       "      <td>Instalación eléctrica de media tensión para la...</td>\n",
       "      <td>cnm</td>\n",
       "      <td>Centro Nacional de Microbiología</td>\n",
       "      <td>instalación eléctrica de media tensión para la...</td>\n",
       "    </tr>\n",
       "    <tr>\n",
       "      <th>...</th>\n",
       "      <td>...</td>\n",
       "      <td>...</td>\n",
       "      <td>...</td>\n",
       "      <td>...</td>\n",
       "    </tr>\n",
       "    <tr>\n",
       "      <th>34229</th>\n",
       "      <td>Reforma de la red de infraestructuras educativ...</td>\n",
       "      <td>ite, ies, ceip</td>\n",
       "      <td>Instalaciones Técnicas Especiales, Centro de E...</td>\n",
       "      <td>reforma de la red de infraestructuras educativ...</td>\n",
       "    </tr>\n",
       "    <tr>\n",
       "      <th>34230</th>\n",
       "      <td>Reforma de la red de infraestructuras educativ...</td>\n",
       "      <td>ceip, ies, eei</td>\n",
       "      <td>Instituto de Enseñanza Secundaria, Centro de E...</td>\n",
       "      <td>reforma de la red de infraestructuras educativ...</td>\n",
       "    </tr>\n",
       "    <tr>\n",
       "      <th>34239</th>\n",
       "      <td>Obra de dosificación de reactivos para la miti...</td>\n",
       "      <td>edar</td>\n",
       "      <td>Estación de Tratamiento de Aguas Residuales</td>\n",
       "      <td>obra de dosificación de reactivos para la miti...</td>\n",
       "    </tr>\n",
       "    <tr>\n",
       "      <th>34243</th>\n",
       "      <td>Contrato de emergencia de obra civil y de trab...</td>\n",
       "      <td>dana</td>\n",
       "      <td>Deslizamiento de tierras</td>\n",
       "      <td>contrato de emergencia de obra civil y de trab...</td>\n",
       "    </tr>\n",
       "    <tr>\n",
       "      <th>34255</th>\n",
       "      <td>Obras de la línea eléctrica de alta tensión pa...</td>\n",
       "      <td>etap</td>\n",
       "      <td>Estación de Transformación de Alimentación Púb...</td>\n",
       "      <td>obras de la línea eléctrica de alta tensión pa...</td>\n",
       "    </tr>\n",
       "  </tbody>\n",
       "</table>\n",
       "<p>9733 rows × 4 columns</p>\n",
       "</div>"
      ],
      "text/plain": [
       "                                   texto_sin_preprocesar  \\\n",
       "9      Obra de reparación de vigas de hormigón visto ...   \n",
       "10     Obras saneado, restauración y limpieza de fals...   \n",
       "12     Ejecución de taladros para replanteo del cable...   \n",
       "13     Obra de reestructuración de climatización en p...   \n",
       "14     Instalación eléctrica de media tensión para la...   \n",
       "...                                                  ...   \n",
       "34229  Reforma de la red de infraestructuras educativ...   \n",
       "34230  Reforma de la red de infraestructuras educativ...   \n",
       "34239  Obra de dosificación de reactivos para la miti...   \n",
       "34243  Contrato de emergencia de obra civil y de trab...   \n",
       "34255  Obras de la línea eléctrica de alta tensión pa...   \n",
       "\n",
       "      Acronyms Detected(LLM)  \\\n",
       "9                    minhafp   \n",
       "10                        dg   \n",
       "12                        pº   \n",
       "13                       cpd   \n",
       "14                       cnm   \n",
       "...                      ...   \n",
       "34229         ite, ies, ceip   \n",
       "34230         ceip, ies, eei   \n",
       "34239                   edar   \n",
       "34243                   dana   \n",
       "34255                   etap   \n",
       "\n",
       "                                              Expansions  \\\n",
       "9               Ministerio de Hacienda y Función Pública   \n",
       "10                                     Dirección General   \n",
       "12                                                 Paseo   \n",
       "13                      Centro de Procesamiento de Datos   \n",
       "14                      Centro Nacional de Microbiología   \n",
       "...                                                  ...   \n",
       "34229  Instalaciones Técnicas Especiales, Centro de E...   \n",
       "34230  Instituto de Enseñanza Secundaria, Centro de E...   \n",
       "34239        Estación de Tratamiento de Aguas Residuales   \n",
       "34243                           Deslizamiento de tierras   \n",
       "34255  Estación de Transformación de Alimentación Púb...   \n",
       "\n",
       "                                        text_substituted  \n",
       "9      obra de reparación de vigas de hormigón visto ...  \n",
       "10     obras saneado, restauración y limpieza de fals...  \n",
       "12     ejecución de taladros para replanteo del cable...  \n",
       "13     obra de reestructuración de climatización en p...  \n",
       "14     instalación eléctrica de media tensión para la...  \n",
       "...                                                  ...  \n",
       "34229  reforma de la red de infraestructuras educativ...  \n",
       "34230  reforma de la red de infraestructuras educativ...  \n",
       "34239  obra de dosificación de reactivos para la miti...  \n",
       "34243  contrato de emergencia de obra civil y de trab...  \n",
       "34255  obras de la línea eléctrica de alta tensión pa...  \n",
       "\n",
       "[9733 rows x 4 columns]"
      ]
     },
     "execution_count": 35,
     "metadata": {},
     "output_type": "execute_result"
    }
   ],
   "source": [
    "def substitute_acronyms(row):\n",
    "    if row['Expansions'] != \"/\":\n",
    "        text = row['texto_sin_preprocesar'].lower()\n",
    "        acronyms = row['Acronyms Detected(LLM)'].split(', ') \n",
    "        expansions = row['Expansions'].split(', ')\n",
    "        \n",
    "        for acronym, expansion in zip(acronyms, expansions):\n",
    "            text = text.replace(acronym, expansion)\n",
    "        return text\n",
    "    else:\n",
    "        return row['texto_sin_preprocesar'].lower()\n",
    "\n",
    "df['text_substituted'] = df.apply(substitute_acronyms, axis=1)\n",
    "\n",
    "df[df.Expansions != \"/\"]"
   ]
  },
  {
   "cell_type": "code",
   "execution_count": 36,
   "id": "ee7ce22d-965b-4702-b05b-f1bd53c96912",
   "metadata": {},
   "outputs": [
    {
     "data": {
      "text/plain": [
       "'Obra de reparación de vigas de hormigón visto en el edificio del MINHAFP sito en C/ Panamá 1 de Madrid.'"
      ]
     },
     "execution_count": 36,
     "metadata": {},
     "output_type": "execute_result"
    }
   ],
   "source": [
    "df[df.Expansions != \"/\"].iloc[0].texto_sin_preprocesar"
   ]
  },
  {
   "cell_type": "code",
   "execution_count": 41,
   "id": "0cfb1406-032a-4c89-83b6-f096c63afd19",
   "metadata": {},
   "outputs": [
    {
     "data": {
      "text/plain": [
       "'reforma de la red de infraestructuras educativas de la comunidad de madrid mediante: \"sustitución de cubiertas y adecuación de pistas deportivas en el Instituto de Enseñanza Secundaria valdemera de velilla de san antonio\", \"mejora de accesibilidad y subsanación de deficiencias de ite en el Instituto de Enseñanza Secundaria san marcos de san martín de la vega\", \"mejora de accesibilidad en el Centro de Educación Infantil y Primaria “siglo xxi” de leganés\", \"aislamiento de cubierta e instalación de pérgolas en la Escuela de Educación Infantil fábulas y leyendas de móstoles\" y \"reparación de pista deportiva en el Centro de Educación Infantil y Primaria antonio nebrija de móstoles\".'"
      ]
     },
     "execution_count": 41,
     "metadata": {},
     "output_type": "execute_result"
    }
   ],
   "source": [
    "df[df.Expansions != \"/\"].loc[34230].text_substituted"
   ]
  },
  {
   "cell_type": "code",
   "execution_count": 38,
   "id": "5ee3d5ba-f135-41cb-8f9e-001825a332ed",
   "metadata": {},
   "outputs": [],
   "source": [
    "df[\"id_tm\"] = range(len(df))"
   ]
  },
  {
   "cell_type": "code",
   "execution_count": 39,
   "id": "39d9ad56-278f-4a25-b1db-90aaa300053c",
   "metadata": {},
   "outputs": [],
   "source": [
    "df.to_parquet(\"/export/usuarios_ml4ds/lbartolome/Repos/repos_con_carlos/RAG_tool/data/out/optimized/1.acronym_detection_expansion/datos_modelo_es_Mallet_df_merged_14_topics_45_ENTREGABLE.parquet\")"
   ]
  }
 ],
 "metadata": {
  "kernelspec": {
   "display_name": "Python 3 (ipykernel)",
   "language": "python",
   "name": "python3"
  },
  "language_info": {
   "codemirror_mode": {
    "name": "ipython",
    "version": 3
   },
   "file_extension": ".py",
   "mimetype": "text/x-python",
   "name": "python",
   "nbconvert_exporter": "python",
   "pygments_lexer": "ipython3",
   "version": "3.10.11"
  }
 },
 "nbformat": 4,
 "nbformat_minor": 5
}
