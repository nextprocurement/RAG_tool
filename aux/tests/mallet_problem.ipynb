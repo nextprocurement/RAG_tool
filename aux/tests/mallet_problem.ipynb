{
 "cells": [
  {
   "cell_type": "code",
   "execution_count": 13,
   "id": "f4cd6927-04c4-4fda-bab6-ab9dec7f92ae",
   "metadata": {},
   "outputs": [],
   "source": [
    "import pandas as pd\n",
    "import numpy as np\n",
    "import pathlib\n",
    "from sklearn.preprocessing import normalize"
   ]
  },
  {
   "cell_type": "code",
   "execution_count": 7,
   "id": "fde6d7f6-f327-45e2-87e3-f8545a3f6a51",
   "metadata": {},
   "outputs": [],
   "source": [
    "def file_lines(fname):\n",
    "    \"\"\"\n",
    "    Count number of lines in file\n",
    "\n",
    "    Parameters\n",
    "    ----------\n",
    "    fname: Path\n",
    "        the file whose number of lines is calculated\n",
    "\n",
    "    Returns\n",
    "    -------\n",
    "    number of lines\n",
    "    \"\"\"\n",
    "    with fname.open('r', encoding='utf8') as f:\n",
    "        for i, l in enumerate(f):\n",
    "            pass\n",
    "    return i + 1"
   ]
  },
  {
   "cell_type": "code",
   "execution_count": 6,
   "id": "19997f90-adb2-4be1-99ba-7b2d9b633067",
   "metadata": {},
   "outputs": [],
   "source": [
    "path_model = pathlib.Path(\"/export/usuarios_ml4ds/lbartolome/Repos/repos_con_carlos/RAG_tool/data/out/optimized/4.training/datos_modelo_es_Mallet_df_merged_14_topics_45_ENTREGABLE/modelFiles\")"
   ]
  },
  {
   "cell_type": "code",
   "execution_count": 33,
   "id": "f0020787-1adb-40a9-b2a4-3dd997bcf2db",
   "metadata": {},
   "outputs": [],
   "source": [
    "wtcFile = pathlib.Path(\"/export/usuarios_ml4ds/lbartolome/Repos/repos_con_carlos/RAG_tool/data/out/non_optimized/4.training/datos_modelo_es_Mallet_df_merged_14_topics_45_ENTREGABLE/MalletLda_14/modelFiles/word-topic-counts.txt\")\n",
    "\n",
    "vocab_size = file_lines(wtcFile)\n",
    "betas = np.zeros((14, vocab_size))\n",
    "vocab = []\n",
    "term_freq = np.zeros((vocab_size,))\n",
    "with wtcFile.open('r', encoding='utf8') as fin:\n",
    "    for i, line in enumerate(fin):\n",
    "        elements = line.split()\n",
    "        vocab.append(elements[1])\n",
    "        for counts in elements[2:]:\n",
    "            tpc = int(counts.split(':')[0])\n",
    "            cnt = int(counts.split(':')[1])\n",
    "            betas[tpc, i] += cnt\n",
    "            term_freq[i] += cnt\n",
    "betas = normalize(betas, axis=1, norm='l1')"
   ]
  },
  {
   "cell_type": "code",
   "execution_count": 34,
   "id": "8f8a430f-a3de-43b9-9534-4e25dc202b92",
   "metadata": {},
   "outputs": [],
   "source": [
    "tfidf = False\n",
    "num_topics = 14\n",
    "top_k = 15"
   ]
  },
  {
   "cell_type": "code",
   "execution_count": 35,
   "id": "73dcbce9-dd38-4075-afdf-65e5227da6bb",
   "metadata": {},
   "outputs": [],
   "source": [
    "topics = dict()\n",
    "if tfidf:\n",
    "    betas_ds = np.copy(betas)\n",
    "    if np.min(betas_ds) < 1e-12:\n",
    "        betas_ds += 1e-12\n",
    "    deno = np.reshape((sum(np.log(betas_ds)) /\n",
    "                    num_topics), (len(betas.T), 1))\n",
    "    deno = np.ones((num_topics, 1)).dot(deno.T)\n",
    "    betas_ds = betas_ds * (np.log(betas_ds) - deno)\n",
    "    \n",
    "    for k in range(num_topics):\n",
    "        words = [\n",
    "            vocab[w]\n",
    "            for w in np.argsort(betas_ds[k])[::-1][0:top_k]\n",
    "        ]\n",
    "        topics[k] = words\n",
    "        \n",
    "else:\n",
    "    for k in range(num_topics):\n",
    "        words = [\n",
    "            vocab[w]\n",
    "            for w in np.argsort(betas[k])[::-1][0:top_k]\n",
    "        ]\n",
    "        topics[k] = words"
   ]
  },
  {
   "cell_type": "code",
   "execution_count": 29,
   "id": "78d30322-0429-4471-abd0-2fe979050289",
   "metadata": {},
   "outputs": [],
   "source": [
    "topics_tf = topics"
   ]
  },
  {
   "cell_type": "code",
   "execution_count": 25,
   "id": "68393a90-6626-465c-beda-2f1a22dcec01",
   "metadata": {},
   "outputs": [],
   "source": [
    "topics_n = topics"
   ]
  },
  {
   "cell_type": "code",
   "execution_count": 36,
   "id": "276f17a4-f3c4-4217-ad0d-ebf92d703ec7",
   "metadata": {},
   "outputs": [],
   "source": [
    "topics_nop = topics"
   ]
  },
  {
   "cell_type": "code",
   "execution_count": 37,
   "id": "eb5bf925-8c39-4af4-8524-5b72e2d9f9c5",
   "metadata": {},
   "outputs": [
    {
     "name": "stdout",
     "output_type": "stream",
     "text": [
      "--TOPIC 0\n",
      "['obras', 'instalación', 'ceip', 'deportivo', 'construcción', 'reforma', 'cubierto', 'zona', 'municipal', 'centro', 'sustitución', 'aula', 'adecuación', 'reparación', 'polideportivo']\n",
      "['cofinanciación', 'europeo_desarrollo', 'actuación', 'regional_fondo', 'urbano_integrado', 'regional', 'instalación', 'estrategia_desarrollo', 'urbano_sostenible', 'integrado', 'rehabilitación', 'regional_plurirregional', 'fondo_europeo', 'regional_feder', 'centro']\n",
      "['cofinanciación', 'europeo_desarrollo', 'regional_fondo', 'urbano_integrado', 'estrategia_desarrollo', 'urbano_sostenible', 'regional_plurirregional', 'regional_feder', 'fondo_europeo', 'regional', 'integrado', 'desarrollo_regional', 'programa_operativo', 'regional_crecimiento', 'europeo_regional']\n",
      "\n",
      "\n",
      "--TOPIC 1\n",
      "['municipal', 'instalación', 'renovación', 'camino', 'proyecto', 'mejorar', 'plan', 'municipio', 'programa', 'obras', 'incluido_plan', 'plan_provincial', 'alumbrado_exterior', 'feder_crecimiento', 'actuación']\n",
      "['instalación', 'aire_acondicionado', 'protección', 'cubierto_sustitución', 'electricidad_calefacción', 'reparación_climatización', 'ascensor_fachada', 'termo_rótulo', 'vinilo_parquet', 'cambio_modificar', 'conservación_desmontaje', 'renovable_autoconsumo', 'generación_eléctrico', 'diputación_almería', 'municipio']\n",
      "['ascensor_fachada', 'reparación_climatización', 'electricidad_calefacción', 'cambio_modificar', 'vinilo_parquet', 'termo_rótulo', 'cubierto_sustitución', 'aire_acondicionado', 'protección', 'instalación', 'conservación_desmontaje', 'operación_seleccionado', 'diputación_almería', 'termo_puerta', 'centro_arrendado']\n",
      "\n",
      "\n",
      "--TOPIC 2\n",
      "['reparación', 'sustitución', 'cubierto', 'edificio', 'instalación', 'colocación', 'zona', 'puerta', 'exterior', 'fachada', 'interior', 'acceso', 'pintura', 'obras', 'revestimiento']\n",
      "['instalación', 'suministro', 'servicio', 'centro', 'eléctrico', 'mantenimiento', 'edificio', 'municipal', 'equipo', 'estación', 'adecuación', 'tensión', 'autoconsumo', 'construcción', 'fotovoltaico']\n",
      "['instalación', 'suministro', 'eléctrico', 'mantenimiento', 'autoconsumo', 'tensión', 'servicio', 'fotovoltaico', 'solar_fotovoltaico', 'edificio', 'estación', 'equipo', 'montaje', 'desmontaje', 'centro']\n",
      "\n",
      "\n",
      "--TOPIC 3\n",
      "['zona', 'actuación', 'acceso', 'mejorar', 'camino', 'él', 'espacio', 'pavimento', 'consistir', 'calle', 'actual', 'parque', 'servicio', 'municipio', 'adecuación']\n",
      "['centro', 'reparación', 'edificio', 'infantil_primaria', 'cubierto', 'sustitución', 'reforma', 'fachada', 'instalación', 'exterior', 'clase', 'interior', 'rehabilitación', 'planta', 'secundaria']\n",
      "['infantil_primaria', 'edificio', 'cubierto', 'centro', 'fachada', 'sustitución', 'secundaria', 'reparación', 'clase', 'planta', 'instituto_educación', 'patio', 'exterior', 'ventana', 'reforma']\n",
      "\n",
      "\n",
      "--TOPIC 4\n",
      "['europeo_desarrollo', 'programa_operativo', 'actuación', 'cofinanciado_fondo', 'fondo_europeo', 'regional_feder', 'feder', 'desarrollo_regional', 'obras', 'plurirregional_españa', 'proyecto', 'españa', 'rehabilitación', 'programa', 'urbano']\n",
      "['zona', 'actuación', 'acceso', 'mejorar', 'pavimento', 'pavimentación', 'instalación', 'actual', 'consistir', 'municipio', 'acondicionamiento', 'tramo', 'presente', 'reparación', 'servicio']\n",
      "['pavimento', 'acceso', 'mejorar', 'pavimentación', 'actual', 'pretender', 'tramo', 'dotar', 'superficie', 'permitir', 'señalización', 'asegurar', 'consistir', 'aparcamiento', 'actuación']\n",
      "\n",
      "\n",
      "--TOPIC 5\n",
      "['red', 'instalación', 'obras', 'agua', 'proyecto', 'depósito', 'reparación', 'agua_potable', 'colector', 'sistema', 'agua_residual', 'construcción', 'edar', 'sustitución', 'fase']\n",
      "['deporte', 'instalación', 'municipal', 'pista', 'cubierto', 'construcción', 'polideportivo', 'zona', 'sustitución', 'piscina', 'renovación', 'fútbol', 'pavimento', 'reforma', 'reparación']\n",
      "['deporte', 'pista', 'polideportivo', 'cubierto', 'municipal', 'fútbol', 'piscina', 'pavimento', 'sustitución', 'vestuario', 'frontón', 'pista_pádel', 'pista_atletismo', 'instalación', 'césped_artificial']\n",
      "\n",
      "\n",
      "--TOPIC 6\n",
      "['tramo', 'carretera', 'pk', 'camino', 'construcción', 'acceso', 'mejorar', 'reparación', 'obras', 'acondicionamiento', 'firme', 'proyecto', 'obra', 'zona', 'vía']\n",
      "['plan_recuperación', 'rural', 'incluido', 'municipal', 'financiado', 'actuación', 'provincia', 'resiliencia_financiado', 'plan_provincial', 'resiliencia', 'zona', 'next_generation', 'adjudicar_abierto', 'recuperación', 'europe']\n",
      "['plan_recuperación', 'rural', 'resiliencia_financiado', 'resiliencia', 'financiado', 'plan_provincial', 'next_generation', 'eu', 'generation_eu', 'adjudicar_abierto', 'simplificado', 'cooperación_servicio', 'co_instalación', 'fondo_europeo', 'refrigeración_adiabático']\n",
      "\n",
      "\n",
      "--TOPIC 7\n",
      "['edificio', 'obras', 'reforma', 'centro', 'adecuación', 'rehabilitación', 'madrid', 'reparación', 'construcción', 'calle', 'sito', 'local', 'acondicionamiento', 'municipal', 'situado']\n",
      "['reforma', 'centro', 'edificio', 'instalación', 'adecuación', 'planta', 'servicio', 'universidad', 'hospital_universitario', 'sustitución', 'laboratorio', 'acondicionamiento', 'ampliación', 'climatizado', 'instituto']\n",
      "['planta', 'edificio', 'hospital_universitario', 'reforma', 'universidad', 'laboratorio', 'adecuación', 'centro', 'instituto', 'climatizado', 'sede', 'oficina', 'hospital_clínico', 'instalación', 'campus']\n",
      "\n",
      "\n",
      "--TOPIC 8\n",
      "['instalación', 'servicio', 'suministro', 'mantenimiento', 'construcción', 'alquiler', 'montaje', 'municipal', 'centro', 'elemento', 'contrato', 'material', 'desmontaje', 'montaje_desmontaje', 'ayuntamiento']\n",
      "['restauración', 'municipal', 'actuación', 'término_municipal', 'consolidación', 'acondicionamiento', 'zona', 'servicio', 'conservación', 'fase', 'limpieza', 'construcción', 'recuperación', 'demolición', 'abierto_simplificado']\n",
      "['consolidación', 'restauración', 'incorporar_especial', 'carácter_relativo', 'inserción_sociolaboral', 'limpieza', 'forestal', 'término_municipal', 'persona_desempleo', 'recuperación', 'municipal', 'construcción_nicho', 'cementerio_municipal', 'arqueología', 'demolición']\n",
      "\n",
      "\n",
      "--TOPIC 9\n",
      "['obras', 'instalación', 'obra', 'plan_recuperación', 'protección_incendio', 'aire_acondicionado', 'cubierto_sustitución', 'electricidad_calefacción', 'reparación_climatización', 'ascensor_fachada', 'termo_rótulo', 'cambio_modificar', 'vinilo_parquet', 'transformación_resiliencia', 'financiado_unión']\n",
      "['reparación', 'instalación', 'sustitución', 'edificio', 'zona', 'cubierto', 'colocación', 'adecuación', 'planta', 'suministro', 'acceso', 'acondicionamiento', 'exterior', 'limpieza', 'estructura']\n",
      "['sustitución', 'cubierto', 'reparación', 'colocación', 'edificio', 'planta', 'tc', 'limpieza', 'pintura', 'fachada', 'metálico', 'ajardinamiento', 'falso_techo', 'acceso', 'exterior']\n",
      "\n",
      "\n",
      "--TOPIC 10\n",
      "['adecuación', 'obra', 'reforma', 'obras', 'instalación', 'sala', 'hospital_universitario', 'hospital', 'espacio', 'servicio', 'planta', 'edificio', 'centro', 'centro_salud', 'área']\n",
      "['instalación', 'ahorro', 'desarrollo_regional', 'fondo_europeo', 'renovación', 'alumbrado', 'crecimiento', 'energético', 'centro', 'sujeto_regulación', 'alumbrado_exterior', 'singular_local', 'local_favorecer', 'abierto_multicriterio', 'actuación']\n",
      "['desarrollo_regional', 'fondo_europeo', 'crecimiento', 'ahorro', 'sujeto_regulación', 'singular_local', 'alumbrado_exterior', 'local_favorecer', 'abierto_multicriterio', 'armonizado_simplificado', 'alumbrado', 'incluido_singular', 'energético', 'europeo_desarrollo', 'rehabilitación_energético']\n",
      "\n",
      "\n",
      "--TOPIC 11\n",
      "['calle', 'obras', 'camino', 'pavimentación', 'renovación', 'plaza', 'tramo', 'urbanización', 'proyecto', 'acondicionamiento', 'avenida', 'contrato', 'acceso', 'red', 'municipio']\n",
      "['renovación', 'saneamiento', 'pavimentación', 'red_abastecimiento', 'reparación', 'instalación', 'sustitución', 'red_saneamiento', 'suministro', 'tramo', 'depósito', 'canalización', 'pluvial', 'colector', 'término_municipal']\n",
      "['red_abastecimiento', 'pluvial', 'colector', 'red_saneamiento', 'estación_tratamiento', 'saneamiento', 'pavimentación', 'canalización', 'depósito', 'agua_residual', 'tramo', 'renovación', 'sustitución', 'tubería', 'residual']\n",
      "\n",
      "\n",
      "--TOPIC 12\n",
      "['instalación', 'suministro', 'sistema', 'eléctrico', 'edificio', 'centro', 'obras', 'servicio', 'red', 'sustitución', 'adecuación', 'climatización', 'obra', 'mantenimiento', 'equipo']\n",
      "['edificio', 'municipal', 'construcción', 'redactado', 'servicio', 'fase', 'reforma', 'local', 'centro', 'rehabilitación', 'urbanización', 'ubicado', 'sito', 'adecuación', 'denominado']\n",
      "['redactado', 'edificio', 'municipal', 'urbanización', 'ubicado', 'edificación', 'parcela', 'local', 'sito', 'reforma', 'aprobado', 'número', 'rehabilitación', 'planta', 'denominado']\n",
      "\n",
      "\n",
      "--TOPIC 13\n",
      "['proyecto', 'redactado', 'municipal', 'presente', 'ejecución', 'denominado', 'construcción', 'redactado_arquitecto', 'instalación', 'calle', 'obras', 'pliego_prescripciones', 'conformidad', 'cementerio_municipal', 'servicio']\n",
      "['carretera', 'tramo', 'provincia', 'acceso', 'reparación', 'construcción', 'pk', 'vía', 'acondicionamiento', 'firme', 'término_municipal', 'avenida', 'zona', 'pavimentación', 'autovía']\n",
      "['carretera', 'tramo', 'pk', 'provincia', 'acceso', 'firme', 'vía', 'autovía', 'rehabilitación_superficial', 'firme_carretera', 'punto_kilométrico', 'intersección', 'alto_velocidad', 'glorieta', 'rehabilitación_firme']\n",
      "\n",
      "\n"
     ]
    }
   ],
   "source": [
    "for n,tf in zip(topics_n, topics_tf):\n",
    "    print(f\"--TOPIC {n}\")\n",
    "    print(topics_nop[n])\n",
    "    print(topics_n[n])\n",
    "    print(topics_tf[tf])\n",
    "    print(\"\\n\")"
   ]
  }
 ],
 "metadata": {
  "kernelspec": {
   "display_name": "Python 3 (ipykernel)",
   "language": "python",
   "name": "python3"
  },
  "language_info": {
   "codemirror_mode": {
    "name": "ipython",
    "version": 3
   },
   "file_extension": ".py",
   "mimetype": "text/x-python",
   "name": "python",
   "nbconvert_exporter": "python",
   "pygments_lexer": "ipython3",
   "version": "3.10.11"
  }
 },
 "nbformat": 4,
 "nbformat_minor": 5
}
