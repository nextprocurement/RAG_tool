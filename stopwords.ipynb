{
 "cells": [
  {
   "cell_type": "code",
   "execution_count": 2,
   "id": "7b8ddb70",
   "metadata": {},
   "outputs": [],
   "source": [
    "import pandas as pd\n",
    "import numpy as np\n",
    "import re\n",
    "import matplotlib.pyplot as plt\n",
    "import matplotlib.ticker as ticker\n",
    "from langdetect import detect\n",
    "from collections import Counter\n",
    "from sklearn.feature_extraction.text import TfidfVectorizer\n",
    "from sklearn.feature_extraction.text import CountVectorizer\n",
    "from scipy.sparse import csr_matrix"
   ]
  },
  {
   "cell_type": "code",
   "execution_count": 102,
   "id": "eb22364b",
   "metadata": {},
   "outputs": [],
   "source": [
    "#Leer el archivo parquet que sale del preprocess.py\n",
    "path = '/export/usuarios_ml4ds/lbartolome/NextProcurement/data/processed_10_abr/trf_lote_es.parquet'\n",
    "df_preprocesado = pd.read_parquet(path)"
   ]
  },
  {
   "cell_type": "markdown",
   "id": "d0f79833",
   "metadata": {},
   "source": [
    "# Función para detectar idiomas"
   ]
  },
  {
   "cell_type": "code",
   "execution_count": null,
   "id": "4ea81b21",
   "metadata": {},
   "outputs": [],
   "source": [
    "# Función para detectar el lenguaje con langdetect\n",
    "def detect_lang(x: str) -> str:\n",
    "    try:\n",
    "        lang = detect(x)\n",
    "        print(lang)\n",
    "    except:\n",
    "        lang = 'Other'\n",
    "    return lang"
   ]
  },
  {
   "cell_type": "markdown",
   "id": "b5f84f9a",
   "metadata": {},
   "source": [
    "# Cargando modelo tópicos"
   ]
  },
  {
   "cell_type": "code",
   "execution_count": 105,
   "id": "19a2a6bc",
   "metadata": {},
   "outputs": [],
   "source": [
    "# Cargar descripciones de tópicos, es la salida del modelo LDA\n",
    "#tpc_descriptions_path = \"/export/usuarios_ml4ds/lbartolome/NextProcurement/NP-Search-Tool/sample_data/models/Mallet/Mallet_5_topics/model_data/TMmodel/tpc_descriptions.txt\"\n",
    "#tpc_descriptions = pd.read_csv(tpc_descriptions_path, header=None, names=['description'])\n",
    "\n",
    "# Cargar etiquetas de tópicos\n",
    "#tpc_labels_path = \"/export/usuarios_ml4ds/lbartolome/NextProcurement/NP-Search-Tool/sample_data/models/Mallet/Mallet_5_topics/model_data/TMmodel/tpc_labels.txt\"\n",
    "#tpc_labels = pd.read_csv(tpc_labels_path, header=None, names=['label'])\n",
    "\n",
    "# Cargar embeddings de tópicos, ahora mismo no son necesarias\n",
    "#tpc_embeddings_path = \"/export/usuarios_ml4ds/lbartolome/NextProcurement/NP-Search-Tool/sample_data/models/Mallet/Mallet_5_topics/model_data/TMmodel/tpc_embeddings.npy\"\n",
    "#tpc_embeddings = np.load(tpc_embeddings_path, allow_pickle=True)"
   ]
  },
  {
   "cell_type": "markdown",
   "id": "3724ab59",
   "metadata": {},
   "source": [
    "# Cargando el corpus"
   ]
  },
  {
   "cell_type": "code",
   "execution_count": 108,
   "id": "37941d4e",
   "metadata": {},
   "outputs": [],
   "source": [
    "# Cargar el corpus\n",
    "#corpus_path = \"/export/usuarios_ml4ds/lbartolome/NextProcurement/NP-Search-Tool/sample_data/models/Mallet/Mallet_5_topics/train_data/corpus.txt\"\n",
    "#corpus_df = pd.read_csv(corpus_path, header=None, names=['description'], index_col=False)"
   ]
  },
  {
   "cell_type": "code",
   "execution_count": 109,
   "id": "71b0bb10",
   "metadata": {},
   "outputs": [],
   "source": [
    "#corpus_df"
   ]
  },
  {
   "cell_type": "code",
   "execution_count": 110,
   "id": "a6d4a882",
   "metadata": {},
   "outputs": [],
   "source": [
    "def quitar_prefijo(texto):\n",
    "    \n",
    "    patron = r'^\\d+\\t\\d+\\t'\n",
    "    texto_modificado = re.sub(patron, '', texto)\n",
    "    \n",
    "    return texto_modificado"
   ]
  },
  {
   "cell_type": "code",
   "execution_count": 111,
   "id": "20aa9836",
   "metadata": {},
   "outputs": [],
   "source": [
    "#corpus_df['description'] = corpus_df['description'].apply(quitar_prefijo)"
   ]
  },
  {
   "cell_type": "code",
   "execution_count": 112,
   "id": "859a124f",
   "metadata": {},
   "outputs": [],
   "source": [
    "#pd.set_option('max_colwidth', None)"
   ]
  },
  {
   "cell_type": "code",
   "execution_count": 113,
   "id": "b6db9daa",
   "metadata": {},
   "outputs": [],
   "source": [
    "#corpus_df"
   ]
  },
  {
   "cell_type": "code",
   "execution_count": 114,
   "id": "e7b9f4d4",
   "metadata": {},
   "outputs": [
    {
     "data": {
      "text/plain": [
       "\"\\ndef generar_dataframe_desde_txt(vocab_path):\\n    # Inicializar listas para almacenar los componentes separados\\n    palabras = []\\n    freqs = []\\n\\n    # Abrir el archivo para lectura\\n    with open(vocab_path, 'r', encoding='utf-8') as archivo:\\n        # Iterar sobre cada línea del archivo\\n        for linea in archivo:\\n            # Dividir la línea por el tabulador\\n            partes = linea.strip().split('\\t')\\n            # Asegurar que la línea tiene exactamente dos partes\\n            if len(partes) == 2:\\n                palabra, freq = partes\\n                palabras.append(palabra)\\n                freqs.append(int(freq)) \\n\\n    # Crear un df con las listas de palabras y frecuencias\\n    df = pd.DataFrame({\\n        'palabra': palabras,\\n        'freq': freqs\\n    })\\n\\n    return df\\n\""
      ]
     },
     "execution_count": 114,
     "metadata": {},
     "output_type": "execute_result"
    }
   ],
   "source": [
    "'''\n",
    "def generar_dataframe_desde_txt(vocab_path):\n",
    "    # Inicializar listas para almacenar los componentes separados\n",
    "    palabras = []\n",
    "    freqs = []\n",
    "\n",
    "    # Abrir el archivo para lectura\n",
    "    with open(vocab_path, 'r', encoding='utf-8') as archivo:\n",
    "        # Iterar sobre cada línea del archivo\n",
    "        for linea in archivo:\n",
    "            # Dividir la línea por el tabulador\n",
    "            partes = linea.strip().split('\\t')\n",
    "            # Asegurar que la línea tiene exactamente dos partes\n",
    "            if len(partes) == 2:\n",
    "                palabra, freq = partes\n",
    "                palabras.append(palabra)\n",
    "                freqs.append(int(freq)) \n",
    "\n",
    "    # Crear un df con las listas de palabras y frecuencias\n",
    "    df = pd.DataFrame({\n",
    "        'palabra': palabras,\n",
    "        'freq': freqs\n",
    "    })\n",
    "\n",
    "    return df\n",
    "'''"
   ]
  },
  {
   "cell_type": "code",
   "execution_count": 115,
   "id": "8155742f",
   "metadata": {},
   "outputs": [],
   "source": [
    "#vocab_path = \"/export/usuarios_ml4ds/lbartolome/NextProcurement/NP-Search-Tool/sample_data/models/Mallet/Mallet_5_topics/model_data/vocab_freq.txt\"\n",
    "#df = generar_dataframe_desde_txt(vocab_path)\n",
    "#df_ordenado = df.sort_values(by='freq', ascending=False).reset_index(drop=True)"
   ]
  },
  {
   "cell_type": "code",
   "execution_count": 116,
   "id": "5d35fa6f",
   "metadata": {},
   "outputs": [],
   "source": [
    "#vocab = pd.read_csv(vocab_path, header=None,index_col=False)"
   ]
  },
  {
   "cell_type": "code",
   "execution_count": 117,
   "id": "45eb5946",
   "metadata": {},
   "outputs": [],
   "source": [
    "#df_ordenado.to_csv('palabras_con_freq.csv',index = False)"
   ]
  },
  {
   "cell_type": "markdown",
   "id": "f1a1135b",
   "metadata": {},
   "source": [
    "# Sacando stopwords TF-IDF"
   ]
  },
  {
   "cell_type": "code",
   "execution_count": 39,
   "id": "2aa3f726",
   "metadata": {},
   "outputs": [],
   "source": [
    "#Leer el archivo parquet que sale del preprocess.py\n",
    "path = \"/export/usuarios_ml4ds/lbartolome/Repos/repos_con_carlos/RAG_tool/data/out/optimized/3.equivalence_detection/datos_modelo_es_Mallet_df_merged_14_topics_45_ENTREGABLE/aux_topic_model_tm_1/MalletLda_100/datos_modelo_es_Mallet_df_merged_14_topics_45_ENTREGABLE_embeddings_preproc.parquet\"\n",
    "df_preprocesado = pd.read_parquet(path)"
   ]
  },
  {
   "cell_type": "code",
   "execution_count": 40,
   "id": "943eafcf",
   "metadata": {},
   "outputs": [
    {
     "data": {
      "text/html": [
       "<div>\n",
       "<style scoped>\n",
       "    .dataframe tbody tr th:only-of-type {\n",
       "        vertical-align: middle;\n",
       "    }\n",
       "\n",
       "    .dataframe tbody tr th {\n",
       "        vertical-align: top;\n",
       "    }\n",
       "\n",
       "    .dataframe thead th {\n",
       "        text-align: right;\n",
       "    }\n",
       "</style>\n",
       "<table border=\"1\" class=\"dataframe\">\n",
       "  <thead>\n",
       "    <tr style=\"text-align: right;\">\n",
       "      <th></th>\n",
       "      <th>id_tm</th>\n",
       "      <th>raw_text</th>\n",
       "      <th>lemmas</th>\n",
       "      <th>embeddings</th>\n",
       "      <th>n_tokens</th>\n",
       "    </tr>\n",
       "  </thead>\n",
       "  <tbody>\n",
       "    <tr>\n",
       "      <th>0</th>\n",
       "      <td>0</td>\n",
       "      <td>contrato menor de obras para la instalación de...</td>\n",
       "      <td>instalación rejilla foso pista_atletismo anexo...</td>\n",
       "      <td>-0.04406907 -0.08293131 0.005752485 0.07067377...</td>\n",
       "      <td>7</td>\n",
       "    </tr>\n",
       "    <tr>\n",
       "      <th>1</th>\n",
       "      <td>1</td>\n",
       "      <td>acabado en revestimiento de granito en torre d...</td>\n",
       "      <td>acabado revestimiento granito ventilación garaje</td>\n",
       "      <td>-0.034213696 0.009006779 -0.004287515 0.009578...</td>\n",
       "      <td>6</td>\n",
       "    </tr>\n",
       "    <tr>\n",
       "      <th>2</th>\n",
       "      <td>2</td>\n",
       "      <td>obras de remodelación de sala y almacen en pla...</td>\n",
       "      <td>remodelación almacir planta inferior centro sa...</td>\n",
       "      <td>-0.007823987 0.0022479712 -0.0050431485 0.0439...</td>\n",
       "      <td>15</td>\n",
       "    </tr>\n",
       "    <tr>\n",
       "      <th>3</th>\n",
       "      <td>3</td>\n",
       "      <td>realización de trabajos de refuerzo estructura...</td>\n",
       "      <td>refuerzo_estructural tabiquería pladur anclaje...</td>\n",
       "      <td>-0.045626644 -0.05282912 -0.032013252 0.027243...</td>\n",
       "      <td>8</td>\n",
       "    </tr>\n",
       "    <tr>\n",
       "      <th>4</th>\n",
       "      <td>4</td>\n",
       "      <td>obras de acondicionamiento de parcela en la ba...</td>\n",
       "      <td>incorporar_especial carácter_relativo inserció...</td>\n",
       "      <td>-0.052751653 0.033168957 0.0051500476 -0.02800...</td>\n",
       "      <td>8</td>\n",
       "    </tr>\n",
       "    <tr>\n",
       "      <th>...</th>\n",
       "      <td>...</td>\n",
       "      <td>...</td>\n",
       "      <td>...</td>\n",
       "      <td>...</td>\n",
       "      <td>...</td>\n",
       "    </tr>\n",
       "    <tr>\n",
       "      <th>34252</th>\n",
       "      <td>34252</td>\n",
       "      <td>renovación de los revestimientos de la piscina...</td>\n",
       "      <td>renovación revestimiento instalación deportivo</td>\n",
       "      <td>-0.0305871 -0.021477008 -0.00044009666 0.02860...</td>\n",
       "      <td>6</td>\n",
       "    </tr>\n",
       "    <tr>\n",
       "      <th>34253</th>\n",
       "      <td>34253</td>\n",
       "      <td>obras de construcción de una cubrición sobre p...</td>\n",
       "      <td>construcción cubrición_pista ikastetxea</td>\n",
       "      <td>-0.047371056 -0.05083523 -0.021601152 0.059879...</td>\n",
       "      <td>4</td>\n",
       "    </tr>\n",
       "    <tr>\n",
       "      <th>34254</th>\n",
       "      <td>34254</td>\n",
       "      <td>obra de reforma de la guardería infantil sita ...</td>\n",
       "      <td>reforma guardería infantil sito cambio</td>\n",
       "      <td>0.068006605 0.028291764 -0.012681559 -0.033845...</td>\n",
       "      <td>7</td>\n",
       "    </tr>\n",
       "    <tr>\n",
       "      <th>34255</th>\n",
       "      <td>34255</td>\n",
       "      <td>obras de la línea eléctrica de alta tensión pa...</td>\n",
       "      <td>eléctrico alto_tensión suministro energía esta...</td>\n",
       "      <td>-0.044184666 -0.02498519 0.0069313324 0.030341...</td>\n",
       "      <td>8</td>\n",
       "    </tr>\n",
       "    <tr>\n",
       "      <th>34256</th>\n",
       "      <td>34256</td>\n",
       "      <td>obras de consolidación de la muralla sur entre...</td>\n",
       "      <td>yacimiento_arqueológico financiado_next genera...</td>\n",
       "      <td>-0.009799902 0.009155085 0.0049610552 0.009798...</td>\n",
       "      <td>7</td>\n",
       "    </tr>\n",
       "  </tbody>\n",
       "</table>\n",
       "<p>33703 rows × 5 columns</p>\n",
       "</div>"
      ],
      "text/plain": [
       "       id_tm                                           raw_text  \\\n",
       "0          0  contrato menor de obras para la instalación de...   \n",
       "1          1  acabado en revestimiento de granito en torre d...   \n",
       "2          2  obras de remodelación de sala y almacen en pla...   \n",
       "3          3  realización de trabajos de refuerzo estructura...   \n",
       "4          4  obras de acondicionamiento de parcela en la ba...   \n",
       "...      ...                                                ...   \n",
       "34252  34252  renovación de los revestimientos de la piscina...   \n",
       "34253  34253  obras de construcción de una cubrición sobre p...   \n",
       "34254  34254  obra de reforma de la guardería infantil sita ...   \n",
       "34255  34255  obras de la línea eléctrica de alta tensión pa...   \n",
       "34256  34256  obras de consolidación de la muralla sur entre...   \n",
       "\n",
       "                                                  lemmas  \\\n",
       "0      instalación rejilla foso pista_atletismo anexo...   \n",
       "1       acabado revestimiento granito ventilación garaje   \n",
       "2      remodelación almacir planta inferior centro sa...   \n",
       "3      refuerzo_estructural tabiquería pladur anclaje...   \n",
       "4      incorporar_especial carácter_relativo inserció...   \n",
       "...                                                  ...   \n",
       "34252     renovación revestimiento instalación deportivo   \n",
       "34253            construcción cubrición_pista ikastetxea   \n",
       "34254             reforma guardería infantil sito cambio   \n",
       "34255  eléctrico alto_tensión suministro energía esta...   \n",
       "34256  yacimiento_arqueológico financiado_next genera...   \n",
       "\n",
       "                                              embeddings  n_tokens  \n",
       "0      -0.04406907 -0.08293131 0.005752485 0.07067377...         7  \n",
       "1      -0.034213696 0.009006779 -0.004287515 0.009578...         6  \n",
       "2      -0.007823987 0.0022479712 -0.0050431485 0.0439...        15  \n",
       "3      -0.045626644 -0.05282912 -0.032013252 0.027243...         8  \n",
       "4      -0.052751653 0.033168957 0.0051500476 -0.02800...         8  \n",
       "...                                                  ...       ...  \n",
       "34252  -0.0305871 -0.021477008 -0.00044009666 0.02860...         6  \n",
       "34253  -0.047371056 -0.05083523 -0.021601152 0.059879...         4  \n",
       "34254  0.068006605 0.028291764 -0.012681559 -0.033845...         7  \n",
       "34255  -0.044184666 -0.02498519 0.0069313324 0.030341...         8  \n",
       "34256  -0.009799902 0.009155085 0.0049610552 0.009798...         7  \n",
       "\n",
       "[33703 rows x 5 columns]"
      ]
     },
     "execution_count": 40,
     "metadata": {},
     "output_type": "execute_result"
    }
   ],
   "source": [
    "df_preprocesado"
   ]
  },
  {
   "cell_type": "code",
   "execution_count": 41,
   "id": "69e730bf",
   "metadata": {},
   "outputs": [],
   "source": [
    "def get_filtered_words(text, threshold):\n",
    "    # Inicializar el vectorizador TF-IDF sin un vocabulario específico\n",
    "    vectorizer = TfidfVectorizer()    \n",
    "    # Ajustar el vectorizador al texto para calcular valores IDF\n",
    "    vectorizer.fit(text)\n",
    "    # Obtener los nombres de las características (palabras) y sus valores IDF\n",
    "    feature_names = vectorizer.get_feature_names_out()\n",
    "    idf_values = vectorizer.idf_\n",
    "\n",
    "    # Filtrar palabras de baja importancia: comunes en el corpus (IDF menor o igual al umbral)\n",
    "    low_importance_words = [word for word, idf in zip(feature_names, idf_values) if idf < threshold]\n",
    "    # Filtrar palabras de alta importancia: raras en el corpus (IDF mayor al umbral)\n",
    "    high_importance_words = [word for word, idf in zip(feature_names, idf_values) if idf >= threshold]\n",
    "\n",
    "    # Contar el número de palabras en cada subconjunto\n",
    "    num_low_importance_words = len(low_importance_words)\n",
    "    num_high_importance_words = len(high_importance_words)\n",
    "\n",
    "    # Imprimir resultados\n",
    "    print(f\"Palabras comunes en el corpus (total: {num_low_importance_words}):\\n\", low_importance_words)\n",
    "    print(f\"Palabras raras en el corpus (total: {num_high_importance_words}):\\n\", high_importance_words)\n",
    "\n",
    "    # Retornar los subconjuntos de palabras y sus conteos\n",
    "    return low_importance_words, high_importance_words, num_low_importance_words, num_high_importance_words, feature_names"
   ]
  },
  {
   "cell_type": "code",
   "execution_count": 42,
   "id": "b157d154",
   "metadata": {},
   "outputs": [],
   "source": [
    "#Sirve para analizar el idf de las palabras\n",
    "def get_idf_values(text):\n",
    "    vectorizer = TfidfVectorizer()\n",
    "    vectorizer.fit(text)\n",
    "    feature_names = vectorizer.get_feature_names_out()\n",
    "    idf_values = vectorizer.idf_\n",
    "    return feature_names, idf_values\n",
    "\n",
    "#Sirve para sacar que palabras son las más repetidas\n",
    "def get_tf_values(text):\n",
    "    vectorizer = CountVectorizer()\n",
    "    word_counts = vectorizer.fit_transform(text)\n",
    "    total_word_counts = word_counts.sum(axis=0)\n",
    "    # Obtener los nombres de las palabras\n",
    "    feature_names = vectorizer.get_feature_names_out()\n",
    "    \n",
    "    # Convertir las frecuencias de término a un array de numpy\n",
    "    tf_values = total_word_counts.A1\n",
    " \n",
    "    # Ordenar las palabras por frecuencia de término\n",
    "    sorted_tf_indices = np.argsort(tf_values)[::-1]\n",
    "    sorted_words = feature_names[sorted_tf_indices]\n",
    "    sorted_tf_values = tf_values[sorted_tf_indices]\n",
    "    \n",
    "    # Crear listas de las palabras y sus frecuencias ordenadas\n",
    "    sorted_word_frequency = [(word, freq) for word, freq in zip(sorted_words, sorted_tf_values)]\n",
    "    \n",
    "    # Retornar la lista de palabras y frecuencias ordenadas\n",
    "    return sorted_word_frequency"
   ]
  },
  {
   "cell_type": "code",
   "execution_count": 43,
   "id": "00ad804b",
   "metadata": {},
   "outputs": [
    {
     "data": {
      "image/png": "[encoded data removed]",
      "text/plain": [
       "<Figure size 1000x600 with 1 Axes>"
      ]
     },
     "metadata": {},
     "output_type": "display_data"
    }
   ],
   "source": [
    "#Graficando los valores de idf para escoger el threshold\n",
    "text = df_preprocesado['lemmas']\n",
    "feature_names, idf_values = get_idf_values(text)\n",
    "\n",
    "# Distribución de los valores IDF\n",
    "plt.figure(figsize=(10, 6))\n",
    "plt.hist(idf_values, bins=40, color='blue', edgecolor='black', alpha=0.7)\n",
    "plt.title('Distribución de los valores IDF')\n",
    "plt.xlabel('Valores IDF')\n",
    "plt.ylabel('Frecuencia')\n",
    "plt.gca().xaxis.set_major_locator(ticker.MultipleLocator(0.5))  \n",
    "plt.gca().xaxis.set_major_formatter(ticker.FormatStrFormatter('%.1f'))  \n",
    "plt.axvline(x=np.median(idf_values), color='red', linestyle='--', label='Mediana')\n",
    "plt.axvline(x=np.mean(idf_values), color='green', linestyle='-', label='Media')\n",
    "plt.legend()\n",
    "plt.show()"
   ]
  },
  {
   "cell_type": "code",
   "execution_count": 44,
   "id": "5bd4ab3b",
   "metadata": {},
   "outputs": [
    {
     "name": "stdout",
     "output_type": "stream",
     "text": [
      "instalación: 6780\n",
      "edificio: 3229\n",
      "centro: 2986\n",
      "reparación: 2828\n",
      "servicio: 2457\n",
      "municipal: 2391\n",
      "zona: 2320\n",
      "adecuación: 2021\n",
      "actuación: 1960\n",
      "construcción: 1915\n",
      "suministro: 1790\n",
      "reforma: 1597\n",
      "tramo: 1584\n",
      "sustitución: 1507\n",
      "acondicionamiento: 1470\n",
      "acceso: 1466\n",
      "renovación: 1370\n",
      "cubierto: 1336\n",
      "carretera: 1223\n",
      "fase: 1167\n",
      "mantenimiento: 1005\n",
      "municipio: 952\n",
      "rehabilitación: 929\n",
      "pavimentación: 840\n",
      "término_municipal: 831\n",
      "ampliación: 789\n",
      "eléctrico: 749\n",
      "centro_educación: 715\n",
      "situado: 702\n",
      "local: 701\n",
      "infraestructura: 690\n",
      "interior: 678\n",
      "avenida: 666\n",
      "urbanización: 660\n",
      "pavimento: 644\n",
      "provincia: 640\n",
      "infantil_primaria: 625\n",
      "planta: 614\n",
      "denominado: 592\n",
      "plan_recuperación: 574\n",
      "alumbrado: 559\n",
      "deportivo: 555\n",
      "incluido: 544\n",
      "exterior: 538\n",
      "sito: 533\n",
      "energético: 530\n",
      "colocación: 525\n",
      "protección: 514\n",
      "accesibilidad: 513\n",
      "saneamiento: 505\n",
      "área: 499\n",
      "adaptación: 498\n",
      "presente: 495\n",
      "aire_acondicionado: 493\n",
      "elemento: 492\n",
      "fondo_europeo: 476\n",
      "protección_incendio: 472\n",
      "abierto_simplificado: 467\n",
      "cofinanciado_europeo: 464\n",
      "consistente: 461\n",
      "lote: 452\n",
      "fachada: 451\n",
      "provincial: 451\n",
      "conservación: 448\n",
      "restauración: 445\n",
      "plantar: 438\n",
      "estación: 432\n",
      "reposición: 432\n",
      "cubierto_sustitución: 414\n",
      "equipo: 412\n",
      "firme: 410\n",
      "electricidad_calefacción: 404\n",
      "ascensor_fachada: 402\n",
      "antiguo: 402\n",
      "reparación_climatización: 402\n",
      "europeo_desarrollo: 400\n",
      "oficina: 397\n",
      "básico: 390\n",
      "financiado: 386\n",
      "termo_rótulo: 379\n",
      "cambio_modificar: 379\n",
      "vinilo_parquet: 379\n",
      "desarrollo_regional: 379\n",
      "material: 378\n",
      "demolición: 377\n",
      "ubicado: 375\n",
      "sector: 374\n",
      "estructura: 373\n",
      "conexión: 372\n",
      "rural: 371\n",
      "número: 365\n",
      "remodelación: 363\n",
      "colegio: 362\n",
      "actual: 351\n",
      "depósito: 345\n",
      "infantil: 343\n",
      "aparcamiento: 338\n",
      "mejorar: 337\n",
      "climatización: 328\n",
      "iluminación: 325\n"
     ]
    }
   ],
   "source": [
    "sorted_word_frequency = get_tf_values(text)\n",
    "for word, freq in sorted_word_frequency[:100]:  \n",
    "    print(f\"{word}: {freq}\")"
   ]
  },
  {
   "cell_type": "code",
   "execution_count": 45,
   "id": "ef31ced7",
   "metadata": {},
   "outputs": [
    {
     "data": {
      "image/png": "[encoded data removed]",
      "text/plain": [
       "<Figure size 1000x600 with 1 Axes>"
      ]
     },
     "metadata": {},
     "output_type": "display_data"
    }
   ],
   "source": [
    "# Distribución de los valores IDF\n",
    "plt.figure(figsize=(10, 6))\n",
    "plt.hist(idf_values, bins=40, color='blue', edgecolor='black', alpha=0.7)\n",
    "plt.title('Distribución de los valores IDF')\n",
    "plt.xlabel('Valores IDF')\n",
    "plt.ylabel('Frecuencia')\n",
    "\n",
    "# Ajustar las marcas y el formato del eje X para el zoom\n",
    "plt.gca().xaxis.set_major_locator(ticker.MultipleLocator(0.2))  # intervalos más finos en el eje X\n",
    "plt.gca().xaxis.set_major_formatter(ticker.FormatStrFormatter('%.2f'))  # dos decimales de precisión\n",
    "\n",
    "# Ajusta los límites del eje X para hacer zoom en los valores mayores que 8.0\n",
    "plt.xlim(6, 10)\n",
    "# Líneas de la mediana y la media\n",
    "plt.axvline(x=np.median(idf_values), color='red', linestyle='--', label='Mediana')\n",
    "plt.axvline(x=np.mean(idf_values), color='green', linestyle='-', label='Media')\n",
    "plt.legend()\n",
    "plt.show()"
   ]
  },
  {
   "cell_type": "code",
   "execution_count": 57,
   "id": "2c48d8f8",
   "metadata": {},
   "outputs": [
    {
     "name": "stdout",
     "output_type": "stream",
     "text": [
      "Palabras comunes en el corpus (total: 273):\n",
      " ['abastecimiento', 'abierto', 'abierto_simplificado', 'accesibilidad', 'acceso', 'acerado', 'acometido', 'acondicionamiento', 'actividad', 'actuación', 'actual', 'adaptación', 'adecuación', 'adjudicar_abierto', 'administrativo', 'afectado', 'agua_residual', 'ahorro_energético', 'aire_acondicionado', 'almacén', 'alquiler', 'alto', 'alto_velocidad', 'alumbrado', 'alumbrado_exterior', 'ampliación', 'anexo', 'antiguo', 'aparcamiento', 'apoyo', 'arquitectónico', 'ascensor', 'ascensor_fachada', 'aseo', 'asfaltado', 'aula', 'autoconsumo', 'autovía', 'avda', 'avenida', 'básico', 'cambio', 'cambio_modificar', 'camino_rural', 'canalización', 'carretera', 'cementerio', 'central', 'centro', 'centro_educación', 'cerramiento', 'cimentación', 'climatización', 'cofinanciado', 'cofinanciado_europeo', 'colector', 'colegio', 'colocación', 'complejo', 'comprendido', 'comunicación', 'conexión', 'conservación', 'consistente', 'consistir', 'consolidación', 'construcción', 'constructivo', 'creación', 'crecimiento', 'cubierto', 'cubierto_sustitución', 'cultural', 'demolición', 'denominado', 'deportivo', 'depósito', 'desarrollo_regional', 'desmontaje', 'destinado', 'diputación', 'diputación_provincial', 'dotar', 'drenaje', 'económico', 'edificación', 'edificio', 'ejecutar', 'electricidad_calefacción', 'elemento', 'eliminación', 'eléctrico', 'emergencia', 'energético', 'equipamiento', 'equipo', 'especial', 'estación', 'estación_tratamiento', 'estrategia_desarrollo', 'estructura', 'estructural', 'europeo', 'europeo_desarrollo', 'europeo_regional', 'exterior', 'fachada', 'falso_techo', 'fase', 'feder', 'filtración', 'financiado', 'firme', 'firme_carretera', 'fondo_europeo', 'forestal', 'fútbol', 'glorieta', 'grupo', 'hormigón', 'hospital_universitario', 'iluminación', 'impermeabilización', 'implantación', 'incendio', 'incluido', 'incluido_plan', 'industrial', 'infantil', 'infantil_primaria', 'infraestructura', 'instalacion', 'instalación', 'instituto', 'instituto_educación', 'integrado', 'integral', 'interior', 'intersección', 'intervención', 'josé', 'junta', 'laboratorio', 'limpieza', 'limpiezar', 'local', 'localidad', 'lote', 'mantenimiento', 'material', 'mejorar', 'metro', 'metálico', 'montaje', 'municipal', 'municipio', 'módulo', 'nacional', 'natural', 'next_generation', 'núcleo', 'número', 'oficina', 'operación', 'pabellón', 'parcela', 'parcial', 'paseo', 'pasillo', 'patio', 'pavimentación', 'pavimento', 'peatonal', 'persona', 'perteneciente', 'pintura', 'piscina', 'pista', 'plan_provincial', 'plan_recuperación', 'planta', 'plantar', 'plataforma', 'pluvial', 'población', 'polideportivo', 'polígono_industrial', 'posterior', 'presente', 'previo', 'propiedad', 'protección', 'protección_incendio', 'provincia', 'provincial', 'puesto', 'punto', 'punto_kilométrico', 'rampa', 'recinto', 'reconstrucción', 'recuperación', 'red_abastecimiento', 'red_saneamiento', 'redacción', 'redactado', 'reforma', 'refuerzo', 'regional', 'regional_crecimiento', 'regional_feder', 'regional_fondo', 'regional_plurirregional', 'rehabilitación', 'rehabilitación_energético', 'rehabilitación_firme', 'rehabilitación_superficial', 'remodelación', 'renovación', 'reparación', 'reparación_climatización', 'repavimentación', 'reposición', 'residencia', 'residuo', 'resiliencia', 'resiliencia_financiado', 'restauración', 'retirado', 'reurbanización', 'revestimiento', 'rural', 'saneamiento', 'sanitario', 'sector', 'secundaria', 'sede', 'servicio', 'señalización', 'simplificado', 'sito', 'situado', 'solar_fotovoltaico', 'suelo', 'sujeto_regulación', 'suministro', 'superficie', 'superior', 'sustitución', 'talud', 'tensión', 'termo_rótulo', 'terreno', 'tipo', 'tramo', 'transporte', 'tratamiento', 'tubería', 'término_municipal', 'túnel', 'ubicado', 'urbanización', 'urbano_integrado', 'urbano_sostenible', 'urgente', 'vallado', 'vehículo', 'vestuario', 'viario', 'vinilo_parquet', 'zona', 'ámbito', 'área']\n",
      "Palabras raras en el corpus (total: 3763):\n",
      " ['abandono', 'abarcar', 'abastecer', 'abastecimiento_saneamiento', 'abasto', 'abeto_motivo', 'abierto_multicriterio', 'abierto_supersimplificado', 'abrevadero', 'abreviado', 'abril_marzo', 'abrir', 'acabado', 'acceder', 'accesibilidad_universal', 'accesibl', 'accesible', 'acceso_ferroviario', 'acceso_restringido', 'accesorio', 'accesos', 'accidente', 'accionamiento', 'acción', 'acción_diputación', 'acción_formación', 'accés', 'aceite', 'acelerador_lineal', 'acequia', 'acequia_asensio', 'acequio', 'acervo_materia', 'acoger', 'acoger_ayuda', 'acogido', 'acogido_energético', 'acometer', 'acometido_domiciliario', 'acometido_eléctrico', 'acondicionado', 'acondicionado_emisora', 'acondicionamiento_compactación', 'acondicionar', 'acopio', 'acordar_asignación', 'acorde', 'acristalado', 'acristalamiento', 'acta', 'actividad_cultural', 'actividad_económico', 'activo', 'acto', 'acto_hoya', 'acto_vandálico', 'actuacion', 'actuación_cofinanciable', 'actuación_cofinanciacer', 'actuación_emergencio', 'actuación_enmarcar', 'actuación_extraordinario', 'actuación_inmediato', 'actuación_seleccionado', 'actualidad', 'actualización', 'actualización_precio', 'actualizado', 'actualizado_estación', 'actualizar', 'actuar', 'acuartelamiento', 'acueducto', 'acumulación', 'acuático', 'acústico', 'adaptacion', 'adaptación_ampliacion', 'adaptación_sectorial', 'adaptación_vigente', 'adaptado', 'adaptar', 'adecentamiento', 'adecuacion', 'adecuado', 'adecuar', 'adenda', 'adequació', 'adicional', 'adicional_diputación', 'adjudicar', 'adjunto', 'administración', 'administración_pública', 'administración_tributaria', 'administrador_infraestructuras', 'administrativo_prescripción', 'adopción', 'adopción_acondicionamiento', 'adoquinado', 'adoquín', 'adoquín_prefabricado', 'adosado', 'adquirido', 'adquisición', 'adscrito', 'adscrito_central', 'adulto', 'adultos', 'adyacente', 'aeronave', 'aeropuerto', 'aeropuerto_sol', 'aerotermio', 'afección', 'afectado_erupción', 'afectado_incendio', 'afectar', 'afirmado', 'agencia', 'agencia_andaluz', 'agencia_estatal', 'agencia_galega', 'agencia_régimen', 'agencio', 'aglomerado', 'aglomerado_asfáltico', 'aglomerado_caliente', 'aglomerado_vial', 'agosto', 'agraria', 'agrario', 'agrario_empresa', 'agrario_finca', 'agrario_tragsa', 'agrarios_gallegos', 'agroalimentario', 'agrupación', 'agrícola', 'agrícola_desarrollo', 'agrícola_forestal', 'agrícola_rural', 'agua_fecal', 'agua_frío', 'agua_pluvial', 'agua_retortillo', 'aguilar_frontera', 'aguo', 'agustín', 'ahorro', 'ahorro_energía', 'aire', 'aire_libre', 'aislada_niveles', 'aislado', 'aislado_nivel', 'aislamiento', 'aislamiento_acústico', 'aislamiento_térmico', 'aislante', 'ajardinado', 'ajardinamiento', 'ajustar', 'ajuste', 'alarmar', 'albardilla', 'albañileer', 'albañilería', 'albergar', 'albergue', 'albergue_juvenil', 'alcalá', 'alcalá_gazules', 'alcalá_henares', 'alcance', 'alcantarillado', 'alcanzar', 'alcobenda', 'alcorqu', 'alcázar', 'alcázar_juan', 'aledaña', 'aledaño', 'alemania', 'alero', 'alhaurín', 'alicatado', 'alimentar', 'alimentario', 'alimentario_mercamadrid', 'alineación', 'aliviadero', 'aljibe', 'almacenaje', 'almacenamiento', 'almacir', 'almarza_camero', 'alojamiento', 'alojamiento_logístico', 'alojar', 'alojar_estación', 'alquería', 'alquiler_camión', 'alquiler_maquinario', 'alquiler_montaje', 'alquiler_retroexcavadoro', 'alquiler_tractor', 'alta', 'alta_densidad', 'alternativo', 'altillo', 'alto_densidad', 'alto_depresión', 'alto_rendimiento', 'alto_tecnología', 'alto_tensión', 'altos_septiembre', 'aluche_latino', 'alumbrado_extraordinario', 'alumbrado_ornamental', 'alumbrado_publico', 'alumbrado_telefonía', 'aluminio', 'alumnado', 'alumno', 'alzado', 'ambiental', 'ambiente', 'ambiente_escena', 'ambito', 'ambulatorio', 'amianto', 'amparo_intervención', 'ampliacion', 'ampliació', 'ampliar', 'amplio', 'ancho', 'ancho_métrico', 'anchura', 'anclaje', 'andén', 'aneja', 'anejo', 'anfiteatro', 'animal', 'antena', 'anteproyecto', 'antequero', 'anti', 'anticipado', 'anticipado_gasto', 'antideslizante', 'antiguo_convento', 'antiguo_cuartel', 'antiguo_escuela', 'antiguo_fábrica', 'antiguo_matadero', 'antonio_machado', 'anual', 'anualidad', 'anulación', 'anuncio', 'anónimo', 'aparato', 'aparato_aire', 'aparato_elevador', 'aparcamiento_disuasorio', 'aparcamiento_subterráneo', 'aparcamiento_superficie', 'aparecido', 'apartado', 'apartamento', 'apeadero', 'apeo', 'apeo_apuntalamiento', 'aplacado', 'aplicación', 'aplicación_mezclar', 'aplicación_pintura', 'aplicar', 'aportación', 'aportar', 'apoyar', 'apoyo_contribuir', 'apoyo_creación', 'apoyo_empresarial', 'aprobación', 'aprobado', 'aprobado_fecha', 'aprobado_junta', 'aprobado_pleno', 'aprobar', 'aprovechamiento', 'aprovechar', 'aproximado', 'apto', 'apuntalamiento', 'aranda_duero', 'arar', 'arbolado', 'arbusto', 'arco_ciudad', 'arcén', 'arganzuela', 'arma', 'armado', 'armadura', 'armonizado', 'armonizado_abierto', 'armonizado_simplificado', 'arqueologico', 'arqueología', 'arqueológico', 'arqueta', 'arquitecta', 'arquitecto_colegiado', 'arquitectura', 'arranque', 'arrastre', 'arreglo', 'arrendamiento', 'arrendamiento_montaje', 'art_lcsp', 'art_ley', 'arte', 'arte_reina', 'artesanía', 'articulado', 'artificial', 'artificial_futbol', 'arturo_duperier', 'artístico', 'asa_tc', 'aseguramiento', 'asegurar', 'asentamiento', 'aseo_accesible', 'aseo_adaptado', 'aseo_masculino', 'aseo_vestuario', 'aseos', 'asfalto', 'asfáltico', 'asiento', 'asistencia', 'asistencial', 'asistente', 'asistido', 'asociado', 'aspecto', 'aspiración', 'asunción', 'atención', 'atención_ciudadano', 'atención_persona', 'atención_primario', 'atender', 'atletismo', 'atlántico', 'atlántico_arte', 'atocha', 'atractivo', 'atraque', 'audiovisual', 'auditorio', 'auga', 'aula_bachillerato', 'aula_desdoble', 'aula_específico', 'aula_facultad', 'aula_prefabricada', 'aula_primario', 'aula_taller', 'aulario', 'aumentar', 'aumento', 'autobús', 'autoconsumo_compartido', 'autoconsumo_conectado', 'autoconsumo_excedente', 'automatización', 'automatizado', 'automático', 'autonómico', 'autopista', 'autopista_autopista', 'autoportante', 'autoridad_portuario', 'autorización', 'autorizado', 'autovía_autovía', 'autovía_mediterráneo', 'autovía_ruta', 'autovía_suroeste', 'autóctono', 'autónomo', 'auxiliar', 'auxilio', 'avanzado', 'avda_constitución', 'avenida_constitución', 'averiado', 'avería', 'aviación', 'avingudo', 'axial_computarizada', 'ayto', 'ayuda_previsto', 'ayuda_singular', 'ayudantía', 'azud', 'azulejo', 'aéreo', 'aéreo_contacto', 'aéreo_tensión', 'añadir', 'bache', 'bacheado', 'bacheo', 'bad_tte', 'badén', 'bahía', 'baix', 'baixa', 'baja', 'baja_tensión', 'bajado', 'bajant', 'bajant_pluvial', 'bajante', 'balcón', 'baldosa', 'baldós', 'baliza', 'balizamiento', 'balneario', 'baloncesto', 'bam_tc', 'bancada', 'banco', 'bandeja', 'barandilla', 'barandilla_metálico', 'barnizado', 'barranc', 'barrera_arquitectónico', 'barriada', 'barriado', 'barrio_frança', 'bartolomé', 'basar', 'base', 'base_aérea', 'basico_ejecucion', 'basura', 'bateria', 'batería', 'berma', 'bezana', 'biblioteca', 'biblioteco', 'bicicleta', 'bidegorri', 'bienestar', 'bienestar_diputación', 'bienio', 'bierzo', 'bifurcación', 'bioclimatización', 'bioclimatización_apoyo', 'biodiversidad', 'biológico', 'biomasa', 'biomédico', 'biosaludabl', 'biotecnología', 'bituminoso', 'bituminós_caliente', 'bituminós_tipo', 'blandón', 'bloque', 'bloque_nicho', 'bloque_quirúrgico', 'boadilla_monte', 'bolardo', 'bombeo', 'bombeo_agua', 'bombero', 'bomberos', 'bordillo', 'botiquín', 'botánico', 'bulevar', 'buque', 'burrián', 'buñold', 'bárbara', 'básculo', 'básica', 'cabecera', 'cabecero', 'cabezas_juan', 'cabezo', 'cabezón_pisuerga', 'cabina', 'cabina_dotado', 'cable', 'cableado', 'cableado_estructurado', 'cabárceno', 'caer', 'cafetería', 'caida', 'cajero', 'cajón', 'calahorra_susceptible', 'calderas', 'calderería', 'caldero_biomasa', 'calefaccion', 'calefacción', 'calefacción_acs', 'calefacción_aire', 'caleta', 'calidad', 'caliente', 'caliente_tipo', 'calificación_administrativo', 'calificado', 'calistenia', 'calle_trafalgar', 'callejón', 'callós_seguro', 'calmado_tráfico', 'calor', 'calvario', 'cambiar', 'cambio_caldero', 'cambio_climático', 'cambio_tecnologío', 'cambio_ubicación', 'camerino', 'camión', 'campamento', 'campanilla', 'camping', 'campus', 'campus_burjassot', 'campus_universidad', 'camí', 'canal_arlanzón', 'canal_isabel', 'canal_puerto', 'canalizacion', 'canalón', 'canalón_bajant', 'canaria', 'canasta', 'cancha', 'cancha_deportivo', 'cantidad', 'canvi', 'capital', 'capitán', 'captación', 'captación_agua', 'carabanchel', 'característica', 'característica_prescripción', 'característico', 'carballiño', 'carbono', 'carbono_feder', 'carbono_fondo', 'carbón', 'carecer', 'carga', 'carga_descarga', 'carga_descargo', 'carga_transporte', 'cargadero', 'cargador', 'cargar', 'cargo', 'cargo_ahorro', 'cargo_ayuda', 'carnaval', 'carpa', 'carpas', 'carpinteria', 'carpinterias', 'carpintería', 'carpintería_aluminio', 'carpintería_exterior', 'carpintería_madero', 'carpintería_metálico', 'carrer', 'carreta', 'carretera_autonómica', 'carretera_autonómico', 'carretera_línea', 'carretera_portal', 'carreterar', 'carreteras', 'carretero_autonómico', 'carretero_titularidad', 'cartel', 'cartelería', 'cartuja', 'carácter', 'carácter_contractual', 'carácter_medioambiental', 'carácter_relativo', 'carácter_urgente', 'casa_consistorial', 'casco_histórico', 'caserío', 'caseta', 'catalogado', 'català_recerca', 'catastral', 'catastro', 'catedral', 'categoría', 'catenario', 'catástrofe', 'cauce', 'cauce_río', 'caucho', 'caudal', 'caudalímetro', 'causa', 'causado', 'causar', 'caída', 'caído', 'cañón', 'cb_ch', 'cbam_dsmvg', 'cbam_hurm', 'cbam_huvv', 'cctv', 'cd_pifs', 'cedido', 'ceip', 'celebración', 'celebrado', 'celebrado_amparo', 'celebrar', 'celosía', 'cementerio_municipal', 'cemento', 'centenario', 'center', 'central_hidroeléctrico', 'central_receptor', 'centralizado', 'centrar', 'centrar_salut', 'centre', 'centro_arrendado', 'centro_autotransformación', 'centro_criar', 'centro_cívico', 'centro_deportes', 'centro_docente', 'centro_educativo', 'centro_ensayos', 'centro_especialidad', 'centro_estudios', 'centro_excelencio', 'centro_integrante', 'centro_interpretación', 'centro_investigaciones', 'centro_menores', 'centro_ocupacional', 'centro_penitenciario', 'centro_procesamiento', 'centro_profesorado', 'centro_referencia', 'centro_seccionamiento', 'centro_tecnificación', 'centros', 'centímetro', 'cepeda_ermita', 'cercano', 'cercanía', 'cercanías', 'cerezo_cadeneta', 'cerrado', 'cerradura', 'cerrajería', 'cerrajería_carpintería', 'cerramiento_perimetral', 'cerrar', 'certificación', 'certificado', 'cerámica', 'cerámico', 'cesión', 'chamberí', 'chapoteo', 'charca', 'chimenea', 'chimeneo', 'cibrao', 'ciclista', 'ciclo', 'ciclo_ed', 'ciclo_formativo', 'ciclo_integral', 'ciencias', 'científico', 'científico_tecnológico', 'cimentación_estructura', 'cine', 'circuito', 'circuito_cerrado', 'circulación', 'circular', 'circunvalación', 'cirugía', 'ciudad_algeciras', 'ciudad_autónoma', 'ciudad_lineal', 'ciudad_regeneración', 'ciudadano', 'ciudadano_barrio', 'ciudadela', 'ciutadella_menorca', 'ciències', 'clase', 'claustro', 'clausura', 'clave_cofinanciacer', 'clima', 'climatització', 'climatizacion', 'climatización_ventilación', 'climatizado', 'climatizador', 'climático', 'cloración', 'cloro', 'club', 'club_deportivo', 'clínico', 'co_infraestructura', 'co_instalacion', 'co_instalación', 'coberta', 'cobertura', 'cobre', 'coche', 'cochera', 'cocina', 'cocina_comedor', 'cocín', 'cofinanciacer_europeo', 'cofinanciación_europeo', 'cofinanciada', 'cofinanciada_europeo', 'cofinanciado_cargo', 'cofinanciado_consejería', 'cofinanciado_feder', 'cofinanciado_fondo', 'cofinanciado_instrumento', 'cogeneración', 'cohesión', 'coincidente', 'colapsado', 'colección', 'colector_pluvial', 'colector_saneamiento', 'colegiado', 'colegiado_colegio', 'colegiado_número', 'colegio_arquitecto', 'colegio_oficial', 'colegio_publico', 'colegio_público', 'colindant', 'colindante', 'colocacion', 'colocación_barandilla', 'colocado', 'colocar', 'colocar_cartel', 'colonia', 'color', 'columbario', 'columbario_cementerio', 'columna', 'colón', 'comandancia', 'comarca', 'comarcal', 'combate', 'combustible', 'comedor', 'comercial', 'comercial_abierto', 'comisaría', 'comisaría_local', 'comisión', 'comodidad', 'compactación', 'compactado', 'compacto', 'compartido', 'compartimentación', 'compatible', 'compañía', 'compensación', 'competencia', 'competencia_municipal', 'competente', 'competitividad', 'competitividad_empresarial', 'competitivo', 'complejo_ambiental', 'complejo_asistencial', 'complejo_deportivo', 'complejo_hospitalario', 'complejo_ministerial', 'complementar', 'complementario', 'completar', 'completo', 'complutense', 'componente', 'componer', 'compostaje', 'compra', 'comprender', 'comprender_actividad', 'comprendido_denominado', 'comprobación', 'comprobar', 'compuerta', 'compuesto', 'computarizada', 'comunicar', 'comunidad', 'comunidad_autónoma', 'comunidad_madrid', 'comunitario', 'comunitat', 'común', 'común_anticipado', 'concedido', 'concejalía', 'concello', 'concentración_parcelario', 'concepción', 'concesión', 'concesión_administrativo', 'concesión_demanial', 'concesión_directo', 'concierto', 'concluir', 'concreción', 'concreto', 'condensación', 'condesa', 'condicionament', 'conducción', 'conducción_abastecimiento', 'conducto', 'conducto_climatización', 'conductor', 'conectado', 'conectado_red', 'conectar', 'conectividad', 'conexion', 'conexionado', 'confederación_hidrográfico', 'conferencia', 'configuración', 'configurar', 'conformado', 'conformar', 'conforme_orden', 'conformidad', 'conformidad_prescripción', 'conformidad_redactado', 'confort', 'congreso', 'congresos', 'conjunto', 'conjunto_histórico', 'conjunto_modular', 'conjunto_redacción', 'conllevar', 'conocido', 'conocimiento', 'conocimiento_servicio', 'consejeer', 'consejeriar', 'consejería', 'consejería_depresión', 'consejería_ganadería', 'consejerías_deporte', 'conselleria', 'consellería', 'conserje', 'conserjería', 'conservacion', 'conservacion_mto', 'conservación_desmontaje', 'conservación_edificios', 'conservación_mantenimiento', 'conservar', 'conservatorio', 'consistente_perfilado', 'consistorial', 'consolación', 'consolidación_edificación', 'consolidación_estructural', 'consolidación_talud', 'consolidación_terreno', 'consolidar', 'constar', 'constitución', 'construccion', 'construccion_pista', 'construcció', 'construcción_caseto', 'construcción_nicho', 'construcción_pasarelo', 'construido', 'construir', 'consultorio', 'consultorio_medico', 'consultorio_médico', 'contacto', 'contaminación', 'contaminante', 'contar', 'contemplado', 'contemplado_básico', 'contemplar', 'contemporáneo', 'contención', 'contenedor', 'contenedor_soterrado', 'contener', 'contexto_pandemiar', 'contiguo', 'continuación', 'continuado', 'continuar', 'continuidad', 'continuo', 'contr', 'contraincendio', 'contratacion', 'contratante_prescripción', 'contratar', 'contratista', 'contratista_suministrar', 'contratos_sector', 'contribuir', 'contribuir_cumplimiento', 'controlado', 'contrucción', 'convencional', 'convención', 'convento', 'conversión', 'convertir', 'convivencia', 'convivencio', 'convocado', 'cooperación', 'cooperación_económico', 'cooperación_internacional', 'cooperación_servicio', 'cooperación_transfronteriza', 'cooperativo', 'corazón', 'cornisa', 'coronación', 'coronavirus', 'corporativo', 'correctivo', 'correcto', 'correcto_funcionamiento', 'corrector', 'corregir', 'correo', 'correo_telégrafo', 'correos', 'correos_telégrafo', 'corresponder', 'corresponder_destinado', 'corrosión', 'cortafuego', 'cortegado', 'corto', 'costar', 'covid', 'coworking', 'cpso', 'creacion', 'crear', 'crear_espacio', 'crecimiento_programa', 'crecimiento_sostenible', 'crecimiento_temático', 'creer', 'creu', 'crisis', 'cristalera', 'cristalería', 'crta', 'cruce', 'crucero', 'cruzar', 'crítico', 'ctra', 'cuartel', 'cuartel_fuerza', 'cuartel_guardia', 'cuartel_mando', 'cuarto', 'cuatrienio', 'cubierta', 'cubierto_fibrocemento', 'cubierto_inclinado', 'cubrición', 'cubrición_pista', 'cubrimiento', 'cubrir', 'cubrir_tráfico', 'cuidado', 'cultivo', 'cultura', 'cumbre', 'cumplimiento', 'cumplimiento_objetivos', 'cumplimiento_vigente', 'cumplir', 'cumplir_requisito', 'cuneta', 'curso', 'curva', 'cárcel', 'césped', 'césped_artificial', 'código', 'código_clasificación', 'código_postal', 'código_técnico', 'cúpula', 'datos', 'dañado', 'daño', 'daño_causado', 'daño_ocasionado', 'daño_producido', 'decantador', 'decente', 'declarado', 'declarado_ruina', 'decoración', 'decorado', 'decorativo', 'dedicado', 'defecto', 'defectuoso', 'defensa', 'defensivo', 'deficiencia', 'deficiente', 'definición', 'definitivo', 'degradación', 'degradado', 'dejar', 'delantero', 'delimitación', 'delimitado', 'delo', 'demolicion', 'demolición_edificación', 'demolición_infravivienda', 'demolición_parcial', 'demolición_reconstrucción', 'denominación', 'denominado_subsanación', 'densidad', 'departament_salut', 'dependiente', 'dependiente_gerencia', 'dependiente_penitenciario', 'dependiente_área', 'deporte', 'deportiva', 'deportivo_elemental', 'deposito', 'depuración', 'depuradora', 'depuradoro', 'depuradoro_agua', 'depósito_gasoil', 'depósito_regulador', 'derivación', 'derivado', 'derivado_alquiler', 'derivado_tipo', 'derivar', 'derribo', 'derrumbe', 'desagüar', 'desagüe', 'desagües', 'desarrollar', 'desarrollo', 'desarrollo_rural', 'desarrollo_sostenible', 'desbroce', 'desbroce_limpieza', 'desbroz', 'descanso', 'descarga', 'descontaminación', 'descriptivo', 'descrito', 'descubierto', 'descubrir', 'desdoblamiento', 'desempleo', 'desenvolvemento_rural', 'desgaste', 'desglosado', 'desinstalación', 'deslizamiento', 'desmantelamiento', 'desmontabl', 'desmontable', 'desmontado', 'desmontaje_carpa', 'desmontaje_exposición', 'desmontaje_retirado', 'desmontaje_stands', 'desmontaje_traslado', 'desmontar', 'desmonte', 'desmuntatge', 'desnivel', 'despacho_presupuestos', 'despachos', 'despatxos', 'desperfecto', 'desplazamiento', 'despoblamiento_rural', 'desprendimiento', 'destinado_generación', 'destinar', 'destino', 'destino_instituto', 'destino_realojo', 'desuso', 'desvío', 'detallado', 'detallar', 'detección', 'detección_incendio', 'detectado', 'detector', 'deteriorada', 'deteriorado', 'deterioro', 'determinado', 'determinar', 'diciembre', 'diferenciado', 'diferencial', 'dificultar', 'difusión', 'digestor', 'digital', 'digital_transporte', 'dilatación', 'dimensión', 'dinamización', 'diode', 'diputacion', 'diputación_almería', 'diputación_foral', 'dique', 'direccion', 'dirección', 'dirección_general', 'dirección_provincial', 'directo', 'directo_singular', 'director', 'dirigido', 'discapacidad', 'discapacidad_intelectual', 'discurrir', 'diseminado', 'diseño', 'diseño_fabricación', 'disfrutar', 'disfrute', 'disponer', 'disponibilidad', 'disponible', 'dispositivo', 'dispuesto', 'distancia', 'distinto', 'distribuido', 'distribuidor', 'disuasorio', 'diversificación', 'diversificación_ahorro', 'diverso', 'dividido_lote', 'dividir', 'divisorio', 'divulgación', 'diámetro', 'dn_número', 'doble_circuito', 'docente', 'documentación', 'dolor', 'domiciliario', 'dominio', 'dormitorio', 'dosificación', 'dotacion', 'dotacional', 'dotado', 'dotado_calefacción', 'dr_balmis', 'drenaj', 'drenaje_longitudinal', 'drenaje_superficial', 'drenaje_transversal', 'drenante', 'ducha', 'duero', 'durabilidad', 'duración', 'dus_cofinanciación', 'dusi', 'dársena', 'dársén', 'díodo_casco', 'ecológico', 'económico_empresarial', 'económico_plan', 'ecoparque', 'ed_infantil', 'edad', 'edar', 'edición', 'edición_festival', 'edif', 'edificacion', 'edificant', 'edificatorio', 'edifici', 'edificio_demanial', 'edificio_monasterio', 'edificio_plurifamiliar', 'edificio_polifuncional', 'edificio_rondilla', 'edificios', 'edifico', 'educacion', 'educacion_junta', 'educación', 'educación_distancia', 'educación_infantil', 'educativo', 'educativo_consejeria', 'edusi', 'edusi_cofinanciado', 'efectivo', 'efectuar', 'eficiente', 'eje_acción', 'eje_carbono', 'eje_específico', 'eje_feder', 'eje_prioritario', 'ejecucion', 'ejecucion_constructivo', 'ejecutado', 'ejecutar_arreglo', 'ejecutar_determinado', 'ejercicio', 'ejido', 'ejido_almería', 'ejido_ejido', 'ejército', 'elaborado', 'elaborado_puesto', 'electrica', 'electricidad', 'electrico', 'electrificación', 'electromecánico', 'electrónico', 'electrónico_financiado', 'elemento_decorativo', 'elemento_estructural', 'elevación', 'elevado', 'elevador', 'elexible_rural', 'eliminacion', 'eliminación_humedad', 'eliminación_residuo', 'eliminación_resto', 'eliminación_vertido', 'eliminar', 'elipa', 'elixible_eje', 'eléctrico_tensión', 'embalse', 'embarcación', 'embarcadero', 'embarque', 'embellecimiento', 'emergencia_daño', 'emergencia_provocado', 'emergencias', 'emergencio', 'emergencio_adopción', 'emergencio_desescombro', 'emisario', 'emitido', 'emitting_diode', 'empecinado_santovenio', 'empedrado', 'emplazado', 'emplazamiento', 'empleo', 'empleo_agrario', 'empleo_albañilería', 'empotrado', 'emprendimiento', 'empresa', 'empresa_municipal', 'empresarial', 'empresarial_sanitario', 'empresario', 'encaminado', 'encamisado', 'encargar', 'encarnación', 'encauzamiento', 'enclavamiento', 'enclave', 'encontrar', 'encuentro', 'energetico', 'energio', 'energético_alumbrado', 'energético_envolvente', 'energía', 'energía_eléctrico', 'energía_limpio', 'energía_renovable', 'energía_solar', 'energío', 'energío_fotovoltaico', 'enfermería', 'enfermerío', 'enfoscado', 'enfriadora', 'enfriadoro', 'enganche_rápido', 'englobar', 'enlazar', 'enmarcada', 'enmarcada_plan', 'enmarcado', 'enmarcado_plan', 'enmarcado_urbano', 'enmarcar_rural', 'enmedio', 'ensanche', 'ensanche_refuerzo', 'ensayo', 'enser', 'enseñanza', 'enseñanza_infantil', 'ente', 'entender', 'enterrado', 'enterramiento', 'entidad', 'entrega', 'entregar', 'entrenamiento', 'entronque', 'envejecimiento', 'envolvente', 'envolvente_térmico', 'equipación', 'equipado', 'equipo_climatización', 'equipo_mínimo', 'erosión', 'escalinata', 'escalones', 'escalón', 'escape', 'escarificado', 'escena_urbano', 'escenario', 'escenario_modular', 'escenografía', 'escolarización_ciclo', 'escollero', 'escombrera', 'escombro', 'escorrentía', 'escudo', 'escuela_arte', 'escuela_infantil', 'escuela_música', 'escuela_superior', 'escuela_técnica', 'escultor', 'escultura', 'escénico', 'eskola', 'espacial', 'espacios', 'espai', 'espaldón', 'esparcimiento', 'españa_programa', 'española', 'españold', 'españoles', 'especial_agencia', 'especial_apoyo', 'especial_carácter', 'especial_ciclo', 'especialidad', 'especializado', 'especie', 'especificación', 'especificación_característico', 'especificar', 'espectáculo', 'específico', 'específico_actuación', 'específico_convenio', 'específico_culminar', 'esperar', 'espesor', 'espinoso', 'estabilidad', 'estabilización', 'estabilización_talud', 'estable', 'estacion', 'estacionamiento', 'estaciones', 'estación_atocha', 'estación_autobuses', 'estación_autobús', 'estación_bombeo', 'estación_depuración', 'estación_depuradora', 'estación_depuradoro', 'estación_recargo', 'estación_tren', 'estadio', 'estadio_municipal', 'estancia', 'estancia_diurno', 'estanco', 'estanque', 'estanqueidad', 'estatal', 'estatal_tributario', 'estimado', 'estimar', 'estrado', 'estrecho', 'estribo', 'estropeado', 'estructura_metálico', 'estructura_modular', 'estructural_firme', 'estético', 'etap', 'etapa', 'etnográfico', 'europa', 'europa_impulsar', 'europe', 'europea', 'europeo_agrícola', 'euros', 'evacuación', 'evacuación_agua', 'evacuación_pluvial', 'evento', 'evitar', 'evitar_filtración', 'excavación', 'excavación_arqueológico', 'excedente', 'excelentísima_diputación', 'exclusión', 'excma_diputación', 'excmo', 'execución', 'exigencia', 'exigido', 'existencia', 'existent', 'exp_siglo', 'expdte', 'experiencia', 'experimentación', 'experimental', 'expexpedienteiente', 'explanación', 'explanada', 'explanado', 'exploración', 'explosivo', 'explotación', 'explotación_agrario', 'expo', 'exposición', 'expositivo', 'expte', 'expuesto', 'expuesto_presente', 'extender', 'extendido', 'extendido_compactado', 'extensión', 'exterior_envolvente', 'externo', 'externo_hospital', 'extinción', 'extinción_incendio', 'extracción', 'extractor', 'extraordinario', 'fabricación', 'fabricación_montaje', 'fabricación_suministro', 'fabricado', 'fabricar', 'fachada_cubierto', 'fachada_oeste', 'fachada_ventilado', 'facilitar', 'facturación', 'facultad', 'facultad_cc', 'facultad_químico', 'facultativo', 'faldón', 'falso', 'falta', 'faltar', 'fancoils', 'fango', 'farola', 'fase_adjudicar', 'fauna', 'favorecer', 'feader_gasto', 'fecal', 'fecha', 'fecha_diciembre', 'fecha_enero', 'fecha_febrero', 'fecha_julio', 'fecha_noviembre', 'fecha_octubre', 'fecha_septiembre', 'feder_crecimiento', 'feder_eje', 'feder_plurirregional', 'feder_respuesta', 'feder_temático', 'femenino', 'fermín', 'fernán_núñez', 'ferrocarril', 'ferrocarril_metropolitano', 'ferroviarias', 'ferroviario', 'festival', 'festivo', 'fexpedienteer_eje', 'fibra', 'fibra_óptico', 'fibrocemento', 'fiesta', 'fiesta_patronal', 'fijación', 'fijar', 'filipinas', 'filomén', 'filtración_aguo', 'filtro', 'finalización', 'finalizar', 'financiada', 'financiada_cargo', 'financiado_cargo', 'financiado_impulso', 'financiado_mecanismo', 'financiado_next', 'financiado_nextgenerationeu', 'financiado_respuesta', 'financiado_unión', 'financiar', 'finca', 'fincar', 'firmado', 'firmar', 'firme_autovía', 'firme_fresado', 'fisura', 'flexible', 'flomesta_melilla', 'flotante', 'fluido', 'flujo', 'flumen', 'flumen_curbe', 'fluvial', 'foco', 'fomentar', 'fomento', 'fomento_agrario', 'fomento_estabilidad', 'fomento_persona', 'fondos', 'fondos_next', 'fontaneria', 'fontanería', 'fontanerío', 'forjado', 'forjado_sanitario', 'forma', 'formacion', 'formación', 'formación_profesional', 'formado', 'formar', 'forrado', 'fosa', 'fosa_séptico', 'foso', 'fotovoltaica', 'fotovoltaica_autoconsumo', 'fotovoltaico', 'fotovoltaico_autoconsumo', 'fotovoltaico_conectado', 'fotovoltáico', 'fracción', 'francés', 'franja', 'fray', 'frente', 'fresado', 'fresado_reposición', 'frigorífico', 'frio', 'frontal', 'frontón', 'frío', 'fuencarral', 'fuenlabrado', 'fuerteventura', 'fuerza', 'fuga', 'funcionalidad', 'funcionamiento', 'funcionar', 'fundación', 'fundamental', 'fundición', 'futbol', 'futuro', 'fábrica', 'fábrico', 'fátima', 'félix', 'físico', 'fútbol_césped', 'gabia', 'gabinete', 'galería', 'galería_tiro', 'galvanizado', 'ganadero', 'ganadería_junta', 'ganadería_rural', 'gandía', 'garaj', 'garaje', 'garaje_trastero', 'garantizar', 'garganta', 'garita', 'gas_natural', 'gasoil', 'gasto', 'gasto_elexible', 'gasto_refuerzo', 'gasóleo', 'generación', 'generación_eléctrico', 'generación_fotovoltaico', 'generado', 'generador', 'general', 'general_ordenación', 'generalitat', 'generation', 'generation_eu', 'generation_unión', 'generationeu', 'genil', 'geológico', 'geotécnico', 'gerencia', 'gerencia_servicio', 'gestion', 'gestionado', 'gestionar', 'gestión', 'gestión_integral', 'gibraltar', 'gil_siloe', 'gimnasio', 'giratorio', 'global', 'glorieta_intersección', 'gobierno', 'golf', 'goloso', 'gomero', 'gotera', 'grada', 'graderío', 'gral', 'granadilla', 'granito', 'grave', 'grieta', 'grupo_electrógeno', 'grupo_presión', 'grupo_vpp', 'grúa', 'grúa_potencia', 'grúas', 'guadalhorce', 'guadalquivir', 'guagua', 'guardar', 'guardería', 'guardia_civil', 'guipúzcoa', 'guía', 'gállego', 'gándara', 'género', 'habilitar', 'habitabilidad', 'habitación', 'habitación_residencia', 'habitante', 'hacer', 'handling', 'hangar', 'hectárea', 'helicóptero', 'helipuerto', 'hermandad', 'herradura', 'hidrant', 'hidrante', 'hidráulico', 'hierba', 'hierba_artificial', 'higiene', 'historia', 'histórico', 'hito', 'hockey', 'hogar', 'hogar_jubilado', 'hoja', 'homologación', 'homologado', 'hondarribio', 'hora', 'hora_razón', 'horario', 'horizontal', 'horizontal_vertical', 'hormigon', 'hormigonado', 'hormigón_armado', 'hormigón_bituminoso', 'hormigón_impreso', 'hortaleza', 'hospital_clínico', 'hospital_general', 'hospital_sant', 'hospital_universitari', 'hospital_vega', 'hospital_virgen', 'hospitalario', 'hospitalario_provincial', 'hospitalización', 'hotel', 'hueco', 'humanización', 'humano', 'humedad', 'humedal', 'humo', 'hundido', 'hundimiento', 'hábitat', 'híbrido', 'hídrico', 'ibérico', 'icod_vino', 'identificación', 'identificador', 'igrexa', 'ikastetxea', 'ikastola', 'iluminación_led', 'iluminación_ornamental', 'iluminación_sonido', 'ilustre', 'imagen', 'imbornal', 'impacto', 'impedir', 'impermeabilizacion', 'impermeabilización_cubierto', 'impermeabilización_terraza', 'impermeabilización_vaso', 'impermeabilizante', 'impermeabilizar', 'implantacion', 'implantación_acelerador', 'implantación_ancho', 'implantación_equipo', 'implantar', 'implementar', 'implemento', 'importante', 'imprescindible', 'imprimación', 'impulsar', 'impulsión', 'impulsión_agua', 'impulso', 'incendio_forestal', 'incendis', 'incidencia', 'inclemencia_meteorológico', 'incluido_singular', 'inclusivo', 'incluído', 'incluído_plan', 'incorporación', 'incorporar', 'incorporar_especial', 'incrementar', 'incremento', 'independencia', 'independiente', 'independizar', 'indicar', 'individual', 'industrial_enclave', 'infanta', 'infantil_primario', 'inferior', 'información', 'informativo', 'informática', 'informático', 'infraestructura_agrario', 'infraestructura_hidráulico', 'infraestructura_viario', 'infraestructuras', 'infraestructuro', 'ingeniero', 'ingeniero_industrial', 'ingeniería', 'inicial', 'inicio', 'inmaculado', 'inmediación', 'inmediato', 'inmuebl', 'inodoro', 'inserción', 'inserción_sociolaboral', 'insonorización', 'inst', 'instalacion_electrico', 'instalaciones', 'instalación_cpcmálaga', 'instalación_energío', 'instalado', 'instalar', 'instantáneo', 'institut_català', 'instituto_competitividad', 'instituto_diversificación', 'instituto_enseñanza', 'instituto_nacional', 'instituto_secundario', 'instituto_social', 'instituto_tecnológico', 'instrumento', 'insuficiente', 'insular', 'integrado_estrategia', 'integrado_inventario', 'integrado_plurirregional', 'integrado_ría', 'integrado_valència', 'integrante', 'integrar', 'intelectual', 'inteligente', 'intercambiador', 'interconexión', 'intermedio', 'intermodal', 'intermodal_abar', 'intermunicipal', 'internacional', 'internet', 'interno', 'interpretativo', 'interreg', 'interruptor', 'intersección_carretero', 'intervencion', 'intervención_arqueológico', 'intervención_subsidiario', 'intervenir', 'interés_cultural', 'intramuro', 'intrusión', 'inundación', 'invasor', 'inventario', 'inventario_denominado', 'inventario_edificios', 'invernadero', 'inversion', 'inversiones', 'inversión', 'inversor', 'invertir', 'invertir_rural', 'investigación', 'investigación_biomédica', 'invied', 'invierno', 'inyección', 'irún', 'isleta', 'itinerario', 'itinerario_peatonal', 'jardinera', 'jardinería', 'jardines', 'jardín', 'jardín_botánico', 'jefatura', 'jefatura_provincial', 'jerez_frontera', 'jerónimo', 'jesús', 'jiménez', 'jornada', 'josé_antonio', 'josé_manuel', 'judicial', 'juego', 'juego_infantil', 'juegos', 'juegos_infantil', 'julián', 'justificar', 'juvenil', 'kalea', 'kilómetro', 'kilómetro_kilómetro', 'kiosco', 'labor', 'labor_mantenimiento', 'laboral', 'laboral_respetuoso', 'laborar', 'laboratorio_central', 'ladrillo', 'laminado', 'lampisteria', 'lateral', 'latino', 'laurel', 'lavabo', 'lavadero', 'lavandería', 'lcsp', 'lecho', 'led_casco', 'legalización', 'lepanto', 'letra', 'levantado', 'levantamiento', 'levantar', 'levante', 'ley_contratos', 'ley_noviembre', 'libre', 'licitacion', 'licitar', 'lienzo', 'life', 'light_emitting', 'lijado', 'limpieza_cuneta', 'limpieza_desbroce', 'limpio', 'linar', 'linea', 'linea_alto', 'lineal', 'litoral', 'litro', 'lixiviado', 'llamado', 'llanero', 'llegado', 'llegar', 'llenado', 'lobio', 'local_autónomo', 'local_comercial', 'local_ejercicio', 'local_favorecer', 'local_leader', 'localización', 'lodo', 'logistico', 'lograr', 'logístico', 'lona', 'longitud', 'longitud_aproximado', 'longitud_metro', 'longitudinal', 'lonja', 'lonja_puerto', 'loseta', 'lote_denominado', 'lote_rodadura', 'lote_subsanación', 'lubre', 'lucernario', 'lucir', 'luminaria', 'luminaria_tecnologío', 'luminario', 'luminoso', 'luminoso_alumbrado', 'luminoso_emisión', 'lumínico', 'luís', 'lámina', 'láminar', 'lámpara', 'límite', 'límite_provincia', 'línea', 'línea_alta', 'líneas', 'líquido', 'lúdico', 'madre', 'madrugador_sito', 'maestro_serrano', 'magnético', 'mampara', 'mamparar', 'mampostería', 'mamposterío', 'manantial', 'mancomunidad_usos', 'mando', 'manejo', 'manguera', 'maniobra', 'manipulación', 'mano', 'mantener', 'mantenimiento_correctivo', 'mantenimiento_cortafuegos', 'mantenimiento_preventivo', 'manual', 'mapa', 'maqueta', 'maquina', 'maquinaria', 'maquinario', 'maquinario_civil', 'maquinario_pesado', 'maquinista', 'marca_vial', 'marcado', 'marcaje', 'margen', 'margen_derecho', 'marina_baixa', 'marinería', 'marisma', 'marquesina', 'marquesín', 'marqués', 'marítimo', 'marítimo_terrestre', 'masculino', 'maspalomas', 'masía', 'matadero', 'materia', 'material_adecuado', 'matorral', 'mayo_adoptar', 'mayores', 'mecanismo', 'mecanismo_recuperación', 'mecanizado', 'mecánico', 'media_tensión', 'medianera', 'medicina', 'medicina_nuclear', 'medición', 'medieval', 'medioambiental', 'medioambiental_contribuir', 'medioambiental_residuo', 'mediterráneo', 'medín', 'megafonía', 'mejorado', 'mejorar_accesibilidad', 'mellora', 'melloro', 'menjador', 'menor_aprobación', 'menorca', 'menores', 'mercadillo', 'mercado_central', 'mercancía', 'merendero', 'mesón', 'meteorológico', 'metro_lineal', 'metropolitano', 'mezcla_asfáltico', 'mezcla_bituminosa', 'mezcla_bituminós', 'mezclar_bituminós', 'miguel_hernández', 'miguel_ángel', 'mija', 'militar', 'millora', 'minería_carbón', 'minimizar', 'ministerio', 'ministerio_defensa', 'minusválido', 'mirador', 'miraflores', 'mixto', 'mixto_suministro', 'mobiliario', 'modalidad', 'modernización', 'modernización_consolidación', 'modernización_infraestructura', 'modernización_regadío', 'modernización_riego', 'modernizar', 'moderno', 'moderno_sociedad', 'modificacion', 'modificado', 'modificar', 'modular', 'modulo', 'molar', 'molina_segura', 'molina_seguro', 'molineta', 'molí', 'monasterio_maría', 'monegros', 'montacargas', 'montaje_desmontaje', 'montaje_exposición', 'monumento', 'monumento_natural', 'moqueta', 'moratalaz', 'moreras', 'moreruela', 'mortero', 'mosaico', 'mosquitera', 'mostrador', 'mostrar', 'motivado', 'motivo', 'motivo_daño', 'motor', 'motor_pn', 'motorizado', 'movilidad', 'movimiento', 'mueble', 'muell', 'muelle', 'muelle_carga', 'mujer', 'multicriterio_común', 'multifuncional', 'multipl', 'multiuso', 'mundial', 'municipal_cuatrienio', 'municipal_inscrito', 'municipales', 'municipio_comarca', 'municipio_dus', 'municipio_indicar', 'mural', 'muralla', 'muret', 'murete', 'muro_contención', 'muro_escollero', 'muro_mamposterío', 'muro_perimetral', 'muro_sostenimiento', 'museo', 'museo_nacional', 'museístico', 'musical', 'mutuo', 'máquina', 'márgén', 'márgén_carretero', 'mármol', 'mártires', 'médico', 'métrica_potencia', 'mínimo', 'módulo_prefabricado', 'móvil', 'múltiple', 'música', 'músico', 'nacional_tecnificación', 'najerilla_fase', 'naturaleza', 'navalvillar_pela', 'navantia_fernando', 'navarredonda_gredo', 'nave_fruta', 'nave_mercado', 'nave_taller', 'navegación', 'navideño', 'navideño_lote', 'necesitar', 'negociado_publicidad', 'next', 'nextgenerationeu', 'nicho', 'nicolás', 'nivelación', 'nivelado', 'nombre', 'nominal', 'nominal_motor', 'noreste', 'normal', 'noroeste', 'noviembre', 'ntrar_sra', 'nucleo', 'nucleos', 'nudo', 'numancia', 'numero', 'numeroso', 'núcleo_población', 'núcleos', 'número_determinar', 'núñez', 'obejuna', 'objetivos_desarrollo', 'obligatorio', 'obrak', 'obras', 'obras_servicios', 'obres', 'obres_adequació', 'observado', 'observatorio', 'obsoleto', 'obstáculo', 'obtención', 'ocasionado', 'ocasionar', 'ocasión', 'occidental', 'octubre', 'oculto', 'ocupación', 'ocupado', 'ocupar', 'odiel', 'oeste', 'office', 'oficial', 'oficial_arquitectos', 'oficina_comarcal', 'oficina_técnica', 'oficio', 'oficín', 'oncología_radioterápico', 'operaciones', 'operación_seleccionado', 'operador', 'operario', 'operario_combustible', 'operatividad', 'operativo', 'operativo_cooperación', 'operativo_crecimiento', 'operativo_plurirregional', 'oportunidad', 'orden_diciembre', 'ordenación', 'ordenación_territorio', 'ordenación_tráfico', 'ordenado', 'ordinario', 'orense', 'organismo', 'organismo_autorizado', 'organismo_autónomo', 'organización_internacional', 'organizado', 'organizar', 'organization_for', 'oriental', 'original', 'ornamentación', 'ornamental', 'ornamental_tipo', 'orotava', 'outeiro_rei', 'oxidación', 'pabellon', 'pabellón_multiuso', 'pabellón_polideportivo', 'pablo_neruda', 'paciente', 'padel', 'padre', 'paisaje', 'paisajistico', 'paisajístico', 'pajar', 'palacio_congresos', 'palacio_fomento', 'paliar_daño', 'palmeral', 'pandemio', 'panel', 'panel_fotovoltaico', 'panel_sándwich', 'pantalla', 'pantalla_acústico', 'pantalán', 'pantano', 'papelera', 'parado', 'parado_autobús', 'parador', 'paraje', 'paralelo', 'paramento', 'paramento_interior', 'paramento_vertical', 'pararrayo', 'paraíso', 'parc', 'parcela_agrícola', 'parcela_catastral', 'parcela_dotacional', 'parcela_edificación', 'parcela_polígono', 'parcelar', 'parcelar_polígono', 'parcelario', 'parcelo', 'parcheo', 'pared', 'parking', 'parkour', 'parlamento_europeo', 'parque_bombero', 'parque_empresarial', 'parque_jardines', 'parque_lineal', 'parque_natural', 'parque_naturaleza', 'parque_tecnológico', 'parques', 'parquet', 'parroquia', 'parroquias', 'parterr', 'parterre', 'participativo', 'participativo_decidim', 'participativo_incorporar', 'parámetro', 'pasaje', 'pasajero', 'pasamano', 'pasar', 'pasarela_peatonal', 'pasarelar', 'pasarelo', 'paseo_fluvial', 'paseo_infanta', 'paseo_marítimo', 'paseo_peatonal', 'pasillo_plantar', 'paso_nivel', 'paso_superior', 'passeig', 'paterno', 'patinaje', 'patio_interior', 'patios', 'patología', 'patología_conjunto', 'patrimonial', 'patrimonial_sujeto', 'patronato', 'paviment', 'pavimentacion', 'pavimentación_aglomerado', 'pavimentación_mezclar', 'pavimentado', 'pavimentar', 'pavimento_adoquín', 'pavimento_asfáltico', 'pavimento_calzado', 'pavimento_caucho', 'pavimento_hormigón', 'pdr_actuación', 'peaje', 'peatonal_ciclista', 'peatonalización', 'peatón', 'pedanía', 'pedro_alcántara', 'peldaño', 'peligro', 'peligroso', 'pendiente', 'perdido', 'perfilado', 'perfilado_cuneta', 'perforación', 'periférico', 'perimetral', 'periodo', 'periódico', 'permanente', 'permitir', 'perrera', 'persiana', 'persona_desempleo', 'persona_discapacidad', 'persona_reducido', 'perímetro', 'pescado', 'peso_orden', 'peto', 'pgou', 'picasso', 'pieza', 'pieza_especial', 'pilot', 'piloto', 'pintar', 'pintura_mural', 'pintura_paramento', 'pinturar', 'pinturo', 'piscina_climatizado', 'piscina_municipal', 'piscinar', 'piso', 'pista_atletismo', 'pista_baloncesto', 'pista_deportivo', 'pista_multideporte', 'pista_multideportivo', 'pista_padel', 'pista_patinaje', 'pista_polideportiva', 'pista_polideportivo', 'pista_pádel', 'pista_skate', 'pista_tenis', 'pistar', 'pisuerga', 'pk_aproximado', 'pk_pk', 'placa', 'placa_fotovoltaica', 'placa_solar', 'placeta', 'placo', 'pladur', 'plaga', 'plan_director', 'plan_inveat', 'plan_inversiones', 'plan_inversión', 'plan_invertir', 'plan_melloro', 'plan_prevención', 'plan_reactivación', 'plan_recuperacion', 'plan_sostenibilidad', 'plan_superar', 'plan_único', 'planeamiento', 'planes_ordenación', 'planos', 'planta_baixa', 'planta_hospitalización', 'planta_sótano', 'plantación', 'plantación_especie', 'plantar_semisótano', 'plantar_sótano', 'plantear', 'planto', 'planto_fotovoltaico', 'plata_autovía', 'plataforma_elevadoro', 'plataforma_logístico', 'plataforma_único', 'plataformar', 'plataformar_centro', 'platja', 'plato', 'plato_duchaber', 'plaza_toro', 'plazuela', 'plaça', 'pleno', 'pletina', 'plurianual', 'plurianual_cooperación', 'plurilingüe', 'pluriregional_crecimiento', 'plurirregional_crecimiento', 'pluvial_fecal', 'plástico', 'pobla_vallbona', 'poblado', 'pocs_integrado', 'poda', 'poeta', 'polea', 'policarbonato', 'policía', 'policía_local', 'polideportiva', 'polietileno', 'polietileno_alta', 'polifuncional', 'poligono', 'poligono_industrial', 'politécnica', 'poliuretano', 'polivalente', 'polvorín', 'polígono', 'polígono_parcela', 'polígono_parcelar', 'político_específico', 'ponferrado', 'poniente', 'pontón', 'popular', 'porche', 'portada', 'portante', 'portar', 'portar_acceso', 'portería', 'portuario', 'portugués', 'portátil', 'portón', 'posibilitar', 'post', 'postal', 'poste', 'posterior_pavimentación', 'posterior_reposición', 'potable', 'potencia', 'potencia_nominal', 'potenciar', 'pozo_bombeo', 'pp_okay', 'ppkk', 'ppto', 'pq_clave', 'practicable', 'prado_sede', 'precio', 'precio_unitario', 'precisar', 'preciso', 'prefabricada', 'prefabricado', 'prefabricado_hormigón', 'preinstalación', 'preparación', 'preparación_terreno', 'preparado', 'preparar_recuperación', 'presar', 'prescripción', 'presentación_electrónico', 'presentado', 'presente_administrativo', 'presente_consistir', 'presente_detallar', 'presente_prescripción', 'presente_radicar', 'presión', 'preso', 'presupuestario', 'pretender', 'pretender_mejorar', 'pretil', 'pretratamiento', 'prevención', 'preventivo', 'preventivo_incendio', 'prever', 'previo_gasto', 'previsto', 'previsto_real', 'primaria', 'primario', 'primario_adscrito', 'principado', 'prioritario', 'privativo', 'problema', 'procedente', 'proceder', 'producción', 'producido', 'producido_modernización', 'producir', 'productivo', 'productivo_municipio', 'producto', 'profundidad', 'programa', 'programa_fomento', 'programa_operativo', 'programación', 'programación_sectorial', 'programado', 'progreso', 'projecte', 'prolongación', 'promoción', 'promoción_directo', 'promover', 'promover_sector', 'promovido', 'propiedad_junta', 'proponer', 'proporcionar', 'proteccion', 'protección_avifaún', 'protección_civil', 'protección_incendios', 'protección_oficial', 'protector', 'proteger', 'proteger_ambiente', 'protegido', 'protegido_garaje', 'protegido_régimen', 'proveniente', 'provincia_albacete', 'provincia_cofinancia', 'provincia_dependiente', 'provincial_compra', 'provincial_cooperación', 'provincial_insular', 'provincial_plurianual', 'provincial_reactivación', 'provincial_tesorería', 'provincio', 'provisional', 'provocado', 'provocar', 'proxecto', 'proximidad', 'proyección', 'proyectado', 'proyectar', 'proyecto', 'proyector', 'prtr', 'prueba', 'práctico', 'príncipe', 'publica', 'publicado', 'publicado_oportuno', 'publicar', 'publicidad_telefonía', 'publico', 'pueblo', 'puent', 'puente_río', 'puerta_automático', 'puerta_embarque', 'puerta_ventana', 'puerto_algeciras', 'puerto_maría', 'puerto_rosario', 'puesta', 'puesta_funcionamiento', 'puesta_marcha', 'puesta_punto', 'puesta_turístico', 'puesto_funcionamiento', 'puesto_marcha', 'puesto_marchar', 'pulsador', 'punta', 'puntal', 'puntar', 'punto_carga', 'punto_cargar', 'punto_limpio', 'punto_luz', 'punto_recarga', 'punto_recargar', 'punto_recargo', 'punto_visto', 'puntual', 'puçold', 'pádel', 'páramo', 'párroco', 'pérdida', 'pérgola', 'pérgola_fotovoltaica', 'pórtico', 'pósito', 'pública', 'pública_servicios', 'públicas', 'público', 'públicos', 'quedar', 'quintán', 'quirófano', 'químico', 'rack', 'racó', 'radar', 'radiador', 'radiología', 'radioterapio', 'ramal_pk', 'rampa_acceso', 'rampar_acceso', 'ramón_cajal', 'rasante', 'raval', 'razón', 'raíz', 'reaccionar', 'reacondicionamiento', 'reactivación_económico', 'real_decreto', 'real_junio', 'real_septiembre', 'real_túnel', 'realejo', 'realització', 'realizacion', 'realizar', 'reasfaltado', 'rebajar', 'rebosadero', 'recalce', 'recarga', 'recargo', 'recaudación', 'recepción', 'recepción_visitante', 'receptor', 'recibir', 'reciclado', 'reciclaje', 'recinto_ferial', 'recoger', 'recogida', 'recogido', 'recogido_agua', 'recogido_residuo', 'recolocación', 'reconocimiento', 'reconstrucción_muro', 'reconversión', 'recorrido', 'recreativa', 'recreativo', 'recrecido', 'recreo', 'rectangular', 'rectificación', 'recubrimiento', 'recuperacion', 'recuperación_cohesión', 'recuperación_resiliencia', 'recuperación_resiliencio', 'recuperar', 'recursos', 'red_alcantarillado', 'red_convencional', 'red_piezométrico', 'red_separativo', 'red_telecomunicación', 'red_viaria', 'red_viario', 'red_wifi', 'redaccion', 'redacción_básico', 'redacción_constructivo', 'redacción_documentación', 'redactado_arquitecta', 'redactado_arquitecto', 'redactado_ingeniera', 'redactado_ingeniero', 'redistribución', 'redistribución_centro', 'reducción', 'reducción_energío', 'reducción_pobreza', 'reducido', 'reducir', 'reducir_energético', 'reductor_velocidad', 'reestructuración', 'referente', 'referir', 'referir_presente', 'reflejado', 'reforestación', 'reforma_aseos', 'reformado', 'reformar', 'reformo', 'reforzamiento', 'reforzar', 'refrigeración', 'refrigeración_adiabático', 'refuerzo_capa', 'refuerzo_completo', 'refuerzo_estructural', 'refuerzo_firme', 'refundido', 'regadío', 'regadío_regant', 'regant', 'regant_villagonzalo', 'regata', 'regeneracion', 'regeneración', 'regeneración_físico', 'regeneración_pavimento', 'regimiento', 'regional_fexpedienteer', 'regional_pluriregional', 'regir', 'registro', 'región', 'región_murcia', 'reglamentario', 'reglamento', 'reglamento_electrotécnico', 'regulación', 'regulado', 'regulador', 'regular', 'regular_concesión', 'regularización', 'rehabilitacion', 'rehabilitación_estructural', 'rehabilitación_integral', 'rehabilitación_unifamiliar', 'rehabilitar', 'rejilla', 'rejuntado', 'relacionado', 'relativo', 'relativo_inserción', 'relevo', 'relevo_cubierto', 'relleno', 'reloj', 'remate', 'remodelacion', 'remoto', 'renaturalización', 'rendimiento', 'renfe', 'renovable', 'renovable_autoconsumo', 'renovacion', 'renovacion_alumbrado', 'renovar', 'renta', 'reordenación', 'reorganización', 'rep_grupo', 'reparaceír', 'reparacion', 'reparacions', 'reparació', 'reparación_avería', 'reparación_crisis', 'reparación_daño', 'reparación_desperfecto', 'reparación_fuga', 'reparación_gotero', 'reparación_grieta', 'reparación_humedad', 'reparación_hundimiento', 'reparación_rotura', 'reparar', 'reparto', 'repasar', 'repaso', 'repavimentacion', 'repavimentado', 'repetidor', 'repintado', 'repintar', 'replanteo', 'reponer', 'reposicion', 'reposició', 'reposición_firme', 'repuesto', 'requerido', 'requerimiento', 'requerir', 'requisito', 'requisito_agua', 'resanado', 'reserva', 'reservado', 'residencia_anciano', 'residencia_asistido', 'residencia_estudiant', 'residencia_juvenil', 'residencia_militar', 'residencia_mixto', 'residencia_persona', 'residencial', 'residente', 'residual', 'residuales', 'residuo_generado', 'residuo_gibraltar', 'residuo_peligroso', 'residuo_sólido', 'residuos', 'residuos_sólidos', 'resilencia', 'resilencia_financiado', 'resiliencia_next', 'resiliencio', 'resiliente_específico', 'resiliente_favorecer', 'resistencia', 'resolver', 'resonancia_magnético', 'respaldo', 'respectivo', 'respetar_materia', 'respetuoso_ambiente', 'responsable', 'respuesta', 'respuesta_pandemio', 'restablecimiento', 'restante', 'restauracion', 'restauración_ambiental', 'restauración_escombrera', 'restauración_hábitats', 'restauración_muralla', 'restaurante', 'restaurar', 'restitución', 'resto', 'resto_arqueológico', 'restringido', 'resultante', 'resultar', 'resumen', 'retegal', 'retegal_financiado', 'retejado', 'retejado_cubierto', 'retención', 'retirada', 'retiradar', 'retirado_escombro', 'retirado_residuo', 'retirar', 'retiro', 'retorno', 'retranqueo', 'reubicación', 'reurbanizacion', 'reutilización', 'reutilización_agua', 'revisado', 'revitalización', 'riberar', 'rinconado', 'rincón', 'robo', 'rocoso', 'rocío', 'rocódromo', 'rodadura', 'rodadura_aplicación', 'rodadura_zahorro', 'rodapié', 'rodar', 'rodear', 'rollo', 'rops_fops', 'roquetas_mar', 'roto', 'rotonda', 'rotondo', 'rotura', 'rpmd', 'rugby', 'ruido', 'ruina', 'rural_europa', 'rural_fomentar', 'rural_submedido', 'rápido', 'régimen', 'régimen_alquiler', 'régimen_arrendamiento', 'régimen_competitivo', 'régimen_especial', 'río_arga', 'río_tajo', 'rústico', 'sagrado_familia', 'sala_esperar', 'sala_exposición', 'sala_máquina', 'sala_tomografía', 'saladar', 'salida', 'salida_emergencio', 'salido_emergencia', 'salubridad', 'salud_orihuela', 'saludable', 'salvamento', 'salón', 'salón_acto', 'salón_actos', 'salón_pleno', 'saneado', 'saneamiento_depuración', 'saneamiento_ría', 'sanear', 'saneo', 'saneo_blandón', 'sanitaria', 'sant_antoni', 'sant_pere', 'santiago_compostela', 'santibáñez', 'santo_tomar', 'sants', 'santuario', 'satisfacer', 'satisfacer_agrícola', 'satélite', 'sauzal', 'sc_reforma', 'secado', 'secano', 'seccionador', 'seccionamiento', 'secretario', 'sector_canal', 'sector_público', 'sector_subzona', 'sectorial', 'sectorial_obras', 'sectorización', 'secundario', 'sede_agencia', 'sede_central', 'sede_consejería', 'sede_judicial', 'segregado', 'seguir', 'seguretat', 'seguridad', 'seguridad_social', 'seiasa_encargar', 'selección', 'selección_operación', 'sellado', 'sellado_fisura', 'sellado_vertedero', 'sellar', 'selvícola', 'semafórico', 'semisótano', 'semáforo', 'senda_peatonal', 'sendero', 'sendero_peatonal', 'sentido', 'separación', 'separado', 'separador', 'separar', 'separatar', 'separato', 'septiembre', 'serie', 'serranía', 'serreta', 'servei', 'servicio_ambiente', 'servicio_andaluz', 'servicio_competencia', 'servicio_farmacia', 'servicio_funerario', 'servicio_higiénico', 'servicios', 'servicios_comunidad', 'servir', 'severo_ochoa', 'señal', 'señalado', 'señalar', 'señalizacion', 'señalización_balizamiento', 'señalización_horizontal', 'señalización_sendero', 'señalización_vertical', 'señalético', 'señora', 'señoro', 'sierra_espuña', 'sifón', 'siglo', 'sillar', 'silo', 'similar', 'simplificado_abreviado', 'simplificado_sumario', 'simulación', 'sindicato', 'singular', 'singular_local', 'sintético', 'sistema_alarmar', 'sistema_depuración', 'sistema_detección', 'sistema_información', 'sistema_telecontrol', 'sistema_ventilación', 'sistema_videovigilancio', 'sito_avda', 'sito_cl', 'situ', 'situado_avenida', 'situar', 'skate', 'skatepark', 'socavón', 'social', 'sociedad', 'sociedad_estatal', 'sociedad_mercantil', 'socio_cultural', 'sociocultural', 'sociolaboral_persona', 'sociosanitario', 'software', 'sofía', 'solado', 'solar_fotovoltaica', 'soldadura', 'solería', 'solicitado', 'solicitar', 'solucionar', 'solucionar_problema', 'solución', 'sombra', 'sonda', 'sondeo', 'soport', 'soport_publicitario', 'soporte', 'sostenibilidad', 'sostenibilidad_ambiental', 'sostenible', 'sostenible_integrado', 'sostenible_periodo', 'sostenible_relativo', 'sostenimiento', 'soterrado', 'soterramiento', 'soterramiento_aéreo', 'soterramiento_líneas', 'stand', 'stands', 'subdelegación', 'subestación', 'subestación_eléctrico', 'subida', 'submedido_rural', 'subministrament', 'suboficial', 'subsanación', 'subsanación_defecto', 'subsanación_deficiencia', 'subsanación_filtración', 'subsanación_patología', 'subsanar', 'subsanar_deficiencia', 'subsidiario', 'subsidiario_actuación', 'substitució', 'substitución', 'subsuelo', 'subterráneo', 'subterráneo_tensión', 'subvencionado', 'subvencionado_consejería', 'subvencionado_instituto', 'sucio', 'sueco', 'suelo_urbanizable', 'suelto', 'suficiente', 'sufrido', 'sufrir', 'sujeción', 'sujeto', 'sumario', 'sumidero', 'suministrado', 'suministrar', 'suministro_montaje', 'suministro_régimen', 'superar', 'superestructura', 'superficial', 'superficial_firme', 'superficial_pavimento', 'superior_científico', 'superior_ingeniero', 'superior_ingeniería', 'suponer', 'supramunicipal', 'supramunicipal_plan', 'supresión_barrera', 'sureste', 'surf', 'suroeste', 'susceptible', 'susceptible_cofinanciación', 'susceptible_cofinanciado', 'susceptible_financiado', 'suscrito', 'suscrito_arquitecto', 'sustentación', 'sustitucion', 'sustitución_bañera', 'sustitución_caldera', 'sustitución_carpintería', 'sustitución_enfriadoro', 'sustitución_luminaria', 'sustitución_ventana', 'sustituir', 'sustituir_actual', 'símbolo', 'sólido', 'sótano', 'tabaco', 'tabiqu', 'tabique', 'tabiquería', 'tablero', 'tablero_puente', 'tajo', 'taller_bloque', 'talud_plataforma', 'tanatorio', 'tanque', 'tanque_tormenta', 'tapa', 'tapa_arqueta', 'tapado', 'tapiado', 'tapiado_hueco', 'taquilla', 'tarajal', 'tarea', 'tarima', 'tc_tramitar', 'teatro', 'techado', 'techo', 'tecnico', 'tecnología', 'tecnologías', 'tecnologías_información', 'tecnologío', 'tecnologío_led', 'tecnológico', 'tejar', 'telecomunicación', 'telecontrol', 'telefonía', 'telefónico', 'telegestión', 'telemar', 'television', 'televisión', 'temperatura', 'temple', 'templo', 'temático', 'temático_conservar', 'temático_específico', 'tendido', 'tendido_eléctrico', 'tenis', 'tension', 'tercer', 'termal', 'terminacion', 'terminación', 'terminación_urbanización', 'terminado', 'terminal', 'terminal_aeropuerto', 'terminar', 'terminar_municipal', 'termino_municipal', 'termo', 'termo_puerta', 'terraplén', 'terrazo', 'terrenos', 'terrestre', 'territorial', 'territorio', 'territorios_europa', 'tetuán', 'textil', 'tic_escuela', 'tinglado', 'tipo_hormigón', 'tipo_led', 'tipo_lote', 'tipo_pequeño', 'tipo_similar', 'tipología', 'tiro', 'titularidad', 'titularidad_autonómico', 'titularidad_municipal', 'toldo', 'tomar', 'tomillar', 'tomografía_axial', 'tonelada', 'tonelada_métrica', 'torm', 'tormenta', 'tornillo', 'torno', 'torrejón', 'torrejón_ardoz', 'torremolino', 'torrespaña', 'torreta', 'torreón', 'tossal', 'totalidad', 'trabajador', 'trabajos', 'trabajos_construcción', 'tracción', 'tradicional', 'trafico', 'tramitación', 'tramitado', 'tramitar', 'tramitar_lote', 'tramo_completo', 'tramo_comprendido', 'tramo_cp', 'tramo_inicial', 'transferencio', 'transformacion', 'transformacion_resiliencia', 'transformación', 'transformación_agraria', 'transformación_alimentación', 'transformación_resiliencia', 'transformador', 'transformar', 'transfronteriza', 'transitabilidad', 'transitable', 'transporte_montaje', 'transporte_urbano', 'transportes', 'transversal', 'tranvía', 'trasera', 'trasero', 'trasladar', 'traslado', 'trastero', 'trasvase', 'tratado', 'tratamiento_aguas', 'tratamiento_residuos', 'tratamiento_selvícola', 'tratamiento_superficial', 'tratar', 'traumatología', 'trav', 'travesia', 'travesio', 'travesía', 'trayecto', 'trazado', 'trazar', 'treball', 'treballs', 'trecho', 'trecho_clave', 'tren', 'trenes', 'tribuna', 'tributario', 'trifásico', 'trinchera', 'trinquet', 'trinquete', 'tropa', 'tráfico', 'trámite', 'trámite_ordinario', 'tránsito', 'tránsito_peatonal', 'tuberia', 'tuberio', 'tubería_abastecimiento', 'tubería_fibrocemento', 'tubería_impulsión', 'tubería_polietileno', 'tubería_prfv', 'tubería_pvc', 'tuberío', 'tuberío_impulsión', 'tubo', 'turbina', 'turistico', 'turístico', 'turístico_cultural', 'turístico_destino', 'tutelado', 'táctico', 'técnica', 'técnico', 'térmico', 'térmico_biomasa', 'término', 'título', 'túria', 'túria_abierto', 'uas_gerencia', 'ub_bz', 'ubicación', 'ubicar', 'ue_nextgenerationeu', 'ue_pandemio', 'unidad', 'unidad_cuidados', 'unidad_servicios', 'unifamiliar', 'unificado', 'union', 'unir', 'unitat', 'universal', 'universidad', 'universidad_complutense', 'universidad_politécnica', 'universitari_dr', 'universitario', 'universitario_virgen', 'universitat_politècnica', 'universitat_valència', 'unión', 'unión_europea', 'unión_europearopea', 'urbanismo', 'urbanizacion', 'urbanización_mirador', 'urbano_puente', 'urbanístico', 'urbanístico_ciudad', 'urgencia', 'urgente_avería', 'urgente_paliar', 'urgente_presentación', 'urinario', 'usera', 'usuario', 'utilidad', 'utilizado', 'vaciado', 'vacío', 'valduerna', 'valenciana', 'valla', 'valla_perimetral', 'vallado_parcela', 'vallado_perimetral', 'valle_carrascoy', 'vallecas', 'valoración', 'valorado', 'valorado_elaborado', 'valorado_redactado', 'valorar', 'valorización', 'vapor', 'variable', 'variante', 'vaso', 'vaso_piscina', 'vecinal', 'vega_baixa', 'vega_salud', 'vegetación', 'vegetal', 'vehicular', 'vehiculo', 'vehiculo_electrico', 'vehículo_eléctrico', 'vehículos', 'vell', 'velocidad', 'venir', 'venta', 'ventana', 'ventana_aluminio', 'ventanal', 'ventar', 'ventilación', 'verde_digital', 'verja', 'vertedero', 'vertedero_residuo', 'verter', 'vertical', 'vertical_horizontal', 'vertido', 'vertido_incontrolado', 'vestuario_aseo', 'vestuario_femenino', 'vestuario_fútbol', 'vestuario_masculino', 'vestuario_piscina', 'vestíbulo', 'viabilidad', 'viaducto', 'viajero', 'vial_ensayo', 'vicente_barquera', 'vicepresidencia', 'vicálvaro', 'vidrio', 'viento', 'vierteagua', 'viga', 'vigente', 'vigilancia', 'vigilante', 'vigor', 'vilamaior', 'villa_vallecas', 'villarcayo', 'vinculado', 'vinilo', 'virgen_macarena', 'virgen_rocío', 'virtud', 'visado', 'visado_colegio', 'visibilidad', 'visitante', 'visitar', 'vista', 'visto', 'visual', 'vivienda', 'vivienda_protección', 'vivienda_protegida', 'vivienda_suelo', 'vivir', 'voladizo', 'vuelo', 'válvula', 'vélez', 'vía_andén', 'vía_ciclista', 'vía_competencia', 'vía_electrificación', 'vía_pecuario', 'wifi', 'xarxa', 'xunta', 'xunta_gestionado', 'yacimiento', 'yacimiento_arqueológico', 'yeso', 'you_excepcional', 'zahorra', 'zahorra_artificial', 'zahorrar', 'zanja', 'zanjo', 'zona_ajardinada', 'zona_ajardinado', 'zona_común', 'zona_concentración', 'zona_degradado', 'zona_descanso', 'zona_dominio', 'zona_esparcimiento', 'zona_estancial', 'zona_franco', 'zona_guadalhorce', 'zona_juegos', 'zona_regable', 'zona_sombra', 'zona_verde', 'zócalo', 'áfrico', 'águila', 'álamo', 'álvaro', 'ángel', 'ángeles', 'árbol', 'área_bienestar', 'área_degradado', 'área_descanso', 'área_metropolitano', 'área_recreativo', 'área_regeneración', 'árido', 'él_vigente', 'época', 'íntegro', 'óptico', 'óptimo', 'único', 'único_cooperación', 'útil']\n"
     ]
    }
   ],
   "source": [
    "text = df_preprocesado['lemmas']  \n",
    "threshold = 6.5\n",
    "low_importance, high_importance, num_low, num_high, palabras = get_filtered_words(text, threshold)"
   ]
  },
  {
   "cell_type": "code",
   "execution_count": 49,
   "id": "55b54322",
   "metadata": {},
   "outputs": [],
   "source": [
    "lista_palabras = [str(elemento) for elemento in palabras.tolist()]"
   ]
  },
  {
   "cell_type": "code",
   "execution_count": 58,
   "id": "00128e67",
   "metadata": {},
   "outputs": [
    {
     "name": "stdout",
     "output_type": "stream",
     "text": [
      "3763\n",
      "273\n"
     ]
    }
   ],
   "source": [
    "print(len(high_importance))\n",
    "print(len(low_importance))"
   ]
  },
  {
   "cell_type": "code",
   "execution_count": 52,
   "id": "a3bdef0c",
   "metadata": {},
   "outputs": [
    {
     "name": "stdout",
     "output_type": "stream",
     "text": [
      "Palabras de baja importancia añadidas exitosamente al archivo.\n"
     ]
    }
   ],
   "source": [
    "# Ruta al archivo de stopwords manual, añadir \n",
    "stopwords_file_path = '/export/usuarios_ml4ds/lbartolome/Repos/repos_con_carlos/RAG_tool/data/out/optimized/stops_txt/tf_idf.txt'\n",
    "\n",
    "# Escribir las palabras de baja importancia al archivo de stopwords, añadiendo nuevas líneas\n",
    "try:\n",
    "    with open(stopwords_file_path, 'w') as file:\n",
    "        for word in low_importance:\n",
    "            file.write(word + '\\n')\n",
    "    print(\"Palabras de baja importancia añadidas exitosamente al archivo.\")\n",
    "except IOError:\n",
    "    print(\"Error: No se pudo abrir o escribir en el archivo.\")"
   ]
  },
  {
   "cell_type": "code",
   "execution_count": 152,
   "id": "adca08c1",
   "metadata": {},
   "outputs": [
    {
     "name": "stdout",
     "output_type": "stream",
     "text": [
      "Archivo leído correctamente:\n",
      "                        0\n",
      "0                 obimace\n",
      "1                 agüimes\n",
      "2       recreativas_excmo\n",
      "3                olivares\n",
      "4                 chaccac\n",
      "..                    ...\n",
      "377     contracte_técnico\n",
      "378    posterior_direcció\n",
      "379             obres_ram\n",
      "380  projecte_constructiu\n",
      "381                bienal\n",
      "\n",
      "[382 rows x 1 columns]\n"
     ]
    }
   ],
   "source": [
    "# Ruta al archivo .txt\n",
    "archivo_txt = '/export/usuarios_ml4ds/cggamella/NP-Search-Tool/sample_data/stopwords/tf_idf.txt'\n",
    "\n",
    "# Leer el archivo .txt utilizando pandas\n",
    "try:\n",
    "    datos = pd.read_csv(archivo_txt, sep='\\t', header=None)  \n",
    "    print(\"Archivo leído correctamente:\")\n",
    "    print(datos)\n",
    "except FileNotFoundError:\n",
    "    print(\"Error: Archivo no encontrado.\")\n",
    "except pd.errors.ParserError:\n",
    "    print(\"Error: No se pudo interpretar el archivo correctamente.\")"
   ]
  },
  {
   "cell_type": "code",
   "execution_count": 162,
   "id": "78df7b91",
   "metadata": {},
   "outputs": [],
   "source": [
    "lista_palabras = [str(elemento) for elemento in palabras.tolist()]"
   ]
  },
  {
   "cell_type": "code",
   "execution_count": 172,
   "id": "cd94c5db",
   "metadata": {},
   "outputs": [],
   "source": [
    "def filtrar_palabras(lista_palabras, df_lista_datos, dict=False):\n",
    "    \"\"\"\n",
    "    Filtra las palabras en un DataFrame o diccionario según una lista de palabras permitidas.\n",
    "\n",
    "    Parámetros:\n",
    "    - lista_palabras: list, lista de palabras permitidas.\n",
    "    - df_lista_datos: pd.DataFrame o dict, DataFrame o diccionario que contiene las palabras a filtrar.\n",
    "    - dict: bool, si es True, se asume que df_lista_datos es un diccionario.\n",
    "\n",
    "    Retorna:\n",
    "    - list, lista de palabras filtradas que están presentes tanto en el DataFrame o diccionario como en lista_palabras.\n",
    "    - Si dict es True, retorna un diccionario filtrado en lugar de una lista.\n",
    "    \"\"\"\n",
    "    if dict:\n",
    "        # Asumimos que df_lista_datos es un diccionario y filtramos por las claves\n",
    "        claves_filtradas = {clave: valor for clave, valor in df_lista_datos.items() if clave in lista_palabras}\n",
    "        return claves_filtradas\n",
    "    else:\n",
    "        # Asumimos que df_lista_datos es un DataFrame y trabajamos con la primera columna\n",
    "        lista_datos = df_lista_datos.iloc[:, 0].tolist()\n",
    "        palabras_filtradas = [palabra for palabra in lista_datos if palabra in lista_palabras]\n",
    "        return palabras_filtradas"
   ]
  },
  {
   "cell_type": "code",
   "execution_count": 160,
   "id": "bd6d99e5",
   "metadata": {},
   "outputs": [
    {
     "name": "stdout",
     "output_type": "stream",
     "text": [
      "Palabras filtradas: ['obimace', 'agüimes', 'olivares', 'caiss', 'española_patentes', 'marcas', 'álava', 'impacto', 'finalidad', 'acompañamiento', 'real_decreto', 'bonete', 'peñascosa', 'masegoso', 'orden_pedido', 'fac', 'baños_encina', 'socovos', 'pozuelo', 'higueruela', 'albatana', 'alcalá_júcar', 'alatoz', 'bibliográfico', 'folleto', 'económica_financiera', 'exposición_temporal', 'roll_up', 'alhama', 'campillo', 'san_agustín', 'guadalix', 'servizos', 'organizado_jm', 'condado', 'bibliográfico_audiovisual', 'cenes_vega', 'san_antón', 'ossa', 'valdivia', 'educación_cultura', 'electricidad_periodo', 'vpo', 'subsecretaría_conselleria', 'acuartelamiento_guardia', 'obimace', 'inspección_periódico', 'subsanación_deficiencia', 'santa_brígida', 'camí', 'oca', 'acs', 'social_marina', 'grupo_presión', 'jesús', 'salón_acto', 'público_empleo', 'puente_genil', 'servicios_múltiples', 'subsecretaría_ministerio', 'avda', 'victoria_acentejo', 'redactado', 'española_patentes', 'honorario', 'valorado', 'castilleja_cuesta', 'inmueble_sito', 'facultativa_coordinación', 'adyacente', 'término', 'proyecto_básico', 'eliminación_barrera', 'finalidad_promover', 'pos', 'santa_ana', 'municipios_provincias', 'esquina', 'adecuado', 'fuente_cantos', 'tirajana', 'aprobado', 'término', 'servicios_avanzados', 'vilagarcia_arousa', 'definición', 'criterio', 'impartición_formativo', 'facilitar', 'finalidad', 'participativo', 'aspecto', 'ofrecer', 'objeto_consistir', 'constituir_objeto', 'art_ley', 'simplificado_abreviado', 'derivado_sda', 'noviembre_contratos', 'simplificado_abreviado', 'reales', 'bierzo', 'gregorio', 'num', 'mcss_nº', 'establecimiento_clasificación', 'ley_contratos', 'ambulatorio_ámbito', 'vida_hito', 'convencional', 'embargado_unidades', 'ámbito_influencia', 'galería_colecciones', 'cbam_am', 'realització_demostratius', 'reactivo_determinación', 'exp_siglo', 'unidades_integrado', 'estudi', 'mairena_aljarafe', 'consultor_ayuntamientos', 'mairena', 'reservado_especial', 'ley_noviembre', 'revista_consultor', 'bierzo', 'sector_ponent', 'especial_carácter', 'condición_especial', 'pedido_abierto', 'elementos', 'consorcio_compensación', 'infraestructures', 'certificació', 'tabares', 'entitat', 'ciem_valle', 'tractament', 'besòs', 'recollido', 'sant_adrià', 'alumno_as', 'editado_españa', 'ciem_montañeta', 'acord_marc', 'altres', 'endavant', 'fins', 'tipus', 'voluminoso', 'artes_icas', 'reconocimiento_obligación', 'marina_alta', 'cspm_iii', 'localidad_xxviii', 'localidad_xxvii', 'localidad_xxvi', 'nicolás', 'factura_oasshi', 'pobles_anualidad', 'continuación_detallar', 'mostra_iniciativas', 'relación_factura', 'agosto_noches', 'miguel_abona', 'soderin_veintiuno', 'rinconada', 'santa_clara', 'justificativo_ejercicio', 'imagerunner_advance', 'primaria_rt', 'black_white', 'contrder', 'garcia', 'anem_biblio', 'sesión_narración', 'club_lectura', 'alimentacion_reunión', 'justificativo_modificado', 'v_congreso', 'protocolario_recepción', 'pròrroga', 'martinez', 'encuadernación_tapa', 'consejos', 'ciencia_tecnología', 'cultural_cigarreras', 'programa_anem', 'nº_infr', 'copia_mod', 'petición_infr', 'revista_consultor', 'blot', 'particulars', 'particular', 'co_cieza', 'amb_motiu', 'activitats', 'acord_marc', 'gorgos', 'lots', 'subministrament_règim', 'codi_tmb', 'actes', 'liceu', 'equips', 'consistent', 'prestació', 'prestación', 'coordinació', 'coordinació_seguretat', 'direcció_coordinació', 'nucli', 'duración_hora', 'ss_ge', 'agrupación_base', 'matacán', 'pequeño_utillaje', 'resiliencia_financiado', 'molina', 'consorcio_zona', 'sexto_pedido', 'ojj', 'oojj', 'crts', 'objeto_ejecutar', 'proyecto', 'obres_projecte', 'and', 'internacional_normalización', 'general_racionalización', 'señora', 'dg_n', 'adherido_localidad', 'instrucciones_internas', 'plaça', 'tram', 'projecte_bàsic', 'executiu', 'memòria_valorado', 'carrers', 'can', 'dad', 'tot', 'persón', 'persón_amb', 'qual', 'també', 'promoció', 'bienal']\n"
     ]
    }
   ],
   "source": [
    "# Llamada a la función\n",
    "resultado_filtrado = filtrar_palabras(lista_palabras, datos)\n",
    "print(\"Palabras filtradas:\", resultado_filtrado)"
   ]
  },
  {
   "cell_type": "code",
   "execution_count": 161,
   "id": "97231191",
   "metadata": {},
   "outputs": [
    {
     "data": {
      "text/plain": [
       "250"
      ]
     },
     "execution_count": 161,
     "metadata": {},
     "output_type": "execute_result"
    }
   ],
   "source": [
    "len(resultado_filtrado)"
   ]
  },
  {
   "cell_type": "code",
   "execution_count": 165,
   "id": "04eac534",
   "metadata": {},
   "outputs": [
    {
     "name": "stdout",
     "output_type": "stream",
     "text": [
      "Palabras añadidas correctamente al archivo.\n"
     ]
    }
   ],
   "source": [
    "# Ruta al archivo de stopwords manual, añadir \n",
    "file_path = '/export/usuarios_ml4ds/cggamella/NP-Search-Tool/sample_data/stopwords/tf_idf.txt'\n",
    "\n",
    "# Escribir las palabras de baja importancia al archivo de stopwords, añadiendo nuevas líneas\n",
    "try:\n",
    "    with open(file_path, 'w') as file:\n",
    "        for word in resultado_filtrado:\n",
    "            #file.write(word + '\\n')\n",
    "    print(\"Palabras añadidas correctamente al archivo.\")\n",
    "except IOError:\n",
    "    print(\"Error: No se pudo abrir o escribir en el archivo.\")"
   ]
  },
  {
   "cell_type": "code",
   "execution_count": 168,
   "id": "d90c9bd0",
   "metadata": {},
   "outputs": [
    {
     "name": "stdout",
     "output_type": "stream",
     "text": [
      "Archivo leído correctamente:\n",
      "                                                   0\n",
      "0                    aparato_aire:aire_acondicionado\n",
      "1    nacional_supercomputación:supercomputing_center\n",
      "2                  laentidad_pública:entidad_pública\n",
      "3                           urbanístico:urbanización\n",
      "4                              inversiones:inversión\n",
      "..                                               ...\n",
      "493                                       niña:niños\n",
      "494                          autonomía_clm:autonomía\n",
      "495                                  sanchez:sánchez\n",
      "496                                   premio:premios\n",
      "497                                        menu:menú\n",
      "\n",
      "[498 rows x 1 columns]\n"
     ]
    }
   ],
   "source": [
    "# Ruta al archivo de stopwords manual, añadir \n",
    "archivo_txt = '/export/usuarios_ml4ds/cggamella/NP-Search-Tool/sample_data/eq.txt'\n",
    "# Leer el archivo .txt utilizando pandas\n",
    "try:\n",
    "    datos = pd.read_csv(archivo_txt, sep='\\t', header=None)  \n",
    "    print(\"Archivo leído correctamente:\")\n",
    "    print(datos)\n",
    "except FileNotFoundError:\n",
    "    print(\"Error: Archivo no encontrado.\")\n",
    "except pd.errors.ParserError:\n",
    "    print(\"Error: No se pudo interpretar el archivo correctamente.\")\n"
   ]
  },
  {
   "cell_type": "code",
   "execution_count": 171,
   "id": "e18e8989",
   "metadata": {},
   "outputs": [
    {
     "name": "stdout",
     "output_type": "stream",
     "text": [
      "{'aparato_aire': 'aire_acondicionado', 'nacional_supercomputación': 'supercomputing_center', 'laentidad_pública': 'entidad_pública', 'urbanístico': 'urbanización', 'inversiones': 'inversión', 'pgou': 'plan_general_ordenación_urbana', 'cma': 'certifiación_cma', 'pci': 'certificación_pci', 'hermanas': 'hermana', 'parques': 'parque', 'modificado': 'modifiación', 'urb': 'urbanización', 'pymes': 'pyme', 'políticas_sociales': 'política_social', 'investigaciones_oncológicas': 'investigación_oncológica', 'institut_cartogràfic': 'instituto_cartográfico', 'cartogràfic_geològic': 'institut_cartogràfic', 'computarizada': 'tomografía_axial_computarizada', 'topogràfica_escala': 'escala_topográfica', 'revisió_cartografia': 'revisión_cartográfica', 'radiodiagnóstico_ecografía': 'ecografía', 'radiodiagnóstico_resonancia': 'resonancia', 'axial_computarizada': 'tomografía_axial_computarizada', 'rtvc_tf': 'rtvc', 'magnética_nuclear': 'resonancia_magnética', 'resonancia_magnético': 'resonancia_magnética', 'prueba_resonancia': 'resonancia', 'canaria_doctor': 'doctor', 'artesanía_comunitat': 'artesanía', 'clínic_hcb': 'hospital_clinic_barcelona', 'hcb': 'hospital_clinic_barcelona', 'hcb_resuelta': 'hospital_clinic_barcelona', 'sang_teixits': 'sangre_tejidos', 'clínic': 'clínica', 'com_condiceír': 'condicionar', 'consultorio': 'consulta', 'implantabl': 'implantar', 'implantabl_holter': 'holter', 'conservación_cpcmálaga': 'consejo_participación_ciudadana', 'cpc': 'consejo_participación_ciudadana', 'subcontractad_com': 'subcontratar', 'mesures_ambientals': 'medidas_ambientales', 'com_criteris': 'criterio', 'valéncia_comunitat': 'comunidad_valenciana', 'universitat_valéncia': 'upv', 'residencia_caixa': 'caixa', 'fisabio_oftalmología': 'fisabio', 'valenciana_fisabio': 'fisabio', 'biomédica_comunitat': 'biomédica', 'minero_españa': 'minero', 'procurador_común': 'procurador', 'traducción_científico': 'traducción', 'icra_resuelta': 'icra', 'recerca_icra': 'instituto_recerca', 'euskotrenbideak_ffcc': 'euskotren', 'oftalmología_médica': 'oftalmología', 'especialidad_oftalmología': 'oftalmología', 'productos_oftalmología': 'oftalmología', 'salud_illes': 'salud', 'sscc': 'religiosas_sagrados_corazones', 'sscc_pro': 'religiosas_sagrados_corazones', 'sscc_pn': 'religiosas_sagrados_corazones', 'sscc_pa': 'religiosas_sagrados_corazones', 'i_investigació': 'investigación', 'emergencias_principado': 'emergencias', 'urgencias_emergencias': 'emergencias', 'dp_inss': 'insituto_nacional_seguridad_social', 'tgss_inss': 'insituto_nacional_seguridad_social', 'trabajo_insst': 'insituto_nacional_seguridad_social', 'mancomunitat_municipis': 'mancomunidad_municipios', 'mancomunitat': 'mancomunidad', 'residus': 'residuo', 'juventud_ideo': 'juventud', 'banc_sang': 'banco_sangre', 'centre_reinserció': 'centro_reinserción', 'gestió_residus': 'gestión_residuos', 'factura_proforma': 'factura', 'telecomunicacions_innovació': 'inovación_telecomunicaciones', 'telecomunicaciones_asistencia': 'asistencia_telecomunicaciones', 'telecomunicaciones_tecnologías': 'telecomunicaciones', 'telecomunicaciones_sandetel': 'telecomunicaciones', 'centre_telecomunicacions': 'telecomunicaciones', 'serveis_telecom': 'telecomunicaciones', 'material_dgam': 'dirección_general_armamento_material', 'tractament_residus': 'tratamiento_residuos', 'residus_municipals': 'residuos_municipales', 'contenidors': 'contenedor', 'serveis_ambientals': 'medio_ambiente', 'sostenibilidad_ambiente': 'sostenibilidad', 'cofinanciado_fse': 'fse', 'laboratori': 'laboratorio', 'equips': 'equipo', 'residus_vallès': 'residuos', 'eliminación_residuo': 'residuos', 'recoger_residuo': 'residuos', 'selectivo_residuo': 'residuos', 'recollida_residus': 'recogida_residuos', 'tratamiento_residuo': 'tratamiento_residuos', 'centre_tractament': 'centro_tratamiento_residuos', 'servei_recollidor': 'recogida_residuos', 'transport_residus': 'transporte_residuos', 'recollido_transport': 'transporte', 'proposta_ado': 'propuesta', 'mediambientals_sa': 'medio_ambiente', 'revisió': 'revisión', 'manteniment_preventiu': 'mantenimiento_preventivo', 'crtm': 'consorcio_regional_transportes_madrid', 'vehicl': 'vehículo', 'vehicle': 'vehículo', 'transport_tractament': 'transporte', 'música_pobles': 'música', 'deixalleria': 'punto_verde', 'planta_compostatge': 'planta_compostaje', 'substitució': 'substitución', 'neteja_viària': 'limpieza_viaria', 'servei_recollida': 'servicio_recogida', 'sòlids_urbans': 'residuos_sólidos_urbanos', 'istec': 'consorcio_iberoamericano_educación_ciencia_tecnología', 'administració_compto': 'administración', 'guata_ús': 'guata', 'mèdic': 'medicina', 'consultorio_médico': 'médico', 'médico_hospitalario': 'médico', 'servicios_médicos': 'médico', 'médico_gasa': 'médico', 'médico_hospitales': 'hospital', 'médica': 'médico', 'unidad_médica': 'médico', 'prescripción_médico': 'prescripción_médica', 'joan_xxiii': 'juan_xxiii', 'departamento_salud': 'salud', 'incluido_programación': 'programación', 'concierto_banda': 'concierto', 'espacio_turina': 'icas_sevilla', 'artes_icas': 'icas_sevilla', 'icas': 'icas_sevilla', 'campanya_música': 'música', 'proyección_cinematográfico': 'cine', 'proyección_cine': 'cine', 'filmoteca_española': 'filmoteca', 'joventut': 'juventud', 'edición_festival': 'festival', 'proyección_película': 'película', 'detallar_espectáculo': 'espectáculo', 'transports_municipals': 'transporte', 'conserva_ultramarino': 'ultramarino', 'ultramarino_dependiente': 'ultramarino', 'jove': 'juventud', 'pescado_marisco': 'marisco', 'industriales_sepi': 'sepi', 'mostra_mediterrani': 'mediterráneo', 'químico_desechabl': 'químico_desechable', 'cine_doré': 'cine', 'consumibl_hematológico': 'consumible_hematológico', 'alimenticio': 'alimentación', 'endoscopia_endocirugía': 'endoscopia', 'festival_spanish': 'festival', 'bienal_flamenco': 'flamenco', 'festival_flamenco': 'flamenco', 'costa_proaguas': 'costa', 'parc_salut': 'consorci_mar', 'mar_parc': 'consorci_mar', 'molusco_lonja': 'lonja', 'prensa_revista': 'prensa', 'vinculado_memoria': 'memoria', 'española_ciencia': 'ciencia', 'parlament_illes': 'parlamento_islas', 'icfo_institut': 'instituto_icfo', 'ciències_fotòniques': 'icfo_institut', 'parador_aiguablava': 'aiguablava', 'lonja_aiguablava': 'aiguablava', 'coordinador_bibliotecas': 'bibliotecas', 'model': 'modelo', 'parador_mazagón': 'mazagón', 'lonja_mazagon': 'mazagón', 'parador_muxia': 'muxia', 'lonja_muxia': 'muxia', 'autònoma_illes': 'islas_baleares', 'abastecimiento_mercacórdoba': 'abastecimiento', 'samsung_periodo': 'samsung', 'barrios': 'barrio', 'conjunto_medicament': 'medicamento', 'sector_públic': 'sector_público', 'impresión_lona': 'impresión', 'impresión_cartel': 'impresión', 'muncyt': 'museo_nacional_ciencia_tecnología', 'española_lucha': 'lucha', 'geològic': 'geológico', 'geològic_resuelta': 'geológico', 'facultad_medicina': 'medicina', 'desplazamiento_taxi': 'taxi', 'recerca': 'instituto_recerca', 'institut_recerca': 'instituto_recerca', 'recerca_vhir': 'instituto_recerca', 'acceso_concurrent': 'acceso_concurrente', 'espacio_emblemático': 'emblemático', 'consulta_enfermería': 'enfermería', 'polimerasa_multiplex': 'reacción_cadena_polimerasa', 'cadena_polimerasa': 'reacción_cadena_polimerasa', 'polimerasa_cobas': 'polimerasa', 'estudi': 'estudio', 'salud_consultorios': 'salud', 'atención_ivass': 'instituto_ivass', 'ivass': 'instituto_ivass', 'normativa_vigent': 'normativa_vigente', 'sanitarios_area': 'sanitarios', 'cicle': 'ciclo', 'social_nº': 'seguridad_social', 'agència_catalana': 'agencia_catalana', 'imserso_alcuescar': 'imserso', 'deporte_fmd': 'fundación_municipal_deporte', 'diputació': 'diputación', 'transports_sa': 'transportes', 'fira': 'feria', 'serveis_municipals': 'servicios_municipales', 'entitats_locals': 'entidades_locales', 'producció': 'producción', 'fundació_teatre': 'teatro', 'muntatge': 'montaje', 'disseny': 'diseño', 'publicitat': 'publicidad', 'muntatge_desmuntatge': 'montaje', 'societat': 'sociedad', 'comunicació': 'comunicación', 'campanya': 'campaña', 'materials': 'material', 'turisme': 'tursimo', 'adquisiceír': 'adquisición', 'desmuntatge': 'desmontaje', 'festa_major': 'fiesta', 'concert': 'concierto', 'tècnico': 'técnico', 'medi_ambient': 'medio_ambiente', 'protecció': 'protección', 'valencià': 'valencia', 'jardins': 'jardín', 'museu': 'museo', 'consorci_museu': 'museo', 'policia': 'polícia', 'projectes': 'proyecto', 'paviment': 'pavimento', 'rey_juan': 'rey_juan_carlos', 'juan_carlos': 'rey_juan_carlos', 's_polvo': 'povlo', 'turisme_comunitat': 'turismo', 'contractació_pot': 'contratación', 'centro_estudioos': 'centro_estudios', 'icex_españa': 'icex', 'icex_dakar': 'icex', 'icex_contratado': 'icex', 'portales_icex': 'icex', 'fiscalicex': 'icex', 'icexlnvest': 'icex', 'icex_berlinale': 'icex', 'nºsidae': 'idae', 'abastecimiento_mallorca': 'abastecimiento', 'iriaf': 'instituto_iriaf', 'forestal_mancha': 'instituto_iriaf', 'corporació_catalana': 'corporación_catalana_medios_audiovisuales', 'mitjans_audiovisuals': 'corporación_catalana_medios_audiovisuales', 'laborales': 'laboral', 'labora': 'laboral', 'médico_incibe': 'instituto_incibe', 'incibeinspira': 'instituto_incibe', 'españa_incibe': 'instituto_incibe', 'incibe': 'instituto_incibe', 'ciberseguridad_incibe': 'instituto_incibe', 'merchandising_incibe': 'instituto_incibe', 'impossibilitats': 'imposibildad', 'persones_dependents': 'personas_dependientes', 'bculture': 'cultura', 'professionals': 'profesional', 'loscertificado_profesionalidad': 'certificado_profesional', 'actualització': 'actualización', 'unión_mutuas': 'mutualidad', 'mutualismo': 'mutualidad', 'mutualitats': 'mutualidad', 'mutualitat': 'mutualidad', 'mutuas': 'mutualidad', 'mutuas_accidentes': 'mutualidad', 'mutualista': 'mutualidad', 'mutuas_colaboradoras': 'mutualidad', 'clinica_mutualidad': 'mutualidad', 'mutualidad_funcionarios': 'mutualidad', 'synchronize_mutua': 'sincronización', 'mcss': 'mutuas_claboradoras_seguridad_social', 'mutuas_mcss': 'mutuas_claboradoras_seguridad_social', 'cyclops_mcss': 'mutua_cyclops', 'midat_cyclops': 'mutua_cyclops', 'egarsat_mcss': 'mutua_egarsat', 'egarsat_mutuo': 'mutua_egarsat', 'egarsat_mutua': 'mutua_egarsat', 'protegida_egarsat': 'mutua_egarsat', 'protegido_egarsat': 'mutua_egarsat', 'egarsat_egarsat': 'mutua_egarsat', 'egarsatsp': 'mutua_egarsat', 'activa_mutua': 'mutua_activa', 'trabajo_enfermadades': 'enfermedades_trabajo', 'estatal_loterías': 'loterías_del_estado', 'lotería_nacional': 'loterías_del_estado', 'lotería_apuestas': 'loterías_del_estado', 'juego_lotería': 'loterías_del_estado', 'juego_loterías': 'loterías_del_estado', 'loterías': 'loterías_del_estado', 'ús_medicina': 'medicina', 'neurodegenerativas_ciberned': 'ciberned', 'red_enfermedades': 'enfermedad', 'mat_fungible': 'material_fungible', 'boletín_oficial': 'boletín_oficial_del_estado', 'boes': 'boletín_oficial_del_estado', 'consorci_sanitari': 'consorcio_santiario', 'consorci_mar': 'consorcio_mar', 'pequeño_electricidad': 'electricidad', 'consumibl_sustitución': 'consumible', 'arts_sofía': 'museo_reina_sofía', 'arte_sofía': 'museo_reina_sofía', 'electricidad_calefacción': 'calefacción', 'pequeño_fontanería': 'fontanería', 'mitjans_comunicación': 'corporación_cvmc', 'comunicación_cvmc': 'corporación_cvmc', 'cvmc_sociedad': 'corporación_cvmc', 'cpp_cvmc': 'corporación_cvmc', 'riedel_cvmc': 'corporación_cvmc', 'samc_cvmc': 'corporación_cvmc', 'cvmc': 'corporación_cvmc', 'corporació_valenciana': 'corporación_cvmc', 'ambulatorio_población': 'ambulatorio', 'politécnica': 'universidad_politécnica', 'upm': 'universidad_politécnica', 'universitat_politècnica': 'universidad_politécnica', 'ucm': 'universidad_complutense', 'turismo_españa': 'turismo', 'establecimiento_paradores': 'paradores', 'pope': 'papa', 'estrategia_urbanizaciónano': 'estrategia_urbanización', 'xunta_goberno': 'junta_gobierno', 'ab_mariscos': 'mariscos', 'exportación_cesce': 'cesce', 'cesce_ciac': 'cesce', 'olimpiadas_cesce': 'cesce', 'cesce_lisboa': 'cesce', 'cesce_latinoamérica': 'cesce', 'filial_cesce': 'cesce', 'sucursal_cesce': 'cesce', 'cesce_portugal': 'cesce', 'convención_cesce': 'cesce', 'consorcio_zona': 'consorcio_zona_franca', 'canal_isabel': 'canal_isabel_ii', 'isabel_ii': 'canal_isabel_ii', 'verificaciones_industriales': 'verificación_industrial', 'ejie': 'sociedad_informática_gobierno_vasco', 'ejie_osakidetza': 'sociedad_informática_gobierno_vasco', 'osakidetza_ejie': 'sociedad_informática_gobierno_vasco', 'convergencia_ejie': 'sociedad_informática_gobierno_vasco', 'normalizado_ejie': 'sociedad_informática_gobierno_vasco', 'eitb': 'radio_televisión_pública_vasca', 'eitb_maratoia': 'radio_televisión_pública_vasca', 'telebista_eitb': 'radio_televisión_pública_vasca', 'eitb_media': 'radio_televisión_pública_vasca', 'continuidad_eitb': 'radio_televisión_pública_vasca', 'plató_eitb': 'radio_televisión_pública_vasca', 'eitb_miramon': 'radio_televisión_pública_vasca', 'eitb_miramón': 'radio_televisión_pública_vasca', 'universitario_gregorio': 'hospital_universitario_gregorio_marañón', 'gregorio_marañon': 'hospital_universitario_gregorio_marañón', 'gregorio_marañón': 'hospital_universitario_gregorio_marañón', 'marañon': 'hospital_universitario_gregorio_marañón', 'marañón': 'hospital_universitario_gregorio_marañón', 'cspt': 'corporación_sanitària_parc_taulí', 'sanitària_parc': 'corporación_sanitària_parc_taulí', 'taulí_resuelta': 'corporación_sanitària_parc_taulí', 'salud_osasunbidea': 'salud', 'aaee': 'academia_aaee', 'aaee_solicitud': 'academia_aaee', 'govern_local': 'govierno_local', 'tecnologies_informació': 'telecomunicaciones', 'fundació_universitat': 'universidad', 'universitat': 'universidad', 'oberta': 'abierta', 'programari': 'software', 'llicències': 'licencias', 'serveis_socials': 'servicios_sociales', 'risco_laborals': 'riesgos_laborales', 'afers_socials': 'asuntos_sociales', 'famílies_resuelta': 'familias', 'axencia_galega': 'agencia_gallega', 'sujetar_regulación': 'regulación', 'axencia_turismo': 'agencia_turismo', 'universitat_pompeu': 'universidad_pompeu_fabra', 'fabra': 'universidad_pompeu_fabra', 'carretera_pk': 'carretera', 'serveis_universitaris': 'servicios_universitarios', 'tram': 'tren', 'rio_hortega': 'hospital_rio_hortega', 'río_hortega': 'hospital_rio_hortega', 'hospital_univ': 'hospital', 'evolutivo': 'evolución', 'fibra_óptico': 'fibra_óptica', 'sed_crtve': 'rtve', 'conductor_crtve': 'rtve', 'crtve': 'rtve', 'cpp_rtve': 'rtve', 'rtve_eett': 'rtve', 'higienización_crtve': 'rtve', 'vending_crtve': 'rtve', 'contribución_crtve': 'rtve', 'ct_rtve': 'rtve', 'ocrtve': 'rtve', 'taxi_crtve': 'rtve', 'irtve': 'rtve', 'señal_rtve': 'rtve', 'mercancía_crtve': 'rtve', 'cliente_rtve': 'rtve', 'rtve_cliente': 'rtve', 'concierto_ortve': 'concierto_rtve', 'informativa_rtve': 'informativo_rtve', 'rtveplay': 'rtve_play', 'extremeño_público': 'sexpe', 'mrr_sexpe': 'sexpe', 'empleo_sexpe': 'sexpe', 'server': 'servidor', 'recurso_humano': 'recursos_humanos', 'rrhh': 'recursos_humanos', 'rrhh_nómina': 'nómina', 'puertos': 'puerto', 'cofinanciado_feder': 'fondo_feder', 'feder_crecimiento': 'fondo_feder', 'feder_convocatorio': 'fondo_feder', 'feder_plurirregional': 'fondo_feder', 'cofinanciado': 'cofinanciación', 'cofinanciada_fondo': 'cofinanciación', 'españa_papa': 'papa', 'vacuna_frente': 'vacuna', 'cofinanciado_unión': 'cofinanciación', 'movilidad_urbanizaciónana': 'movilidad_urbana', 'mobiliario_urbanizaciónano': 'mobiliario_urbanización', 'casco_urbanizaciónano': 'casco_urbano', 'reurbanizaciónanización': 'reurbanización', 'arquitectónico': 'arquitectura', 'especiales_empleo': 'empleo', 'canto': 'cantos', 'catastral': 'catastro', 'polígono_parcela': 'parcela_polígono', 'municipio': 'municipios', 'ivf': 'clínica_ivf', 'finances_ivf': 'clínica_ivf', 'prórroga_ivf': 'clínica_ivf', 'prórrogar_ivf': 'clínica_ivf', 'ivf_inferior': 'clínica_ivf', 'colegios_públicos': 'colegio_público', 'dependencias_municipales': 'dependencia_municipal', 'clínicaa_universitaria': 'clínica', 'estudioos_navegación': 'estudios_navegación', 'subasta_aprovechamiento': 'subasta', 'alto_velocidad': 'alta_velocidad', 'penitenciarios': 'centro_penitenciario', 'penitenciarios_dependiente': 'centro_penitenciario', 'idioma_inglés': 'inglés', 'idioma_ingles': 'inglés', 'idioma_españold': 'español', 'idioma_italiano': 'italiano', 'idioma_ruso': 'ruso', 'idioma_árabe': 'árabe', 'idioma_portugués': 'portugués', 'sector_públicoo': 'sector_público', 'ambulatorio_localidad': 'ambulatoio', 'fisioterapia_régimen': 'fisioterapia', 'público_trabajo': 'trabajo_público', 'juegos_infantil': 'juegos_infantiles', 'plaza_toro': 'plaza_toros', 'niño_niña': 'niños', 'niño': 'niños', 'niña': 'niños', 'autonomía_clm': 'autonomía', 'sanchez': 'sánchez', 'premio': 'premios', 'menu': 'menú'}\n"
     ]
    }
   ],
   "source": [
    "# Convertir la columna del DataFrame en una lista\n",
    "lineas = datos.iloc[:, 0].tolist()\n",
    "\n",
    "# Crear el diccionario dividiendo cada línea por el delimitador ':'\n",
    "diccionario = {}\n",
    "\n",
    "for linea in lineas:\n",
    "    if linea:  # Verificar que la línea no esté vacía\n",
    "        clave, valor = linea.split(':')\n",
    "        diccionario[clave.strip()] = valor.strip()  # Eliminar espacios en blanco opcionales\n",
    "\n",
    "print(diccionario)"
   ]
  },
  {
   "cell_type": "code",
   "execution_count": 174,
   "id": "c9a32b9c",
   "metadata": {},
   "outputs": [
    {
     "name": "stdout",
     "output_type": "stream",
     "text": [
      "Palabras filtradas: {}\n"
     ]
    }
   ],
   "source": [
    "resultado_filtrado = filtrar_palabras(lista_palabras, datos, dict=True)\n",
    "print(\"Palabras filtradas:\", resultado_filtrado)"
   ]
  },
  {
   "cell_type": "code",
   "execution_count": null,
   "id": "42d103ef",
   "metadata": {},
   "outputs": [],
   "source": [
    "'''\n",
    "# Ruta donde se encuentran los archivos de stopwords\n",
    "ruta_stopwords = '/export/usuarios_ml4ds/cggamella/NP-Search-Tool/sample_data/stopwords'\n",
    "\n",
    "# Cargar todas las stopwords desde los archivos\n",
    "stopwords = set()\n",
    "for archivo in os.listdir(ruta_stopwords):\n",
    "    if archivo.endswith('.txt'):\n",
    "        ruta_completa = os.path.join(ruta_stopwords, archivo)\n",
    "        with open(ruta_completa, 'r', encoding='utf-8') as f:\n",
    "            stopwords.update(f.read().splitlines())\n",
    "\n",
    "# Vectorizar el proceso de eliminación de stopwords\n",
    "def eliminar_stopwords(fila):\n",
    "    return ' '.join([palabra for palabra in fila.split() if palabra not in stopwords])\n",
    "\n",
    "# Aplicar la función de manera vectorizada\n",
    "df_preprocesado['lemmas'] = df_preprocesado['lemmas'].apply(eliminar_stopwords)\n",
    "'''"
   ]
  },
  {
   "cell_type": "markdown",
   "id": "e47941eb",
   "metadata": {},
   "source": [
    "Antes de aplicar las stopwords"
   ]
  },
  {
   "cell_type": "code",
   "execution_count": null,
   "id": "3b7b49cc",
   "metadata": {},
   "outputs": [],
   "source": [
    "df_preprocesado['lemmas'].iloc[200030]"
   ]
  },
  {
   "cell_type": "markdown",
   "id": "992ec401",
   "metadata": {},
   "source": [
    "Después de aplicar las stopwords"
   ]
  },
  {
   "cell_type": "code",
   "execution_count": null,
   "id": "fbd4b8ff",
   "metadata": {},
   "outputs": [],
   "source": [
    "df_preprocesado['lemmas'].iloc[200030]"
   ]
  },
  {
   "cell_type": "code",
   "execution_count": null,
   "id": "7f669fe8",
   "metadata": {},
   "outputs": [],
   "source": [
    "df_preprocesado"
   ]
  }
 ],
 "metadata": {
  "kernelspec": {
   "display_name": "Python 3 (ipykernel)",
   "language": "python",
   "name": "python3"
  },
  "language_info": {
   "codemirror_mode": {
    "name": "ipython",
    "version": 3
   },
   "file_extension": ".py",
   "mimetype": "text/x-python",
   "name": "python",
   "nbconvert_exporter": "python",
   "pygments_lexer": "ipython3",
   "version": "3.10.11"
  }
 },
 "nbformat": 4,
 "nbformat_minor": 5
}
