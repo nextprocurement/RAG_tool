{
 "cells": [
  {
   "cell_type": "code",
   "execution_count": 2,
   "id": "7b8ddb70",
   "metadata": {},
   "outputs": [],
   "source": [
    "import pandas as pd\n",
    "import numpy as np\n",
    "import re\n",
    "import matplotlib.pyplot as plt\n",
    "import matplotlib.ticker as ticker\n",
    "from langdetect import detect\n",
    "from collections import Counter\n",
    "from sklearn.feature_extraction.text import TfidfVectorizer\n",
    "from sklearn.feature_extraction.text import CountVectorizer\n",
    "from scipy.sparse import csr_matrix"
   ]
  },
  {
   "cell_type": "code",
   "execution_count": 102,
   "id": "eb22364b",
   "metadata": {},
   "outputs": [],
   "source": [
    "#Leer el archivo parquet que sale del preprocess.py\n",
    "path = '/export/usuarios_ml4ds/lbartolome/NextProcurement/data/processed_10_abr/trf_lote_es.parquet'\n",
    "df_preprocesado = pd.read_parquet(path)"
   ]
  },
  {
   "cell_type": "markdown",
   "id": "d0f79833",
   "metadata": {},
   "source": [
    "# Función para detectar idiomas"
   ]
  },
  {
   "cell_type": "code",
   "execution_count": null,
   "id": "4ea81b21",
   "metadata": {},
   "outputs": [],
   "source": [
    "# Función para detectar el lenguaje con langdetect\n",
    "def detect_lang(x: str) -> str:\n",
    "    try:\n",
    "        lang = detect(x)\n",
    "        print(lang)\n",
    "    except:\n",
    "        lang = 'Other'\n",
    "    return lang"
   ]
  },
  {
   "cell_type": "markdown",
   "id": "b5f84f9a",
   "metadata": {},
   "source": [
    "# Cargando modelo tópicos"
   ]
  },
  {
   "cell_type": "code",
   "execution_count": 105,
   "id": "19a2a6bc",
   "metadata": {},
   "outputs": [],
   "source": [
    "# Cargar descripciones de tópicos, es la salida del modelo LDA\n",
    "#tpc_descriptions_path = \"/export/usuarios_ml4ds/lbartolome/NextProcurement/NP-Search-Tool/sample_data/models/Mallet/Mallet_5_topics/model_data/TMmodel/tpc_descriptions.txt\"\n",
    "#tpc_descriptions = pd.read_csv(tpc_descriptions_path, header=None, names=['description'])\n",
    "\n",
    "# Cargar etiquetas de tópicos\n",
    "#tpc_labels_path = \"/export/usuarios_ml4ds/lbartolome/NextProcurement/NP-Search-Tool/sample_data/models/Mallet/Mallet_5_topics/model_data/TMmodel/tpc_labels.txt\"\n",
    "#tpc_labels = pd.read_csv(tpc_labels_path, header=None, names=['label'])\n",
    "\n",
    "# Cargar embeddings de tópicos, ahora mismo no son necesarias\n",
    "#tpc_embeddings_path = \"/export/usuarios_ml4ds/lbartolome/NextProcurement/NP-Search-Tool/sample_data/models/Mallet/Mallet_5_topics/model_data/TMmodel/tpc_embeddings.npy\"\n",
    "#tpc_embeddings = np.load(tpc_embeddings_path, allow_pickle=True)"
   ]
  },
  {
   "cell_type": "markdown",
   "id": "3724ab59",
   "metadata": {},
   "source": [
    "# Cargando el corpus"
   ]
  },
  {
   "cell_type": "code",
   "execution_count": 108,
   "id": "37941d4e",
   "metadata": {},
   "outputs": [],
   "source": [
    "# Cargar el corpus\n",
    "#corpus_path = \"/export/usuarios_ml4ds/lbartolome/NextProcurement/NP-Search-Tool/sample_data/models/Mallet/Mallet_5_topics/train_data/corpus.txt\"\n",
    "#corpus_df = pd.read_csv(corpus_path, header=None, names=['description'], index_col=False)"
   ]
  },
  {
   "cell_type": "code",
   "execution_count": 109,
   "id": "71b0bb10",
   "metadata": {},
   "outputs": [],
   "source": [
    "#corpus_df"
   ]
  },
  {
   "cell_type": "code",
   "execution_count": 110,
   "id": "a6d4a882",
   "metadata": {},
   "outputs": [],
   "source": [
    "def quitar_prefijo(texto):\n",
    "    \n",
    "    patron = r'^\\d+\\t\\d+\\t'\n",
    "    texto_modificado = re.sub(patron, '', texto)\n",
    "    \n",
    "    return texto_modificado"
   ]
  },
  {
   "cell_type": "code",
   "execution_count": 111,
   "id": "20aa9836",
   "metadata": {},
   "outputs": [],
   "source": [
    "#corpus_df['description'] = corpus_df['description'].apply(quitar_prefijo)"
   ]
  },
  {
   "cell_type": "code",
   "execution_count": 112,
   "id": "859a124f",
   "metadata": {},
   "outputs": [],
   "source": [
    "#pd.set_option('max_colwidth', None)"
   ]
  },
  {
   "cell_type": "code",
   "execution_count": 113,
   "id": "b6db9daa",
   "metadata": {},
   "outputs": [],
   "source": [
    "#corpus_df"
   ]
  },
  {
   "cell_type": "code",
   "execution_count": 114,
   "id": "e7b9f4d4",
   "metadata": {},
   "outputs": [
    {
     "data": {
      "text/plain": [
       "\"\\ndef generar_dataframe_desde_txt(vocab_path):\\n    # Inicializar listas para almacenar los componentes separados\\n    palabras = []\\n    freqs = []\\n\\n    # Abrir el archivo para lectura\\n    with open(vocab_path, 'r', encoding='utf-8') as archivo:\\n        # Iterar sobre cada línea del archivo\\n        for linea in archivo:\\n            # Dividir la línea por el tabulador\\n            partes = linea.strip().split('\\t')\\n            # Asegurar que la línea tiene exactamente dos partes\\n            if len(partes) == 2:\\n                palabra, freq = partes\\n                palabras.append(palabra)\\n                freqs.append(int(freq)) \\n\\n    # Crear un df con las listas de palabras y frecuencias\\n    df = pd.DataFrame({\\n        'palabra': palabras,\\n        'freq': freqs\\n    })\\n\\n    return df\\n\""
      ]
     },
     "execution_count": 114,
     "metadata": {},
     "output_type": "execute_result"
    }
   ],
   "source": [
    "'''\n",
    "def generar_dataframe_desde_txt(vocab_path):\n",
    "    # Inicializar listas para almacenar los componentes separados\n",
    "    palabras = []\n",
    "    freqs = []\n",
    "\n",
    "    # Abrir el archivo para lectura\n",
    "    with open(vocab_path, 'r', encoding='utf-8') as archivo:\n",
    "        # Iterar sobre cada línea del archivo\n",
    "        for linea in archivo:\n",
    "            # Dividir la línea por el tabulador\n",
    "            partes = linea.strip().split('\\t')\n",
    "            # Asegurar que la línea tiene exactamente dos partes\n",
    "            if len(partes) == 2:\n",
    "                palabra, freq = partes\n",
    "                palabras.append(palabra)\n",
    "                freqs.append(int(freq)) \n",
    "\n",
    "    # Crear un df con las listas de palabras y frecuencias\n",
    "    df = pd.DataFrame({\n",
    "        'palabra': palabras,\n",
    "        'freq': freqs\n",
    "    })\n",
    "\n",
    "    return df\n",
    "'''"
   ]
  },
  {
   "cell_type": "code",
   "execution_count": 115,
   "id": "8155742f",
   "metadata": {},
   "outputs": [],
   "source": [
    "#vocab_path = \"/export/usuarios_ml4ds/lbartolome/NextProcurement/NP-Search-Tool/sample_data/models/Mallet/Mallet_5_topics/model_data/vocab_freq.txt\"\n",
    "#df = generar_dataframe_desde_txt(vocab_path)\n",
    "#df_ordenado = df.sort_values(by='freq', ascending=False).reset_index(drop=True)"
   ]
  },
  {
   "cell_type": "code",
   "execution_count": 116,
   "id": "5d35fa6f",
   "metadata": {},
   "outputs": [],
   "source": [
    "#vocab = pd.read_csv(vocab_path, header=None,index_col=False)"
   ]
  },
  {
   "cell_type": "code",
   "execution_count": 117,
   "id": "45eb5946",
   "metadata": {},
   "outputs": [],
   "source": [
    "#df_ordenado.to_csv('palabras_con_freq.csv',index = False)"
   ]
  },
  {
   "cell_type": "markdown",
   "id": "f1a1135b",
   "metadata": {},
   "source": [
    "# Sacando stopwords TF-IDF"
   ]
  },
  {
   "cell_type": "code",
   "execution_count": 26,
   "id": "2aa3f726",
   "metadata": {},
   "outputs": [],
   "source": [
    "#Leer el archivo parquet que sale del preprocess.py\n",
    "path = \"/export/usuarios_ml4ds/lbartolome/Repos/repos_con_carlos/RAG_tool/data/out_pliegos/optimized/3.equivalence_detection/all_extracted_12aug_es_4_objectives_both/aux_topic_model/MalletLda_100/all_extracted_12aug_es_4_objectives_both_embeddings_preproc.parquet\"\n",
    "\n",
    "df_preprocesado = pd.read_parquet(path)"
   ]
  },
  {
   "cell_type": "code",
   "execution_count": 27,
   "id": "943eafcf",
   "metadata": {},
   "outputs": [
    {
     "data": {
      "text/html": [
       "<div>\n",
       "<style scoped>\n",
       "    .dataframe tbody tr th:only-of-type {\n",
       "        vertical-align: middle;\n",
       "    }\n",
       "\n",
       "    .dataframe tbody tr th {\n",
       "        vertical-align: top;\n",
       "    }\n",
       "\n",
       "    .dataframe thead th {\n",
       "        text-align: right;\n",
       "    }\n",
       "</style>\n",
       "<table border=\"1\" class=\"dataframe\">\n",
       "  <thead>\n",
       "    <tr style=\"text-align: right;\">\n",
       "      <th></th>\n",
       "      <th>id_tm</th>\n",
       "      <th>raw_text</th>\n",
       "      <th>lemmas</th>\n",
       "      <th>embeddings</th>\n",
       "      <th>n_tokens</th>\n",
       "    </tr>\n",
       "  </thead>\n",
       "  <tbody>\n",
       "    <tr>\n",
       "      <th>0</th>\n",
       "      <td>0</td>\n",
       "      <td>El equipamiento para suministrar, incluyendo s...</td>\n",
       "      <td>equipamiento suministrar instalación puesta fu...</td>\n",
       "      <td>-0.018870374 -0.046697762 -0.025614059 -0.0101...</td>\n",
       "      <td>11</td>\n",
       "    </tr>\n",
       "    <tr>\n",
       "      <th>1</th>\n",
       "      <td>1</td>\n",
       "      <td>Contratación artística de la exposición “Foto ...</td>\n",
       "      <td>artístico exposición</td>\n",
       "      <td>-0.026613018 -0.00078873034 -0.022216951 0.018...</td>\n",
       "      <td>5</td>\n",
       "    </tr>\n",
       "    <tr>\n",
       "      <th>2</th>\n",
       "      <td>2</td>\n",
       "      <td>El objeto del presente contrato es la adquisic...</td>\n",
       "      <td>presente adquisición almacenamiento transporte...</td>\n",
       "      <td>0.009882439 -0.021576928 -0.030254327 0.021652...</td>\n",
       "      <td>7</td>\n",
       "    </tr>\n",
       "    <tr>\n",
       "      <th>3</th>\n",
       "      <td>3</td>\n",
       "      <td>El presente contrato incluye la explotación, c...</td>\n",
       "      <td>presente explotación carácter catálogo product...</td>\n",
       "      <td>0.032093965 -0.016441938 -0.0011575996 -0.0261...</td>\n",
       "      <td>16</td>\n",
       "    </tr>\n",
       "    <tr>\n",
       "      <th>4</th>\n",
       "      <td>4</td>\n",
       "      <td>El objeto de la presente licitación es la cont...</td>\n",
       "      <td>presente suministro instalación mobiliario edi...</td>\n",
       "      <td>-0.053256277 0.019411284 -0.013155828 0.001528...</td>\n",
       "      <td>10</td>\n",
       "    </tr>\n",
       "    <tr>\n",
       "      <th>...</th>\n",
       "      <td>...</td>\n",
       "      <td>...</td>\n",
       "      <td>...</td>\n",
       "      <td>...</td>\n",
       "      <td>...</td>\n",
       "    </tr>\n",
       "    <tr>\n",
       "      <th>9995</th>\n",
       "      <td>9995</td>\n",
       "      <td>El presente suministro consta de las siguiente...</td>\n",
       "      <td>presente suministro anexo pliego_cláusulas adm...</td>\n",
       "      <td>0.011464249 0.024232702 -0.007886371 -0.035193...</td>\n",
       "      <td>9</td>\n",
       "    </tr>\n",
       "    <tr>\n",
       "      <th>9996</th>\n",
       "      <td>9996</td>\n",
       "      <td>Gestión de un sistema de recogida y medición d...</td>\n",
       "      <td>gestión recogido medición paciente especificac...</td>\n",
       "      <td>0.049968377 0.009183472 0.009708659 -0.0118081...</td>\n",
       "      <td>15</td>\n",
       "    </tr>\n",
       "    <tr>\n",
       "      <th>9997</th>\n",
       "      <td>9997</td>\n",
       "      <td>El objeto del contrato es la adjudicación del ...</td>\n",
       "      <td>pública denominado dominio propiedad ayuntamie...</td>\n",
       "      <td>-0.029449096 0.03376942 0.028196 0.038213376 -...</td>\n",
       "      <td>10</td>\n",
       "    </tr>\n",
       "    <tr>\n",
       "      <th>9998</th>\n",
       "      <td>9998</td>\n",
       "      <td>El presente pliego contiene las prescripciones...</td>\n",
       "      <td>presente contener prescripción_regir servicio ...</td>\n",
       "      <td>-0.010924325 0.004756632 -0.020954749 -0.00816...</td>\n",
       "      <td>8</td>\n",
       "    </tr>\n",
       "    <tr>\n",
       "      <th>9999</th>\n",
       "      <td>9999</td>\n",
       "      <td>El objetivo último de este contrato de manteni...</td>\n",
       "      <td>mantenimiento suministro laboratorio cumplimie...</td>\n",
       "      <td>-0.054984704 0.047134865 0.018867357 -0.015563...</td>\n",
       "      <td>7</td>\n",
       "    </tr>\n",
       "  </tbody>\n",
       "</table>\n",
       "<p>9849 rows × 5 columns</p>\n",
       "</div>"
      ],
      "text/plain": [
       "      id_tm                                           raw_text  \\\n",
       "0         0  El equipamiento para suministrar, incluyendo s...   \n",
       "1         1  Contratación artística de la exposición “Foto ...   \n",
       "2         2  El objeto del presente contrato es la adquisic...   \n",
       "3         3  El presente contrato incluye la explotación, c...   \n",
       "4         4  El objeto de la presente licitación es la cont...   \n",
       "...     ...                                                ...   \n",
       "9995   9995  El presente suministro consta de las siguiente...   \n",
       "9996   9996  Gestión de un sistema de recogida y medición d...   \n",
       "9997   9997  El objeto del contrato es la adjudicación del ...   \n",
       "9998   9998  El presente pliego contiene las prescripciones...   \n",
       "9999   9999  El objetivo último de este contrato de manteni...   \n",
       "\n",
       "                                                 lemmas  \\\n",
       "0     equipamiento suministrar instalación puesta fu...   \n",
       "1                                  artístico exposición   \n",
       "2     presente adquisición almacenamiento transporte...   \n",
       "3     presente explotación carácter catálogo product...   \n",
       "4     presente suministro instalación mobiliario edi...   \n",
       "...                                                 ...   \n",
       "9995  presente suministro anexo pliego_cláusulas adm...   \n",
       "9996  gestión recogido medición paciente especificac...   \n",
       "9997  pública denominado dominio propiedad ayuntamie...   \n",
       "9998  presente contener prescripción_regir servicio ...   \n",
       "9999  mantenimiento suministro laboratorio cumplimie...   \n",
       "\n",
       "                                             embeddings  n_tokens  \n",
       "0     -0.018870374 -0.046697762 -0.025614059 -0.0101...        11  \n",
       "1     -0.026613018 -0.00078873034 -0.022216951 0.018...         5  \n",
       "2     0.009882439 -0.021576928 -0.030254327 0.021652...         7  \n",
       "3     0.032093965 -0.016441938 -0.0011575996 -0.0261...        16  \n",
       "4     -0.053256277 0.019411284 -0.013155828 0.001528...        10  \n",
       "...                                                 ...       ...  \n",
       "9995  0.011464249 0.024232702 -0.007886371 -0.035193...         9  \n",
       "9996  0.049968377 0.009183472 0.009708659 -0.0118081...        15  \n",
       "9997  -0.029449096 0.03376942 0.028196 0.038213376 -...        10  \n",
       "9998  -0.010924325 0.004756632 -0.020954749 -0.00816...         8  \n",
       "9999  -0.054984704 0.047134865 0.018867357 -0.015563...         7  \n",
       "\n",
       "[9849 rows x 5 columns]"
      ]
     },
     "execution_count": 27,
     "metadata": {},
     "output_type": "execute_result"
    }
   ],
   "source": [
    "df_preprocesado"
   ]
  },
  {
   "cell_type": "code",
   "execution_count": 28,
   "id": "69e730bf",
   "metadata": {},
   "outputs": [],
   "source": [
    "def get_filtered_words(text, threshold):\n",
    "    # Inicializar el vectorizador TF-IDF sin un vocabulario específico\n",
    "    vectorizer = TfidfVectorizer()    \n",
    "    # Ajustar el vectorizador al texto para calcular valores IDF\n",
    "    vectorizer.fit(text)\n",
    "    # Obtener los nombres de las características (palabras) y sus valores IDF\n",
    "    feature_names = vectorizer.get_feature_names_out()\n",
    "    idf_values = vectorizer.idf_\n",
    "\n",
    "    # Filtrar palabras de baja importancia: comunes en el corpus (IDF menor o igual al umbral)\n",
    "    low_importance_words = [word for word, idf in zip(feature_names, idf_values) if idf < threshold]\n",
    "    # Filtrar palabras de alta importancia: raras en el corpus (IDF mayor al umbral)\n",
    "    high_importance_words = [word for word, idf in zip(feature_names, idf_values) if idf >= threshold]\n",
    "\n",
    "    # Contar el número de palabras en cada subconjunto\n",
    "    num_low_importance_words = len(low_importance_words)\n",
    "    num_high_importance_words = len(high_importance_words)\n",
    "\n",
    "    # Imprimir resultados\n",
    "    print(f\"Palabras comunes en el corpus (total: {num_low_importance_words}):\\n\", low_importance_words)\n",
    "    print(f\"Palabras raras en el corpus (total: {num_high_importance_words}):\\n\", high_importance_words)\n",
    "\n",
    "    # Retornar los subconjuntos de palabras y sus conteos\n",
    "    return low_importance_words, high_importance_words, num_low_importance_words, num_high_importance_words, feature_names"
   ]
  },
  {
   "cell_type": "code",
   "execution_count": 29,
   "id": "b157d154",
   "metadata": {},
   "outputs": [],
   "source": [
    "#Sirve para analizar el idf de las palabras\n",
    "def get_idf_values(text):\n",
    "    vectorizer = TfidfVectorizer()\n",
    "    vectorizer.fit(text)\n",
    "    feature_names = vectorizer.get_feature_names_out()\n",
    "    idf_values = vectorizer.idf_\n",
    "    return feature_names, idf_values\n",
    "\n",
    "#Sirve para sacar que palabras son las más repetidas\n",
    "def get_tf_values(text):\n",
    "    vectorizer = CountVectorizer()\n",
    "    word_counts = vectorizer.fit_transform(text)\n",
    "    total_word_counts = word_counts.sum(axis=0)\n",
    "    # Obtener los nombres de las palabras\n",
    "    feature_names = vectorizer.get_feature_names_out()\n",
    "    \n",
    "    # Convertir las frecuencias de término a un array de numpy\n",
    "    tf_values = total_word_counts.A1\n",
    " \n",
    "    # Ordenar las palabras por frecuencia de término\n",
    "    sorted_tf_indices = np.argsort(tf_values)[::-1]\n",
    "    sorted_words = feature_names[sorted_tf_indices]\n",
    "    sorted_tf_values = tf_values[sorted_tf_indices]\n",
    "    \n",
    "    # Crear listas de las palabras y sus frecuencias ordenadas\n",
    "    sorted_word_frequency = [(word, freq) for word, freq in zip(sorted_words, sorted_tf_values)]\n",
    "    \n",
    "    # Retornar la lista de palabras y frecuencias ordenadas\n",
    "    return sorted_word_frequency"
   ]
  },
  {
   "cell_type": "code",
   "execution_count": 30,
   "id": "00ad804b",
   "metadata": {},
   "outputs": [
    {
     "data": {
      "image/png": "[encoded data removed]",
      "text/plain": [
       "<Figure size 1000x600 with 1 Axes>"
      ]
     },
     "metadata": {},
     "output_type": "display_data"
    }
   ],
   "source": [
    "#Graficando los valores de idf para escoger el threshold\n",
    "text = df_preprocesado['lemmas']\n",
    "feature_names, idf_values = get_idf_values(text)\n",
    "\n",
    "# Distribución de los valores IDF\n",
    "plt.figure(figsize=(10, 6))\n",
    "plt.hist(idf_values, bins=40, color='blue', edgecolor='black', alpha=0.7)\n",
    "plt.title('Distribución de los valores IDF')\n",
    "plt.xlabel('Valores IDF')\n",
    "plt.ylabel('Frecuencia')\n",
    "plt.gca().xaxis.set_major_locator(ticker.MultipleLocator(0.5))  \n",
    "plt.gca().xaxis.set_major_formatter(ticker.FormatStrFormatter('%.1f'))  \n",
    "plt.axvline(x=np.median(idf_values), color='red', linestyle='--', label='Mediana')\n",
    "plt.axvline(x=np.mean(idf_values), color='green', linestyle='-', label='Media')\n",
    "plt.legend()\n",
    "plt.show()"
   ]
  },
  {
   "cell_type": "code",
   "execution_count": 31,
   "id": "5bd4ab3b",
   "metadata": {},
   "outputs": [
    {
     "name": "stdout",
     "output_type": "stream",
     "text": [
      "presente: 4388\n",
      "servicio: 3704\n",
      "suministro: 1795\n",
      "instalación: 1191\n",
      "mantenimiento: 924\n",
      "técnicas: 690\n",
      "centro: 648\n",
      "regir: 609\n",
      "material: 550\n",
      "ayuntamiento: 530\n",
      "equipo: 516\n",
      "municipal: 516\n",
      "edificio: 435\n",
      "prescripción: 433\n",
      "actuación: 393\n",
      "adquisición: 374\n",
      "actividad: 343\n",
      "característica: 340\n",
      "consistir: 339\n",
      "regular: 285\n",
      "municipio: 274\n",
      "transporte: 253\n",
      "vehículo: 245\n",
      "zona: 240\n",
      "lote: 238\n",
      "especificación: 226\n",
      "cumplir: 224\n",
      "construcción: 223\n",
      "elemento: 213\n",
      "incluido: 210\n",
      "tipo: 209\n",
      "reparación: 208\n",
      "desarrollar: 204\n",
      "proyecto: 195\n",
      "limpieza: 195\n",
      "equipamiento: 194\n",
      "aplicación: 191\n",
      "producto: 184\n",
      "mínimo: 184\n",
      "soporte: 175\n",
      "disponer: 174\n",
      "sanitario: 172\n",
      "anexo: 171\n",
      "prescripción_regir: 170\n",
      "destino: 169\n",
      "servicios: 169\n",
      "acceso: 168\n",
      "local: 166\n",
      "persona: 164\n",
      "requisito: 163\n",
      "ubicado: 160\n",
      "explotación: 156\n",
      "pliego_cláusulas: 152\n",
      "área: 152\n",
      "destinado: 151\n",
      "comunicación: 148\n",
      "término_municipal: 143\n",
      "atención: 143\n",
      "prestar: 142\n",
      "número: 142\n",
      "alcance: 141\n",
      "administrativo: 141\n",
      "integral: 140\n",
      "carácter: 140\n",
      "apoyo: 140\n",
      "técnicas_particulares: 139\n",
      "conjunto: 139\n",
      "redacción: 138\n",
      "mantenimiento_preventivo: 136\n",
      "punto: 136\n",
      "permitir: 135\n",
      "forma: 134\n",
      "hospital_universitario: 131\n",
      "actual: 131\n",
      "diseño: 129\n",
      "deportivo: 128\n",
      "plataforma: 125\n",
      "infraestructura: 123\n",
      "eléctrico: 123\n",
      "funcionamiento: 123\n",
      "referir: 123\n",
      "posterior: 122\n",
      "definición: 122\n",
      "determinar: 120\n",
      "constituir: 120\n",
      "recogido: 117\n",
      "ámbito: 117\n",
      "término: 116\n",
      "comprender: 116\n",
      "usuario: 115\n",
      "contratar: 114\n",
      "técnica: 114\n",
      "renovación: 113\n",
      "cumplimiento: 112\n",
      "conservación: 111\n",
      "documentación: 111\n",
      "licencia: 111\n",
      "relacionado: 109\n",
      "limpiezar: 107\n",
      "propiedad: 107\n"
     ]
    }
   ],
   "source": [
    "sorted_word_frequency = get_tf_values(text)\n",
    "for word, freq in sorted_word_frequency[:100]:  \n",
    "    print(f\"{word}: {freq}\")"
   ]
  },
  {
   "cell_type": "code",
   "execution_count": 32,
   "id": "ef31ced7",
   "metadata": {},
   "outputs": [
    {
     "data": {
      "image/png": "[encoded data removed]",
      "text/plain": [
       "<Figure size 1000x600 with 1 Axes>"
      ]
     },
     "metadata": {},
     "output_type": "display_data"
    }
   ],
   "source": [
    "# Distribución de los valores IDF\n",
    "plt.figure(figsize=(10, 6))\n",
    "plt.hist(idf_values, bins=40, color='blue', edgecolor='black', alpha=0.7)\n",
    "plt.title('Distribución de los valores IDF')\n",
    "plt.xlabel('Valores IDF')\n",
    "plt.ylabel('Frecuencia')\n",
    "\n",
    "# Ajustar las marcas y el formato del eje X para el zoom\n",
    "plt.gca().xaxis.set_major_locator(ticker.MultipleLocator(0.2))  # intervalos más finos en el eje X\n",
    "plt.gca().xaxis.set_major_formatter(ticker.FormatStrFormatter('%.2f'))  # dos decimales de precisión\n",
    "\n",
    "# Ajusta los límites del eje X para hacer zoom en los valores mayores que 8.0\n",
    "plt.xlim(6, 10)\n",
    "# Líneas de la mediana y la media\n",
    "plt.axvline(x=np.median(idf_values), color='red', linestyle='--', label='Mediana')\n",
    "plt.axvline(x=np.mean(idf_values), color='green', linestyle='-', label='Media')\n",
    "plt.legend()\n",
    "plt.show()"
   ]
  },
  {
   "cell_type": "code",
   "execution_count": 36,
   "id": "2c48d8f8",
   "metadata": {},
   "outputs": [
    {
     "name": "stdout",
     "output_type": "stream",
     "text": [
      "Palabras comunes en el corpus (total: 643):\n",
      " ['abastecimiento', 'abierto', 'abierto_electrónico', 'abierto_simplificado', 'accesibilidad', 'acceso', 'accesorio', 'acción', 'acondicionamiento', 'actividad', 'activo', 'acto', 'actuación', 'actual', 'actualidad', 'actualización', 'adaptación', 'adaptar', 'adecuación', 'adecuado', 'adjudicataria', 'adjunto', 'administración', 'administrativas', 'administrativas_particulares', 'administrativo', 'adquirir', 'adquisición', 'adscrito', 'aeropuerto', 'afectado', 'afectar', 'agencia_estatal', 'agosto', 'aire', 'ajustar', 'alcance', 'almacenamiento', 'almacén', 'alojamiento', 'alquiler', 'alquiler_maquinario', 'alta', 'alto', 'alumbrado', 'alumno', 'ambiental', 'ambiente', 'ampliación', 'ampliar', 'anexo', 'animal', 'antiguo', 'anual', 'aparcamiento', 'apartado', 'apartado_básico', 'aplicable', 'aplicación', 'aportar', 'apoyo', 'aprobado', 'aprovechamiento', 'arreglo', 'arrendamiento', 'arriaga_publicar', 'artístico', 'ascensor', 'asegurar', 'asistencia', 'asistencia_técnica', 'asistencial', 'asociado', 'asociado_unión', 'asumir', 'atención', 'atender', 'audiovisual', 'auditoría', 'aula', 'automático', 'autopropulsado_conductor', 'autoridad_portuaria', 'autorización', 'autorizado', 'auxiliar', 'avenida', 'avería', 'ayuntamiento', 'base', 'base_aérea', 'biblioteca', 'buque', 'básico', 'calefacción', 'cambio', 'camión', 'campus', 'canal_comunicación', 'cantidad', 'característica', 'característica_mínimo', 'característico', 'carga', 'cargo', 'carretera', 'carácter', 'celebración', 'celebrar', 'central', 'centro', 'centro_dependiente', 'centro_docente', 'centro_educación', 'centros', 'certificación', 'certificado', 'cesión', 'ciudadano', 'clase', 'climatización', 'cobertura', 'colaboradora_seguridad', 'colegio', 'colocación', 'color', 'combustible', 'comercial', 'compañía', 'competencia', 'complementario', 'completo', 'componente', 'componer', 'compra', 'comprender', 'compuesto', 'comunicación', 'comunidad_autónoma', 'comunidad_madrid', 'común', 'concesión', 'concierto', 'concreto', 'conductor', 'conexión', 'conformidad', 'conjunto', 'conocimiento', 'consecución', 'consejería', 'conservación', 'consiste_apartado', 'consistente', 'consistir', 'consorcio', 'constar', 'constituido', 'constituir', 'construcción', 'contar', 'contemplado', 'contemplar', 'contenedor', 'contener', 'continuación', 'continuo', 'contratación', 'contratado', 'contratar', 'contratista', 'contrato', 'contratos_sector', 'coordinación_seguridad', 'corporativo', 'correctivo', 'correcto', 'correcto_funcionamiento', 'corresponder', 'creación', 'cubierto', 'cubrir', 'cultural', 'cumplimiento', 'cumplir', 'cumplir_requisito', 'curso', 'cyclops_mutua', 'datos', 'daño', 'definición', 'definición_valoración', 'demolición', 'denominado', 'departamento', 'dependiente', 'deportes', 'deportivo', 'depósito', 'derivado', 'desarrollado', 'desarrollar', 'desarrollo', 'descrito', 'desmontaje', 'desplazamiento', 'destinado', 'destino', 'destino_paradores', 'detallado', 'detallar', 'detección', 'deterioro', 'determinado', 'determinar', 'diciembre', 'difusión', 'digital', 'digital_comunicación', 'digital_teatro', 'dimensión', 'diputación', 'diputación_provincial', 'dirección', 'dirección_general', 'dirección_provincial', 'directo', 'dirigido', 'diseño', 'disponer', 'disponibilidad', 'disponible', 'dispositivo', 'dispuesto', 'distinto', 'distrito', 'diverso', 'documentación', 'domicilio', 'dominio', 'dotar', 'duración', 'económico', 'edición', 'edificación', 'edificio', 'educación', 'educativo', 'efectuar', 'ejecución', 'ejecutar', 'ejercicio', 'electricidad', 'electrónico', 'elemento', 'eléctrico', 'empleado', 'empleo', 'empresa', 'empresa_municipal', 'empresa_transformación', 'encontrar', 'energético', 'energía', 'energía_eléctrico', 'ensayo', 'entender', 'entrega', 'entregar', 'equipamiento', 'equipo', 'equivalente', 'especial', 'especializado', 'especificación', 'especificación_detallar', 'especificado', 'especificar', 'espectáculo', 'específico', 'estación', 'estatal', 'estimado', 'estructura', 'evento', 'evitar', 'evolución', 'excmo_ayuntamiento', 'explotación', 'exterior', 'externo', 'fabricación', 'fabricante', 'facilitar', 'fase', 'fecha', 'fiesta', 'figurar', 'fijar', 'fijar_regir', 'fomentar', 'forestal', 'forma', 'formado', 'formar', 'formativo', 'funcionalidad', 'funcionamiento', 'fundación', 'futuro', 'físico', 'garantizar', 'gas_natural', 'gasto', 'generación', 'generado', 'general', 'gerencia', 'gestionado', 'gestionar', 'gestión', 'grupo', 'herramienta', 'hora', 'horario', 'hormigón', 'hospital_universitario', 'humano', 'identificación', 'iluminación', 'impartir', 'implantación', 'impresión', 'incidencia', 'incluido', 'incorporación', 'incorporar', 'indicar', 'individual', 'industrial', 'infantil', 'infantil_primaria', 'información', 'informático', 'infraestructura', 'infraestructuras', 'infraestructuro', 'ingeniería', 'instalaciones', 'instalación', 'instalado', 'instalar', 'instituto', 'instituto_nacional', 'integrado', 'integral', 'integrar', 'interior', 'internacional', 'interno', 'intervención', 'jurídico', 'labor', 'laboral', 'laboratorio', 'ley_contratos', 'ley_noviembre', 'libre', 'licencia', 'limpieza', 'limpiezar', 'local', 'localidad', 'longitud', 'lote', 'mantener', 'mantenimiento', 'mantenimiento_actualización', 'mantenimiento_conservación', 'mantenimiento_correctivo', 'mantenimiento_integral', 'mantenimiento_preventivo', 'manual', 'maquinaria', 'materia', 'material', 'mc_mutual', 'mecánico', 'medicamento', 'medición', 'medioambiental', 'mejorar', 'memoria', 'metro', 'metro_madrid', 'mobiliario', 'modalidad', 'monitor', 'montaje', 'montaje_desmontaje', 'motivo', 'motor', 'muestra', 'municipal', 'municipales', 'municipio', 'mutua_colaboradora', 'mutua_especificar', 'mutual_midat', 'máquina', 'médico', 'mínimo', 'módulo', 'móvil', 'nacional', 'natural', 'naturaleza', 'noviembre', 'número', 'obras', 'obtención', 'octubre', 'ocupar', 'ofertado', 'oficina', 'ofrecer', 'operación', 'ordinario', 'organismo', 'paciente', 'papel', 'parcela', 'parcial', 'paseo', 'patrimonial', 'pavimentación', 'pavimento', 'periodo', 'periódico', 'permanente', 'permitir', 'persona', 'perteneciente', 'petición', 'pieza', 'pintura', 'piscina_municipal', 'planta', 'plantar', 'plataforma', 'pliego_cláusulas', 'pliego_condiciones', 'población', 'policía_local', 'portátil', 'posterior', 'precio', 'precio_unitario', 'precisar', 'preciso', 'preparación', 'prescripciones_técnicas', 'prescripción', 'prescripción_regir', 'presentación', 'presente', 'presión', 'prestar', 'pretender', 'preventivo', 'previo', 'previsto', 'problema', 'procedente', 'proceder', 'producir', 'producto', 'programa', 'programación', 'promoción', 'promover', 'propiedad', 'proponer', 'proporcionar', 'protección', 'provincia', 'provincial', 'proyecto', 'prueba', 'publicación', 'puesta', 'puesta_marcha', 'puesto', 'puesto_funcionamiento', 'puesto_marcha', 'puesto_marchar', 'punto', 'pública', 'público', 'quedar', 'real_decreto', 'recepción', 'recibir', 'recinto', 'recoger', 'recoger_prescripción', 'recogido', 'redacción', 'redacción_proyecto', 'redactado', 'redactar', 'referir', 'reforma', 'regir', 'reglamento', 'regulación', 'regular', 'regular_alcance', 'rehabilitación', 'relacionado', 'relacionar', 'relativo', 'renovación', 'renovar', 'reparación', 'reposición', 'repuesto', 'requerido', 'requerimiento', 'requerir', 'requisito', 'requisito_servir', 'residencia', 'residuo', 'responsabilidad', 'responsable', 'restauración', 'resto', 'resultar', 'retirado', 'reunir', 'régimen', 'régimen_alquiler', 'saneamiento', 'sanitaria', 'sanitario', 'satisfacer', 'sector', 'sector_público', 'sede', 'seguir', 'seguridad', 'seguridad_salud', 'seguridad_social', 'selección', 'septiembre', 'serie', 'servicio', 'servicios', 'servicios_sociales', 'servir', 'señalización', 'similar', 'sito', 'sito_calle', 'situado', 'situado_calle', 'social', 'social_número', 'sociedad', 'software', 'solicitado', 'solicitar', 'solución', 'soporte', 'sucesivo', 'suelo', 'suficiente', 'suministrar', 'suministro', 'suministro_fruta', 'superficie', 'superior', 'suponer', 'suscripción', 'sustitución', 'sustituir', 'tarea', 'teatro', 'tecnología', 'tecnológico', 'telecomunicación', 'tenerife', 'tensión', 'terminal', 'terreno', 'tipo', 'titularidad', 'totalidad', 'trabajador', 'tramo', 'transporte', 'traslado', 'tratamiento', 'tráfico', 'turismo', 'turístico', 'técnica', 'técnicas', 'técnicas_particulares', 'técnicas_ppt', 'técnico', 'término', 'término_municipal', 'título', 'ubicación', 'ubicado', 'ubicar', 'unidad', 'unidades', 'universidad', 'universitario', 'unión_europea', 'urbanización', 'urbanístico', 'usuario', 'utilizado', 'valoración', 'valorar', 'vehículo', 'vehículos', 'venir', 'venta', 'verduras_frescas', 'vestuario', 'vigencia', 'vigente', 'vigilancia', 'zona', 'ámbito', 'área', 'él_suministro', 'único']\n",
      "Palabras raras en el corpus (total: 961):\n",
      " ['abarcar', 'abonar_hora', 'abono', 'acabado', 'acceder', 'accesorios', 'accidente', 'acción_formativo', 'aceite', 'aceptar', 'acoger', 'acogido', 'acometer', 'acometido', 'acompañamiento', 'acompañar', 'acorde', 'acreditación', 'acreditado', 'acreditar', 'actividad_cultural', 'actividades', 'actuación_musical', 'actualizado', 'actualizar', 'actuar', 'acuartelamiento', 'acústico', 'adaptado', 'adecuar', 'adherido', 'adicional', 'adjudicar', 'administración_pública', 'administración_tributaria', 'administrador_infraestructuras', 'administrativa', 'adoptar', 'adquirido', 'adquisición_diverso', 'adquisición_licencia', 'adquisición_medicamento', 'adquisición_repuesto', 'aeronave', 'agencia', 'agencia_viajes', 'agente', 'agraria', 'agraria_sociedad', 'agraria_sucesivo', 'agrícola', 'agua_residual', 'aguo', 'aire_acondicionado', 'aislamiento', 'albergar', 'albergue', 'alcanzar', 'alimento', 'alquiler_entender', 'alumnado', 'ambulatorio', 'amplio', 'amágenes', 'analizar', 'analítica', 'ancho', 'anejo', 'anexos', 'anualidad', 'análisis', 'aparato', 'aparato_elevador', 'aplicación_informático', 'aplicar', 'aplicativo', 'apoyado', 'aprendizaje', 'aprobación', 'aprobado_real', 'aprobar', 'aproximado', 'arbolado', 'arquitectura', 'arte', 'artificial', 'artista', 'aseguramiento', 'aseo', 'asesoramiento', 'asfaltado', 'asiento', 'asignado', 'asistente', 'aspecto', 'audio', 'auditorio', 'aumentar', 'autobús', 'autoconsumo', 'automatizado', 'autonomía', 'autoridad', 'autorización_acreditación', 'autónomo', 'avanzado', 'ayudar', 'aéreo', 'añadido', 'banco', 'barrido', 'base_naval', 'bases', 'batería', 'bienestar_social', 'bloque', 'bomberos', 'cabina', 'cable', 'cableado', 'cafetería', 'calendario', 'calidad', 'caliente', 'canal_isabel', 'canaria', 'capaz', 'capital', 'característica_detallar', 'característica_reunir', 'carpa', 'carpintería', 'carreteras', 'caseta', 'caseta_municipal', 'caso_adjudicataria', 'catastral', 'categoría', 'catálogo', 'causa', 'celebración_feria', 'cementerio', 'cementerio_municipal', 'centralizado', 'centro_educativo', 'centro_estudios', 'centro_investigación', 'centro_penitenciario', 'centro_residencial', 'cerrado', 'cerramiento', 'ciberseguridad', 'ciclo', 'científico', 'circuito', 'circulación', 'circular', 'cirugía', 'ciudad_autónoma', 'cloud', 'club', 'clínico', 'cocina', 'codificación', 'colección', 'colector', 'comarca', 'comarcal', 'comedor', 'comenzar', 'comercialización', 'comida', 'comisión', 'compatible', 'competente', 'competición', 'complejo', 'complejo_asistencial', 'complementar', 'complemento', 'completar', 'composición', 'comprar', 'comprendido', 'comprobación', 'comprobar', 'comprometer', 'comunicaciones', 'comunicar', 'comunidad', 'comunitario', 'común_especial', 'concejalía', 'concello', 'concepto', 'concesión_administrativo', 'concretar', 'concurso', 'condiciones', 'condiciones_técnicas', 'conducción', 'conectividad', 'confección', 'configuración', 'configurar', 'conformar', 'conformidad_dispuesto', 'conllevar', 'consejería_educación', 'conselleria', 'conservar', 'consideración', 'consolidación', 'construcción_sede', 'constructivo', 'construido', 'construir', 'consumibl', 'contacto', 'contingencia', 'continuación_detallar', 'continuado', 'continuar', 'continuidad', 'contractual', 'contrato_servicios', 'contribuir', 'convencional', 'convivencia', 'convocar', 'cooperación', 'coordinación', 'coordinar', 'copia', 'corporación', 'correo_electrónico', 'correos', 'crear', 'crédito', 'cuantificar', 'cuarto', 'cuidado', 'cultura', 'cumplimentar', 'cumplir_producto', 'custodiar', 'cálculo', 'código', 'decidir', 'decreto', 'defecto', 'defensa', 'deficiencia', 'definitivo', 'dejar', 'delegación', 'delegación_especial', 'demandado', 'densidad', 'departamento_salud', 'dependiente_dirección', 'deporte', 'depuración', 'derivado_enfermedad', 'derivar', 'desbroce', 'descarga', 'desear', 'desechabl', 'desempeño', 'designado', 'desinfección', 'desplegado', 'destacar', 'destinar', 'detectado', 'deteriorado', 'diagnóstico', 'dinamización', 'diputación_foral', 'dirección_facultativa', 'dirección_obra', 'director', 'disco', 'diseñado', 'diseñar', 'diseño_maquetación', 'disponer_específico', 'dispositivo_móvil', 'distancia', 'distribuido', 'distribuir', 'diversidad', 'diverso_material', 'dividir_lote', 'diámetro', 'docente', 'documental', 'documento', 'doméstico', 'dotado', 'economía', 'edad', 'edificio_sede', 'edificios', 'efectivo', 'eficaz', 'eficiente', 'ejecutado', 'ejército_aire', 'elaboración', 'elaborado', 'elaborar', 'electrónico_posterior', 'elemento_auxiliar', 'eliminación', 'eliminar', 'embarcación', 'emergencia', 'emergencias', 'emergencio', 'emitir', 'empresarial', 'empresas', 'enajenación', 'enajenación_ayuntamiento', 'encaminado', 'encargado', 'encargar', 'enfermedad', 'enfermo_causa', 'enseñanza', 'ente', 'enterprise', 'entidad', 'entidades', 'entregado', 'enumerar', 'equipado', 'equipamiento_informático', 'equipo_informático', 'equipos', 'equipos_protección', 'escenario', 'escrito', 'escuela_infantil', 'escáner', 'escénico', 'española', 'españold', 'españold_directivas', 'especialidad', 'especialidades', 'especialista', 'especie', 'especificada', 'espesor', 'estaciones', 'estación_tratamiento', 'estadística', 'estancia', 'estimación', 'estrategia', 'estructural', 'estudio', 'estudio_seguridad', 'europeo', 'euros', 'euskotren', 'evaluar', 'excluido', 'exclusivo', 'excma_diputación', 'exigencia', 'exigible', 'exigido', 'exigir', 'existencia', 'expediente', 'experiencia', 'exponer', 'exposición', 'expresado', 'expresar', 'expuesto', 'extender', 'extensión', 'extracción', 'extranjero', 'extraordinario', 'fabricado', 'fachada', 'facilitado', 'facultativo', 'fallo', 'faltar', 'favorecer', 'ferrocarril', 'ferroviarias', 'ferroviario', 'festival', 'festivo', 'festivo_centro', 'fibra', 'ficha', 'fiesta_patronal', 'fijación', 'fijado', 'fijar_económico', 'fijar_nivel', 'filtro', 'finalización', 'finalizar', 'finca', 'firmado', 'firme', 'flexible', 'flota', 'flotar', 'flujo', 'fomento', 'formación', 'formalizar', 'frecuencia', 'fremap_mutua', 'frente', 'fresco_lonja', 'frío', 'funcionario', 'fundamental', 'fungible', 'furgoneta', 'furgón', 'fábrica', 'fútbol', 'gasóleo', 'generador', 'general_condiciones', 'general_universitario', 'generalitat_valenciana', 'geográfico', 'global', 'glorieta', 'gobierno', 'grabación', 'grave', 'gregorio_marañón', 'grupo_electrógeno', 'grúa', 'guardia_civil', 'guía', 'género', 'habitación', 'habitante', 'habitual', 'hacienda', 'hardware', 'hardware_software', 'hidráulico', 'higiene', 'histórico', 'hogar', 'hoja', 'horizontal', 'hospital_clínico', 'hospitalario', 'hostelería', 'hotel', 'hueco', 'humano_material', 'identificado', 'identificar', 'idioma', 'igualdad', 'imagen', 'impacto', 'impartición', 'impermeabilización', 'implant', 'implantación_sistema', 'implantado', 'implantar', 'implementar', 'implicar', 'importante', 'imprescindible', 'impreso', 'impresora', 'impuesto', 'impulsar', 'incendio', 'independiente', 'indicación', 'indicar_anexo', 'indispensable', 'infancia', 'infanta_sofía', 'inferior', 'informativo', 'informática', 'ingeniero', 'inglés', 'inicial', 'iniciar', 'inicio', 'inmediato', 'innovación', 'inserción', 'instalación_climatización', 'instalación_configuración', 'instalado_edificio', 'instancia', 'institucional', 'instituto_educación', 'instrumento', 'insular', 'integrada', 'integrante', 'inteligente', 'intercambio', 'interesado', 'intermedio', 'internet', 'interpretación', 'intervenir', 'intrusión', 'inventario', 'investigación', 'jardinería', 'jardines', 'jardín', 'jefatura', 'jefe', 'jornada', 'josé', 'judicial', 'juego', 'juicio', 'junta', 'justificar', 'juvenil', 'juventud', 'kilómetro', 'laboral_trabajador', 'laborales', 'lateral', 'lavandería', 'legalización', 'ley_ordenación', 'licencia_software', 'licitadora', 'limpieza_desinfección', 'limpieza_viario', 'limpio', 'listado', 'litro', 'llamado', 'llegado', 'llegar', 'llevar', 'localización', 'lograr', 'logística', 'logístico', 'luminaria', 'lunes_viernes', 'límite', 'línea', 'líneas', 'líquido', 'lúdico', 'malla_electrosoldado', 'mallorca', 'mancomunidad', 'mando', 'manejo', 'manipulación', 'mano', 'mapa', 'maquinario', 'marcado', 'marcar', 'marcha', 'material_ferretería', 'material_fungible', 'material_oficina', 'materiales', 'mayores', 'medicamentos_exclusivos', 'medicina', 'mensajería', 'mensual', 'metálico', 'microsoft', 'miembro', 'migración', 'militar', 'ministerio', 'ministerio_defensa', 'minuto', 'mixto', 'modernización', 'modificar', 'modular', 'movilidad', 'movimiento', 'mujer', 'municipio_provincia', 'museo', 'musical', 'mutua', 'mutua_universal', 'mutualia_mutua', 'mutuas_accidentes', 'máquina_expendedor', 'márgén', 'múltiple', 'música', 'nacional_investigaciones', 'navideño', 'necesitar', 'negociado_publicidad', 'negocio', 'nombre', 'normal', 'normalización', 'noviembre_contratos', 'núcleo', 'objeto', 'obligado', 'obligado_cumplimiento', 'obligar', 'obligatorio', 'ocupación', 'oeste', 'ofertar', 'office', 'online', 'operador', 'operario', 'operatividad', 'oportunidad', 'oportuno', 'optimizar', 'ordenación', 'ordenador', 'ordenamiento_jurídico', 'organismo_autónomo', 'organización', 'organización_sanitaria', 'organizado', 'organizar', 'orientado', 'original', 'orquesta', 'otorgar', 'pabellón', 'palacio_congresos', 'panel', 'pantalla', 'paquete', 'parador_turismo', 'paradores_turismo', 'parcelar', 'parking', 'parlamento_europeo', 'parque_infantil', 'parque_móvil', 'parque_tecnológico', 'parques', 'parques_jardines', 'participar', 'particulares', 'parámetro', 'patio', 'patología', 'patrocinio_publicitario', 'peatonal', 'pedido', 'peligroso', 'pendiente', 'perimetral', 'periodo_año', 'periodo_comprendido', 'periodo_mes', 'periodo_vigencia', 'perjuicio', 'perseguir', 'persona_usuario', 'personalizado', 'pertinente', 'piscina', 'pista', 'placa', 'plaga', 'planificación', 'plantear', 'playas', 'pleno', 'plus', 'plástico', 'poda', 'policial', 'policía', 'polideportivo', 'polideportivo_municipal', 'polígono_industrial', 'poseer', 'postal', 'potencia', 'potenciar', 'prefabricado', 'prenda', 'prensa', 'presencial', 'presentado', 'prestación', 'prestado', 'presupuesto', 'pretender_cubrir', 'prevención', 'prevención_riesgos', 'prevenir', 'preventivo_correctivo', 'prever', 'previsión', 'principado_asturias', 'prioritario', 'procesador', 'producción', 'producido', 'producto_alimenticio', 'producto_químico', 'producto_sanitario', 'profesionales_región', 'profundidad', 'programado', 'promoción_turístico', 'promotor', 'promovido', 'propuesto', 'protección_civil', 'protección_incendio', 'protección_individual', 'proteger', 'protegido', 'proveer', 'provisión', 'proyectado', 'proyecto_básico', 'proyecto_ejecución', 'proyecto_técnico', 'proyectos', 'práctico', 'prórroga', 'publicado', 'publicar', 'publicidad', 'pueblo', 'puerta_automático', 'punto_visto', 'página', 'página_web', 'pérdida', 'póliza_seguro', 'público_empleo', 'público_transponir', 'públicos', 'quirúrgico', 'químico', 'ramón_cajal', 'razón', 'reactivo', 'realizar', 'recaudación', 'recinto_ferial', 'recoger_básico', 'recogida', 'recogido_residuo', 'recogido_transporte', 'recomendación', 'reconocimiento', 'reconocimiento_médico', 'recorrido', 'recuperación', 'recursos_humanos', 'red_saneamiento', 'redacción_plan', 'reducción', 'reducir', 'referenciado', 'referente', 'reflejado', 'reforma_integral', 'refuerzo', 'regional', 'región', 'región_murcia', 'reglamentario', 'relacionado_anexo', 'relacionado_continuación', 'relacionar_anexo', 'relativo_contrato', 'remodelación', 'remoto', 'rendimiento', 'renovación_red', 'renting', 'reparar', 'representación', 'representar', 'requisito_exigible', 'requisito_exigir', 'requisito_mínimo', 'reserva', 'residencial', 'residente', 'residuos', 'resolución', 'resolver', 'respectivo', 'responder', 'respuesta', 'retirada', 'revista', 'ropa', 'rural', 'rápido', 'régimen_ambulatorio', 'régimen_arrendamiento', 'salida', 'salvamento', 'salón', 'san_carlos', 'sanidad', 'sanitaria_horario', 'santa_maría', 'sección', 'secundaria', 'secundario', 'sede_central', 'seleccionado', 'selectivo', 'sensibilización', 'sensor', 'sentido', 'servicios_centrales', 'servicios_técnicos', 'servidor', 'servidores', 'servir_abierto', 'señal', 'señalado', 'señalar', 'señora', 'simulación', 'simultáneo', 'singular', 'sistema_información', 'situ', 'situar', 'sociales', 'sociedad_estatal', 'sociedad_mercantil', 'sociocultural', 'socorrismo', 'sonido', 'sostenibilidad', 'sostenible', 'subdirección_general', 'suelo_urbano', 'suficiente_prestar', 'sujeción', 'sujeto', 'suministrado', 'suministro_pescados', 'superar', 'surgir', 'susceptible', 'suscribir', 'suscrito', 'system', 'sólido', 'talleres', 'tamaño', 'tarjeta', 'techo', 'tecnologías_información', 'telecomunicaciones', 'telefonía', 'telemático', 'televisión', 'temperatura', 'temporada', 'terminación', 'territorial', 'territorio', 'territorio_nacional', 'tesorería_general', 'titulado', 'titularidad_disponer', 'titularidad_municipal', 'tomar', 'trabajador_accidentado', 'trabajos', 'traducción', 'transformación', 'transportes', 'tratar', 'traumatología', 'trámite', 'tubería', 'tubo', 'turismo_españa', 'térmico', 'túnel', 'unificado', 'uniformidad', 'universidad_complutense', 'universidad_sevilla', 'urbanismo', 'urgencia', 'urgente', 'usado', 'validación', 'vallado', 'valorado', 'vegetación', 'vehículo_eléctrico', 'vehículo_maquinario', 'velocidad', 'ventilación', 'verificación', 'versión', 'vertedero', 'vertical', 'vertido', 'viabilidad', 'viario', 'video', 'vigilancia_salud', 'vigor', 'vinculado', 'violencia_género', 'virtual', 'virtud', 'visitante', 'visualización', 'vivienda', 'vmware', 'vuelo', 'válvula', 'vídeo', 'zona_ajardinada', 'zona_verde', 'ámbito_actuación', 'ámbito_gerencia', 'área_cultura', 'óptico', 'óptimo', 'útil']\n"
     ]
    }
   ],
   "source": [
    "text = df_preprocesado['lemmas']  \n",
    "threshold = 7\n",
    "low_importance, high_importance, num_low, num_high, palabras = get_filtered_words(text, threshold)"
   ]
  },
  {
   "cell_type": "code",
   "execution_count": 11,
   "id": "55b54322",
   "metadata": {},
   "outputs": [],
   "source": [
    "lista_palabras = [str(elemento) for elemento in palabras.tolist()]"
   ]
  },
  {
   "cell_type": "code",
   "execution_count": 19,
   "id": "ac44cc7b",
   "metadata": {},
   "outputs": [
    {
     "data": {
      "text/plain": [
       "'servicio copia residencia sta'"
      ]
     },
     "execution_count": 19,
     "metadata": {},
     "output_type": "execute_result"
    }
   ],
   "source": [
    "df_preprocesado['lemmas'].iloc[200030]"
   ]
  },
  {
   "cell_type": "code",
   "execution_count": 20,
   "id": "00128e67",
   "metadata": {},
   "outputs": [
    {
     "name": "stdout",
     "output_type": "stream",
     "text": [
      "408834\n",
      "1096\n"
     ]
    }
   ],
   "source": [
    "print(len(high_importance))\n",
    "print(len(low_importance))"
   ]
  },
  {
   "cell_type": "code",
   "execution_count": 37,
   "id": "a3bdef0c",
   "metadata": {},
   "outputs": [
    {
     "name": "stdout",
     "output_type": "stream",
     "text": [
      "Palabras de baja importancia añadidas exitosamente al archivo.\n"
     ]
    }
   ],
   "source": [
    "# Ruta al archivo de stopwords manual, añadir \n",
    "stopwords_file_path = '/export/usuarios_ml4ds/lbartolome/Repos/repos_con_carlos/RAG_tool/data/out_pliegos/optimized/stops_txt/tf_idf.txt'\n",
    "\n",
    "# Escribir las palabras de baja importancia al archivo de stopwords, añadiendo nuevas líneas\n",
    "try:\n",
    "    with open(stopwords_file_path, 'w') as file:\n",
    "        for word in low_importance:\n",
    "            file.write(word + '\\n')\n",
    "    print(\"Palabras de baja importancia añadidas exitosamente al archivo.\")\n",
    "except IOError:\n",
    "    print(\"Error: No se pudo abrir o escribir en el archivo.\")"
   ]
  },
  {
   "cell_type": "code",
   "execution_count": 152,
   "id": "adca08c1",
   "metadata": {},
   "outputs": [
    {
     "name": "stdout",
     "output_type": "stream",
     "text": [
      "Archivo leído correctamente:\n",
      "                        0\n",
      "0                 obimace\n",
      "1                 agüimes\n",
      "2       recreativas_excmo\n",
      "3                olivares\n",
      "4                 chaccac\n",
      "..                    ...\n",
      "377     contracte_técnico\n",
      "378    posterior_direcció\n",
      "379             obres_ram\n",
      "380  projecte_constructiu\n",
      "381                bienal\n",
      "\n",
      "[382 rows x 1 columns]\n"
     ]
    }
   ],
   "source": [
    "# Ruta al archivo .txt\n",
    "archivo_txt = '/export/usuarios_ml4ds/cggamella/NP-Search-Tool/sample_data/stopwords/tf_idf.txt'\n",
    "\n",
    "# Leer el archivo .txt utilizando pandas\n",
    "try:\n",
    "    datos = pd.read_csv(archivo_txt, sep='\\t', header=None)  \n",
    "    print(\"Archivo leído correctamente:\")\n",
    "    print(datos)\n",
    "except FileNotFoundError:\n",
    "    print(\"Error: Archivo no encontrado.\")\n",
    "except pd.errors.ParserError:\n",
    "    print(\"Error: No se pudo interpretar el archivo correctamente.\")"
   ]
  },
  {
   "cell_type": "code",
   "execution_count": 162,
   "id": "78df7b91",
   "metadata": {},
   "outputs": [],
   "source": [
    "lista_palabras = [str(elemento) for elemento in palabras.tolist()]"
   ]
  },
  {
   "cell_type": "code",
   "execution_count": 172,
   "id": "cd94c5db",
   "metadata": {},
   "outputs": [],
   "source": [
    "def filtrar_palabras(lista_palabras, df_lista_datos, dict=False):\n",
    "    \"\"\"\n",
    "    Filtra las palabras en un DataFrame o diccionario según una lista de palabras permitidas.\n",
    "\n",
    "    Parámetros:\n",
    "    - lista_palabras: list, lista de palabras permitidas.\n",
    "    - df_lista_datos: pd.DataFrame o dict, DataFrame o diccionario que contiene las palabras a filtrar.\n",
    "    - dict: bool, si es True, se asume que df_lista_datos es un diccionario.\n",
    "\n",
    "    Retorna:\n",
    "    - list, lista de palabras filtradas que están presentes tanto en el DataFrame o diccionario como en lista_palabras.\n",
    "    - Si dict es True, retorna un diccionario filtrado en lugar de una lista.\n",
    "    \"\"\"\n",
    "    if dict:\n",
    "        # Asumimos que df_lista_datos es un diccionario y filtramos por las claves\n",
    "        claves_filtradas = {clave: valor for clave, valor in df_lista_datos.items() if clave in lista_palabras}\n",
    "        return claves_filtradas\n",
    "    else:\n",
    "        # Asumimos que df_lista_datos es un DataFrame y trabajamos con la primera columna\n",
    "        lista_datos = df_lista_datos.iloc[:, 0].tolist()\n",
    "        palabras_filtradas = [palabra for palabra in lista_datos if palabra in lista_palabras]\n",
    "        return palabras_filtradas"
   ]
  },
  {
   "cell_type": "code",
   "execution_count": 160,
   "id": "bd6d99e5",
   "metadata": {},
   "outputs": [
    {
     "name": "stdout",
     "output_type": "stream",
     "text": [
      "Palabras filtradas: ['obimace', 'agüimes', 'olivares', 'caiss', 'española_patentes', 'marcas', 'álava', 'impacto', 'finalidad', 'acompañamiento', 'real_decreto', 'bonete', 'peñascosa', 'masegoso', 'orden_pedido', 'fac', 'baños_encina', 'socovos', 'pozuelo', 'higueruela', 'albatana', 'alcalá_júcar', 'alatoz', 'bibliográfico', 'folleto', 'económica_financiera', 'exposición_temporal', 'roll_up', 'alhama', 'campillo', 'san_agustín', 'guadalix', 'servizos', 'organizado_jm', 'condado', 'bibliográfico_audiovisual', 'cenes_vega', 'san_antón', 'ossa', 'valdivia', 'educación_cultura', 'electricidad_periodo', 'vpo', 'subsecretaría_conselleria', 'acuartelamiento_guardia', 'obimace', 'inspección_periódico', 'subsanación_deficiencia', 'santa_brígida', 'camí', 'oca', 'acs', 'social_marina', 'grupo_presión', 'jesús', 'salón_acto', 'público_empleo', 'puente_genil', 'servicios_múltiples', 'subsecretaría_ministerio', 'avda', 'victoria_acentejo', 'redactado', 'española_patentes', 'honorario', 'valorado', 'castilleja_cuesta', 'inmueble_sito', 'facultativa_coordinación', 'adyacente', 'término', 'proyecto_básico', 'eliminación_barrera', 'finalidad_promover', 'pos', 'santa_ana', 'municipios_provincias', 'esquina', 'adecuado', 'fuente_cantos', 'tirajana', 'aprobado', 'término', 'servicios_avanzados', 'vilagarcia_arousa', 'definición', 'criterio', 'impartición_formativo', 'facilitar', 'finalidad', 'participativo', 'aspecto', 'ofrecer', 'objeto_consistir', 'constituir_objeto', 'art_ley', 'simplificado_abreviado', 'derivado_sda', 'noviembre_contratos', 'simplificado_abreviado', 'reales', 'bierzo', 'gregorio', 'num', 'mcss_nº', 'establecimiento_clasificación', 'ley_contratos', 'ambulatorio_ámbito', 'vida_hito', 'convencional', 'embargado_unidades', 'ámbito_influencia', 'galería_colecciones', 'cbam_am', 'realització_demostratius', 'reactivo_determinación', 'exp_siglo', 'unidades_integrado', 'estudi', 'mairena_aljarafe', 'consultor_ayuntamientos', 'mairena', 'reservado_especial', 'ley_noviembre', 'revista_consultor', 'bierzo', 'sector_ponent', 'especial_carácter', 'condición_especial', 'pedido_abierto', 'elementos', 'consorcio_compensación', 'infraestructures', 'certificació', 'tabares', 'entitat', 'ciem_valle', 'tractament', 'besòs', 'recollido', 'sant_adrià', 'alumno_as', 'editado_españa', 'ciem_montañeta', 'acord_marc', 'altres', 'endavant', 'fins', 'tipus', 'voluminoso', 'artes_icas', 'reconocimiento_obligación', 'marina_alta', 'cspm_iii', 'localidad_xxviii', 'localidad_xxvii', 'localidad_xxvi', 'nicolás', 'factura_oasshi', 'pobles_anualidad', 'continuación_detallar', 'mostra_iniciativas', 'relación_factura', 'agosto_noches', 'miguel_abona', 'soderin_veintiuno', 'rinconada', 'santa_clara', 'justificativo_ejercicio', 'imagerunner_advance', 'primaria_rt', 'black_white', 'contrder', 'garcia', 'anem_biblio', 'sesión_narración', 'club_lectura', 'alimentacion_reunión', 'justificativo_modificado', 'v_congreso', 'protocolario_recepción', 'pròrroga', 'martinez', 'encuadernación_tapa', 'consejos', 'ciencia_tecnología', 'cultural_cigarreras', 'programa_anem', 'nº_infr', 'copia_mod', 'petición_infr', 'revista_consultor', 'blot', 'particulars', 'particular', 'co_cieza', 'amb_motiu', 'activitats', 'acord_marc', 'gorgos', 'lots', 'subministrament_règim', 'codi_tmb', 'actes', 'liceu', 'equips', 'consistent', 'prestació', 'prestación', 'coordinació', 'coordinació_seguretat', 'direcció_coordinació', 'nucli', 'duración_hora', 'ss_ge', 'agrupación_base', 'matacán', 'pequeño_utillaje', 'resiliencia_financiado', 'molina', 'consorcio_zona', 'sexto_pedido', 'ojj', 'oojj', 'crts', 'objeto_ejecutar', 'proyecto', 'obres_projecte', 'and', 'internacional_normalización', 'general_racionalización', 'señora', 'dg_n', 'adherido_localidad', 'instrucciones_internas', 'plaça', 'tram', 'projecte_bàsic', 'executiu', 'memòria_valorado', 'carrers', 'can', 'dad', 'tot', 'persón', 'persón_amb', 'qual', 'també', 'promoció', 'bienal']\n"
     ]
    }
   ],
   "source": [
    "# Llamada a la función\n",
    "resultado_filtrado = filtrar_palabras(lista_palabras, datos)\n",
    "print(\"Palabras filtradas:\", resultado_filtrado)"
   ]
  },
  {
   "cell_type": "code",
   "execution_count": 161,
   "id": "97231191",
   "metadata": {},
   "outputs": [
    {
     "data": {
      "text/plain": [
       "250"
      ]
     },
     "execution_count": 161,
     "metadata": {},
     "output_type": "execute_result"
    }
   ],
   "source": [
    "len(resultado_filtrado)"
   ]
  },
  {
   "cell_type": "code",
   "execution_count": 165,
   "id": "04eac534",
   "metadata": {},
   "outputs": [
    {
     "name": "stdout",
     "output_type": "stream",
     "text": [
      "Palabras añadidas correctamente al archivo.\n"
     ]
    }
   ],
   "source": [
    "# Ruta al archivo de stopwords manual, añadir \n",
    "file_path = '/export/usuarios_ml4ds/cggamella/NP-Search-Tool/sample_data/stopwords/tf_idf.txt'\n",
    "\n",
    "# Escribir las palabras de baja importancia al archivo de stopwords, añadiendo nuevas líneas\n",
    "try:\n",
    "    with open(file_path, 'w') as file:\n",
    "        for word in resultado_filtrado:\n",
    "            #file.write(word + '\\n')\n",
    "    print(\"Palabras añadidas correctamente al archivo.\")\n",
    "except IOError:\n",
    "    print(\"Error: No se pudo abrir o escribir en el archivo.\")"
   ]
  },
  {
   "cell_type": "code",
   "execution_count": 168,
   "id": "d90c9bd0",
   "metadata": {},
   "outputs": [
    {
     "name": "stdout",
     "output_type": "stream",
     "text": [
      "Archivo leído correctamente:\n",
      "                                                   0\n",
      "0                    aparato_aire:aire_acondicionado\n",
      "1    nacional_supercomputación:supercomputing_center\n",
      "2                  laentidad_pública:entidad_pública\n",
      "3                           urbanístico:urbanización\n",
      "4                              inversiones:inversión\n",
      "..                                               ...\n",
      "493                                       niña:niños\n",
      "494                          autonomía_clm:autonomía\n",
      "495                                  sanchez:sánchez\n",
      "496                                   premio:premios\n",
      "497                                        menu:menú\n",
      "\n",
      "[498 rows x 1 columns]\n"
     ]
    }
   ],
   "source": [
    "# Ruta al archivo de stopwords manual, añadir \n",
    "archivo_txt = '/export/usuarios_ml4ds/cggamella/NP-Search-Tool/sample_data/eq.txt'\n",
    "# Leer el archivo .txt utilizando pandas\n",
    "try:\n",
    "    datos = pd.read_csv(archivo_txt, sep='\\t', header=None)  \n",
    "    print(\"Archivo leído correctamente:\")\n",
    "    print(datos)\n",
    "except FileNotFoundError:\n",
    "    print(\"Error: Archivo no encontrado.\")\n",
    "except pd.errors.ParserError:\n",
    "    print(\"Error: No se pudo interpretar el archivo correctamente.\")\n"
   ]
  },
  {
   "cell_type": "code",
   "execution_count": 171,
   "id": "e18e8989",
   "metadata": {},
   "outputs": [
    {
     "name": "stdout",
     "output_type": "stream",
     "text": [
      "{'aparato_aire': 'aire_acondicionado', 'nacional_supercomputación': 'supercomputing_center', 'laentidad_pública': 'entidad_pública', 'urbanístico': 'urbanización', 'inversiones': 'inversión', 'pgou': 'plan_general_ordenación_urbana', 'cma': 'certifiación_cma', 'pci': 'certificación_pci', 'hermanas': 'hermana', 'parques': 'parque', 'modificado': 'modifiación', 'urb': 'urbanización', 'pymes': 'pyme', 'políticas_sociales': 'política_social', 'investigaciones_oncológicas': 'investigación_oncológica', 'institut_cartogràfic': 'instituto_cartográfico', 'cartogràfic_geològic': 'institut_cartogràfic', 'computarizada': 'tomografía_axial_computarizada', 'topogràfica_escala': 'escala_topográfica', 'revisió_cartografia': 'revisión_cartográfica', 'radiodiagnóstico_ecografía': 'ecografía', 'radiodiagnóstico_resonancia': 'resonancia', 'axial_computarizada': 'tomografía_axial_computarizada', 'rtvc_tf': 'rtvc', 'magnética_nuclear': 'resonancia_magnética', 'resonancia_magnético': 'resonancia_magnética', 'prueba_resonancia': 'resonancia', 'canaria_doctor': 'doctor', 'artesanía_comunitat': 'artesanía', 'clínic_hcb': 'hospital_clinic_barcelona', 'hcb': 'hospital_clinic_barcelona', 'hcb_resuelta': 'hospital_clinic_barcelona', 'sang_teixits': 'sangre_tejidos', 'clínic': 'clínica', 'com_condiceír': 'condicionar', 'consultorio': 'consulta', 'implantabl': 'implantar', 'implantabl_holter': 'holter', 'conservación_cpcmálaga': 'consejo_participación_ciudadana', 'cpc': 'consejo_participación_ciudadana', 'subcontractad_com': 'subcontratar', 'mesures_ambientals': 'medidas_ambientales', 'com_criteris': 'criterio', 'valéncia_comunitat': 'comunidad_valenciana', 'universitat_valéncia': 'upv', 'residencia_caixa': 'caixa', 'fisabio_oftalmología': 'fisabio', 'valenciana_fisabio': 'fisabio', 'biomédica_comunitat': 'biomédica', 'minero_españa': 'minero', 'procurador_común': 'procurador', 'traducción_científico': 'traducción', 'icra_resuelta': 'icra', 'recerca_icra': 'instituto_recerca', 'euskotrenbideak_ffcc': 'euskotren', 'oftalmología_médica': 'oftalmología', 'especialidad_oftalmología': 'oftalmología', 'productos_oftalmología': 'oftalmología', 'salud_illes': 'salud', 'sscc': 'religiosas_sagrados_corazones', 'sscc_pro': 'religiosas_sagrados_corazones', 'sscc_pn': 'religiosas_sagrados_corazones', 'sscc_pa': 'religiosas_sagrados_corazones', 'i_investigació': 'investigación', 'emergencias_principado': 'emergencias', 'urgencias_emergencias': 'emergencias', 'dp_inss': 'insituto_nacional_seguridad_social', 'tgss_inss': 'insituto_nacional_seguridad_social', 'trabajo_insst': 'insituto_nacional_seguridad_social', 'mancomunitat_municipis': 'mancomunidad_municipios', 'mancomunitat': 'mancomunidad', 'residus': 'residuo', 'juventud_ideo': 'juventud', 'banc_sang': 'banco_sangre', 'centre_reinserció': 'centro_reinserción', 'gestió_residus': 'gestión_residuos', 'factura_proforma': 'factura', 'telecomunicacions_innovació': 'inovación_telecomunicaciones', 'telecomunicaciones_asistencia': 'asistencia_telecomunicaciones', 'telecomunicaciones_tecnologías': 'telecomunicaciones', 'telecomunicaciones_sandetel': 'telecomunicaciones', 'centre_telecomunicacions': 'telecomunicaciones', 'serveis_telecom': 'telecomunicaciones', 'material_dgam': 'dirección_general_armamento_material', 'tractament_residus': 'tratamiento_residuos', 'residus_municipals': 'residuos_municipales', 'contenidors': 'contenedor', 'serveis_ambientals': 'medio_ambiente', 'sostenibilidad_ambiente': 'sostenibilidad', 'cofinanciado_fse': 'fse', 'laboratori': 'laboratorio', 'equips': 'equipo', 'residus_vallès': 'residuos', 'eliminación_residuo': 'residuos', 'recoger_residuo': 'residuos', 'selectivo_residuo': 'residuos', 'recollida_residus': 'recogida_residuos', 'tratamiento_residuo': 'tratamiento_residuos', 'centre_tractament': 'centro_tratamiento_residuos', 'servei_recollidor': 'recogida_residuos', 'transport_residus': 'transporte_residuos', 'recollido_transport': 'transporte', 'proposta_ado': 'propuesta', 'mediambientals_sa': 'medio_ambiente', 'revisió': 'revisión', 'manteniment_preventiu': 'mantenimiento_preventivo', 'crtm': 'consorcio_regional_transportes_madrid', 'vehicl': 'vehículo', 'vehicle': 'vehículo', 'transport_tractament': 'transporte', 'música_pobles': 'música', 'deixalleria': 'punto_verde', 'planta_compostatge': 'planta_compostaje', 'substitució': 'substitución', 'neteja_viària': 'limpieza_viaria', 'servei_recollida': 'servicio_recogida', 'sòlids_urbans': 'residuos_sólidos_urbanos', 'istec': 'consorcio_iberoamericano_educación_ciencia_tecnología', 'administració_compto': 'administración', 'guata_ús': 'guata', 'mèdic': 'medicina', 'consultorio_médico': 'médico', 'médico_hospitalario': 'médico', 'servicios_médicos': 'médico', 'médico_gasa': 'médico', 'médico_hospitales': 'hospital', 'médica': 'médico', 'unidad_médica': 'médico', 'prescripción_médico': 'prescripción_médica', 'joan_xxiii': 'juan_xxiii', 'departamento_salud': 'salud', 'incluido_programación': 'programación', 'concierto_banda': 'concierto', 'espacio_turina': 'icas_sevilla', 'artes_icas': 'icas_sevilla', 'icas': 'icas_sevilla', 'campanya_música': 'música', 'proyección_cinematográfico': 'cine', 'proyección_cine': 'cine', 'filmoteca_española': 'filmoteca', 'joventut': 'juventud', 'edición_festival': 'festival', 'proyección_película': 'película', 'detallar_espectáculo': 'espectáculo', 'transports_municipals': 'transporte', 'conserva_ultramarino': 'ultramarino', 'ultramarino_dependiente': 'ultramarino', 'jove': 'juventud', 'pescado_marisco': 'marisco', 'industriales_sepi': 'sepi', 'mostra_mediterrani': 'mediterráneo', 'químico_desechabl': 'químico_desechable', 'cine_doré': 'cine', 'consumibl_hematológico': 'consumible_hematológico', 'alimenticio': 'alimentación', 'endoscopia_endocirugía': 'endoscopia', 'festival_spanish': 'festival', 'bienal_flamenco': 'flamenco', 'festival_flamenco': 'flamenco', 'costa_proaguas': 'costa', 'parc_salut': 'consorci_mar', 'mar_parc': 'consorci_mar', 'molusco_lonja': 'lonja', 'prensa_revista': 'prensa', 'vinculado_memoria': 'memoria', 'española_ciencia': 'ciencia', 'parlament_illes': 'parlamento_islas', 'icfo_institut': 'instituto_icfo', 'ciències_fotòniques': 'icfo_institut', 'parador_aiguablava': 'aiguablava', 'lonja_aiguablava': 'aiguablava', 'coordinador_bibliotecas': 'bibliotecas', 'model': 'modelo', 'parador_mazagón': 'mazagón', 'lonja_mazagon': 'mazagón', 'parador_muxia': 'muxia', 'lonja_muxia': 'muxia', 'autònoma_illes': 'islas_baleares', 'abastecimiento_mercacórdoba': 'abastecimiento', 'samsung_periodo': 'samsung', 'barrios': 'barrio', 'conjunto_medicament': 'medicamento', 'sector_públic': 'sector_público', 'impresión_lona': 'impresión', 'impresión_cartel': 'impresión', 'muncyt': 'museo_nacional_ciencia_tecnología', 'española_lucha': 'lucha', 'geològic': 'geológico', 'geològic_resuelta': 'geológico', 'facultad_medicina': 'medicina', 'desplazamiento_taxi': 'taxi', 'recerca': 'instituto_recerca', 'institut_recerca': 'instituto_recerca', 'recerca_vhir': 'instituto_recerca', 'acceso_concurrent': 'acceso_concurrente', 'espacio_emblemático': 'emblemático', 'consulta_enfermería': 'enfermería', 'polimerasa_multiplex': 'reacción_cadena_polimerasa', 'cadena_polimerasa': 'reacción_cadena_polimerasa', 'polimerasa_cobas': 'polimerasa', 'estudi': 'estudio', 'salud_consultorios': 'salud', 'atención_ivass': 'instituto_ivass', 'ivass': 'instituto_ivass', 'normativa_vigent': 'normativa_vigente', 'sanitarios_area': 'sanitarios', 'cicle': 'ciclo', 'social_nº': 'seguridad_social', 'agència_catalana': 'agencia_catalana', 'imserso_alcuescar': 'imserso', 'deporte_fmd': 'fundación_municipal_deporte', 'diputació': 'diputación', 'transports_sa': 'transportes', 'fira': 'feria', 'serveis_municipals': 'servicios_municipales', 'entitats_locals': 'entidades_locales', 'producció': 'producción', 'fundació_teatre': 'teatro', 'muntatge': 'montaje', 'disseny': 'diseño', 'publicitat': 'publicidad', 'muntatge_desmuntatge': 'montaje', 'societat': 'sociedad', 'comunicació': 'comunicación', 'campanya': 'campaña', 'materials': 'material', 'turisme': 'tursimo', 'adquisiceír': 'adquisición', 'desmuntatge': 'desmontaje', 'festa_major': 'fiesta', 'concert': 'concierto', 'tècnico': 'técnico', 'medi_ambient': 'medio_ambiente', 'protecció': 'protección', 'valencià': 'valencia', 'jardins': 'jardín', 'museu': 'museo', 'consorci_museu': 'museo', 'policia': 'polícia', 'projectes': 'proyecto', 'paviment': 'pavimento', 'rey_juan': 'rey_juan_carlos', 'juan_carlos': 'rey_juan_carlos', 's_polvo': 'povlo', 'turisme_comunitat': 'turismo', 'contractació_pot': 'contratación', 'centro_estudioos': 'centro_estudios', 'icex_españa': 'icex', 'icex_dakar': 'icex', 'icex_contratado': 'icex', 'portales_icex': 'icex', 'fiscalicex': 'icex', 'icexlnvest': 'icex', 'icex_berlinale': 'icex', 'nºsidae': 'idae', 'abastecimiento_mallorca': 'abastecimiento', 'iriaf': 'instituto_iriaf', 'forestal_mancha': 'instituto_iriaf', 'corporació_catalana': 'corporación_catalana_medios_audiovisuales', 'mitjans_audiovisuals': 'corporación_catalana_medios_audiovisuales', 'laborales': 'laboral', 'labora': 'laboral', 'médico_incibe': 'instituto_incibe', 'incibeinspira': 'instituto_incibe', 'españa_incibe': 'instituto_incibe', 'incibe': 'instituto_incibe', 'ciberseguridad_incibe': 'instituto_incibe', 'merchandising_incibe': 'instituto_incibe', 'impossibilitats': 'imposibildad', 'persones_dependents': 'personas_dependientes', 'bculture': 'cultura', 'professionals': 'profesional', 'loscertificado_profesionalidad': 'certificado_profesional', 'actualització': 'actualización', 'unión_mutuas': 'mutualidad', 'mutualismo': 'mutualidad', 'mutualitats': 'mutualidad', 'mutualitat': 'mutualidad', 'mutuas': 'mutualidad', 'mutuas_accidentes': 'mutualidad', 'mutualista': 'mutualidad', 'mutuas_colaboradoras': 'mutualidad', 'clinica_mutualidad': 'mutualidad', 'mutualidad_funcionarios': 'mutualidad', 'synchronize_mutua': 'sincronización', 'mcss': 'mutuas_claboradoras_seguridad_social', 'mutuas_mcss': 'mutuas_claboradoras_seguridad_social', 'cyclops_mcss': 'mutua_cyclops', 'midat_cyclops': 'mutua_cyclops', 'egarsat_mcss': 'mutua_egarsat', 'egarsat_mutuo': 'mutua_egarsat', 'egarsat_mutua': 'mutua_egarsat', 'protegida_egarsat': 'mutua_egarsat', 'protegido_egarsat': 'mutua_egarsat', 'egarsat_egarsat': 'mutua_egarsat', 'egarsatsp': 'mutua_egarsat', 'activa_mutua': 'mutua_activa', 'trabajo_enfermadades': 'enfermedades_trabajo', 'estatal_loterías': 'loterías_del_estado', 'lotería_nacional': 'loterías_del_estado', 'lotería_apuestas': 'loterías_del_estado', 'juego_lotería': 'loterías_del_estado', 'juego_loterías': 'loterías_del_estado', 'loterías': 'loterías_del_estado', 'ús_medicina': 'medicina', 'neurodegenerativas_ciberned': 'ciberned', 'red_enfermedades': 'enfermedad', 'mat_fungible': 'material_fungible', 'boletín_oficial': 'boletín_oficial_del_estado', 'boes': 'boletín_oficial_del_estado', 'consorci_sanitari': 'consorcio_santiario', 'consorci_mar': 'consorcio_mar', 'pequeño_electricidad': 'electricidad', 'consumibl_sustitución': 'consumible', 'arts_sofía': 'museo_reina_sofía', 'arte_sofía': 'museo_reina_sofía', 'electricidad_calefacción': 'calefacción', 'pequeño_fontanería': 'fontanería', 'mitjans_comunicación': 'corporación_cvmc', 'comunicación_cvmc': 'corporación_cvmc', 'cvmc_sociedad': 'corporación_cvmc', 'cpp_cvmc': 'corporación_cvmc', 'riedel_cvmc': 'corporación_cvmc', 'samc_cvmc': 'corporación_cvmc', 'cvmc': 'corporación_cvmc', 'corporació_valenciana': 'corporación_cvmc', 'ambulatorio_población': 'ambulatorio', 'politécnica': 'universidad_politécnica', 'upm': 'universidad_politécnica', 'universitat_politècnica': 'universidad_politécnica', 'ucm': 'universidad_complutense', 'turismo_españa': 'turismo', 'establecimiento_paradores': 'paradores', 'pope': 'papa', 'estrategia_urbanizaciónano': 'estrategia_urbanización', 'xunta_goberno': 'junta_gobierno', 'ab_mariscos': 'mariscos', 'exportación_cesce': 'cesce', 'cesce_ciac': 'cesce', 'olimpiadas_cesce': 'cesce', 'cesce_lisboa': 'cesce', 'cesce_latinoamérica': 'cesce', 'filial_cesce': 'cesce', 'sucursal_cesce': 'cesce', 'cesce_portugal': 'cesce', 'convención_cesce': 'cesce', 'consorcio_zona': 'consorcio_zona_franca', 'canal_isabel': 'canal_isabel_ii', 'isabel_ii': 'canal_isabel_ii', 'verificaciones_industriales': 'verificación_industrial', 'ejie': 'sociedad_informática_gobierno_vasco', 'ejie_osakidetza': 'sociedad_informática_gobierno_vasco', 'osakidetza_ejie': 'sociedad_informática_gobierno_vasco', 'convergencia_ejie': 'sociedad_informática_gobierno_vasco', 'normalizado_ejie': 'sociedad_informática_gobierno_vasco', 'eitb': 'radio_televisión_pública_vasca', 'eitb_maratoia': 'radio_televisión_pública_vasca', 'telebista_eitb': 'radio_televisión_pública_vasca', 'eitb_media': 'radio_televisión_pública_vasca', 'continuidad_eitb': 'radio_televisión_pública_vasca', 'plató_eitb': 'radio_televisión_pública_vasca', 'eitb_miramon': 'radio_televisión_pública_vasca', 'eitb_miramón': 'radio_televisión_pública_vasca', 'universitario_gregorio': 'hospital_universitario_gregorio_marañón', 'gregorio_marañon': 'hospital_universitario_gregorio_marañón', 'gregorio_marañón': 'hospital_universitario_gregorio_marañón', 'marañon': 'hospital_universitario_gregorio_marañón', 'marañón': 'hospital_universitario_gregorio_marañón', 'cspt': 'corporación_sanitària_parc_taulí', 'sanitària_parc': 'corporación_sanitària_parc_taulí', 'taulí_resuelta': 'corporación_sanitària_parc_taulí', 'salud_osasunbidea': 'salud', 'aaee': 'academia_aaee', 'aaee_solicitud': 'academia_aaee', 'govern_local': 'govierno_local', 'tecnologies_informació': 'telecomunicaciones', 'fundació_universitat': 'universidad', 'universitat': 'universidad', 'oberta': 'abierta', 'programari': 'software', 'llicències': 'licencias', 'serveis_socials': 'servicios_sociales', 'risco_laborals': 'riesgos_laborales', 'afers_socials': 'asuntos_sociales', 'famílies_resuelta': 'familias', 'axencia_galega': 'agencia_gallega', 'sujetar_regulación': 'regulación', 'axencia_turismo': 'agencia_turismo', 'universitat_pompeu': 'universidad_pompeu_fabra', 'fabra': 'universidad_pompeu_fabra', 'carretera_pk': 'carretera', 'serveis_universitaris': 'servicios_universitarios', 'tram': 'tren', 'rio_hortega': 'hospital_rio_hortega', 'río_hortega': 'hospital_rio_hortega', 'hospital_univ': 'hospital', 'evolutivo': 'evolución', 'fibra_óptico': 'fibra_óptica', 'sed_crtve': 'rtve', 'conductor_crtve': 'rtve', 'crtve': 'rtve', 'cpp_rtve': 'rtve', 'rtve_eett': 'rtve', 'higienización_crtve': 'rtve', 'vending_crtve': 'rtve', 'contribución_crtve': 'rtve', 'ct_rtve': 'rtve', 'ocrtve': 'rtve', 'taxi_crtve': 'rtve', 'irtve': 'rtve', 'señal_rtve': 'rtve', 'mercancía_crtve': 'rtve', 'cliente_rtve': 'rtve', 'rtve_cliente': 'rtve', 'concierto_ortve': 'concierto_rtve', 'informativa_rtve': 'informativo_rtve', 'rtveplay': 'rtve_play', 'extremeño_público': 'sexpe', 'mrr_sexpe': 'sexpe', 'empleo_sexpe': 'sexpe', 'server': 'servidor', 'recurso_humano': 'recursos_humanos', 'rrhh': 'recursos_humanos', 'rrhh_nómina': 'nómina', 'puertos': 'puerto', 'cofinanciado_feder': 'fondo_feder', 'feder_crecimiento': 'fondo_feder', 'feder_convocatorio': 'fondo_feder', 'feder_plurirregional': 'fondo_feder', 'cofinanciado': 'cofinanciación', 'cofinanciada_fondo': 'cofinanciación', 'españa_papa': 'papa', 'vacuna_frente': 'vacuna', 'cofinanciado_unión': 'cofinanciación', 'movilidad_urbanizaciónana': 'movilidad_urbana', 'mobiliario_urbanizaciónano': 'mobiliario_urbanización', 'casco_urbanizaciónano': 'casco_urbano', 'reurbanizaciónanización': 'reurbanización', 'arquitectónico': 'arquitectura', 'especiales_empleo': 'empleo', 'canto': 'cantos', 'catastral': 'catastro', 'polígono_parcela': 'parcela_polígono', 'municipio': 'municipios', 'ivf': 'clínica_ivf', 'finances_ivf': 'clínica_ivf', 'prórroga_ivf': 'clínica_ivf', 'prórrogar_ivf': 'clínica_ivf', 'ivf_inferior': 'clínica_ivf', 'colegios_públicos': 'colegio_público', 'dependencias_municipales': 'dependencia_municipal', 'clínicaa_universitaria': 'clínica', 'estudioos_navegación': 'estudios_navegación', 'subasta_aprovechamiento': 'subasta', 'alto_velocidad': 'alta_velocidad', 'penitenciarios': 'centro_penitenciario', 'penitenciarios_dependiente': 'centro_penitenciario', 'idioma_inglés': 'inglés', 'idioma_ingles': 'inglés', 'idioma_españold': 'español', 'idioma_italiano': 'italiano', 'idioma_ruso': 'ruso', 'idioma_árabe': 'árabe', 'idioma_portugués': 'portugués', 'sector_públicoo': 'sector_público', 'ambulatorio_localidad': 'ambulatoio', 'fisioterapia_régimen': 'fisioterapia', 'público_trabajo': 'trabajo_público', 'juegos_infantil': 'juegos_infantiles', 'plaza_toro': 'plaza_toros', 'niño_niña': 'niños', 'niño': 'niños', 'niña': 'niños', 'autonomía_clm': 'autonomía', 'sanchez': 'sánchez', 'premio': 'premios', 'menu': 'menú'}\n"
     ]
    }
   ],
   "source": [
    "# Convertir la columna del DataFrame en una lista\n",
    "lineas = datos.iloc[:, 0].tolist()\n",
    "\n",
    "# Crear el diccionario dividiendo cada línea por el delimitador ':'\n",
    "diccionario = {}\n",
    "\n",
    "for linea in lineas:\n",
    "    if linea:  # Verificar que la línea no esté vacía\n",
    "        clave, valor = linea.split(':')\n",
    "        diccionario[clave.strip()] = valor.strip()  # Eliminar espacios en blanco opcionales\n",
    "\n",
    "print(diccionario)"
   ]
  },
  {
   "cell_type": "code",
   "execution_count": 174,
   "id": "c9a32b9c",
   "metadata": {},
   "outputs": [
    {
     "name": "stdout",
     "output_type": "stream",
     "text": [
      "Palabras filtradas: {}\n"
     ]
    }
   ],
   "source": [
    "resultado_filtrado = filtrar_palabras(lista_palabras, datos, dict=True)\n",
    "print(\"Palabras filtradas:\", resultado_filtrado)"
   ]
  },
  {
   "cell_type": "code",
   "execution_count": null,
   "id": "42d103ef",
   "metadata": {},
   "outputs": [],
   "source": [
    "'''\n",
    "# Ruta donde se encuentran los archivos de stopwords\n",
    "ruta_stopwords = '/export/usuarios_ml4ds/cggamella/NP-Search-Tool/sample_data/stopwords'\n",
    "\n",
    "# Cargar todas las stopwords desde los archivos\n",
    "stopwords = set()\n",
    "for archivo in os.listdir(ruta_stopwords):\n",
    "    if archivo.endswith('.txt'):\n",
    "        ruta_completa = os.path.join(ruta_stopwords, archivo)\n",
    "        with open(ruta_completa, 'r', encoding='utf-8') as f:\n",
    "            stopwords.update(f.read().splitlines())\n",
    "\n",
    "# Vectorizar el proceso de eliminación de stopwords\n",
    "def eliminar_stopwords(fila):\n",
    "    return ' '.join([palabra for palabra in fila.split() if palabra not in stopwords])\n",
    "\n",
    "# Aplicar la función de manera vectorizada\n",
    "df_preprocesado['lemmas'] = df_preprocesado['lemmas'].apply(eliminar_stopwords)\n",
    "'''"
   ]
  },
  {
   "cell_type": "markdown",
   "id": "e47941eb",
   "metadata": {},
   "source": [
    "Antes de aplicar las stopwords"
   ]
  },
  {
   "cell_type": "code",
   "execution_count": null,
   "id": "3b7b49cc",
   "metadata": {},
   "outputs": [],
   "source": [
    "df_preprocesado['lemmas'].iloc[200030]"
   ]
  },
  {
   "cell_type": "markdown",
   "id": "992ec401",
   "metadata": {},
   "source": [
    "Después de aplicar las stopwords"
   ]
  },
  {
   "cell_type": "code",
   "execution_count": null,
   "id": "fbd4b8ff",
   "metadata": {},
   "outputs": [],
   "source": [
    "df_preprocesado['lemmas'].iloc[200030]"
   ]
  },
  {
   "cell_type": "code",
   "execution_count": null,
   "id": "7f669fe8",
   "metadata": {},
   "outputs": [],
   "source": [
    "df_preprocesado"
   ]
  }
 ],
 "metadata": {
  "kernelspec": {
   "display_name": "Python 3 (ipykernel)",
   "language": "python",
   "name": "python3"
  },
  "language_info": {
   "codemirror_mode": {
    "name": "ipython",
    "version": 3
   },
   "file_extension": ".py",
   "mimetype": "text/x-python",
   "name": "python",
   "nbconvert_exporter": "python",
   "pygments_lexer": "ipython3",
   "version": "3.10.11"
  }
 },
 "nbformat": 4,
 "nbformat_minor": 5
}
